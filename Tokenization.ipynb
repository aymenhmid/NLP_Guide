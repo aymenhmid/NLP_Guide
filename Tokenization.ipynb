{
  "nbformat": 4,
  "nbformat_minor": 0,
  "metadata": {
    "colab": {
      "provenance": [],
      "gpuType": "T4",
      "authorship_tag": "ABX9TyMH6wSXksOuHnNvgGvDY70K",
      "include_colab_link": true
    },
    "kernelspec": {
      "name": "python3",
      "display_name": "Python 3"
    },
    "language_info": {
      "name": "python"
    },
    "accelerator": "GPU"
  },
  "cells": [
    {
      "cell_type": "markdown",
      "metadata": {
        "id": "view-in-github",
        "colab_type": "text"
      },
      "source": [
        "<a href=\"https://colab.research.google.com/github/aymenhmid/NLP_Guide/blob/main/Tokenization.ipynb\" target=\"_parent\"><img src=\"https://colab.research.google.com/assets/colab-badge.svg\" alt=\"Open In Colab\"/></a>"
      ]
    },
    {
      "cell_type": "markdown",
      "source": [
        "Here's a detailed breakdown of **tokenization in NLP**, covering its purpose, types, challenges, techniques, and tools:\n",
        "\n",
        "---\n",
        "\n",
        "### **What is Tokenization?**\n",
        "The process of splitting text into smaller meaningful units called **tokens** (e.g., words, subwords, characters, or symbols). Tokens become the basic units for downstream NLP tasks like parsing, sentiment analysis, or machine translation.\n",
        "\n",
        "---\n",
        "\n",
        "### **Why Tokenization Matters**\n",
        "- Converts unstructured text into structured data for machines.\n",
        "- Reduces complexity by breaking text into manageable units.\n",
        "- Enables feature extraction (e.g., word frequency, n-grams).\n",
        "- Handles language-specific nuances (e.g., compound words, contractions).\n",
        "\n",
        "---\n",
        "\n",
        "### **Types of Tokenization**\n",
        "1. **Word-Level Tokenization**  \n",
        "   Splits text into words.  \n",
        "   - Example: `\"Don't panic!\" → [\"Don't\", \"panic\", \"!\"]`  \n",
        "   - **Challenges**:  \n",
        "     - Contractions (`don't` vs. `do not`).  \n",
        "     - Hyphenated words (`state-of-the-art`).  \n",
        "     - Languages without spaces (e.g., Chinese, Japanese).\n",
        "\n",
        "2. **Subword Tokenization**  \n",
        "   Splits rare/unknown words into smaller units (e.g., prefixes, suffixes).  \n",
        "   - Example: `\"unhappiness\" → [\"un\", \"happiness\"]`  \n",
        "   - Used in modern models (BERT, GPT) to handle out-of-vocabulary (OOV) words.  \n",
        "   - Popular methods: **Byte-Pair Encoding (BPE)**, **WordPiece**, **SentencePiece**.\n",
        "\n",
        "3. **Character-Level Tokenization**  \n",
        "   Splits text into individual characters.  \n",
        "   - Example: `\"cat\" → [\"c\", \"a\", \"t\"]`  \n",
        "   - Useful for languages with large alphabets (e.g., Chinese).  \n",
        "   - **Drawback**: Loses semantic meaning of words.\n",
        "\n",
        "4. **Sentence/Paragraph Tokenization**  \n",
        "   Splits text into sentences or paragraphs.  \n",
        "   - Example: `\"Hello! How are you?\" → [\"Hello!\", \"How are you?\"]`  \n",
        "\n",
        "---\n",
        "\n",
        "### **Common Tokenization Techniques**\n",
        "1. **Whitespace Tokenization**  \n",
        "   Splits text based on spaces.  \n",
        "   - Simple but fails with punctuation (e.g., `\"Hello,world\"` → `[\"Hello,world\"]`).\n",
        "\n",
        "2. **Punctuation-Based Tokenization**  \n",
        "   Splits on spaces and punctuation.  \n",
        "   - Example: `\"Can't!\" → [\"Can\", \"t\", \"!\"]` (may oversplit).\n",
        "\n",
        "3. **Regex-Based Tokenization**  \n",
        "   Uses regular expressions to define token boundaries.  \n",
        "   - Example: `re.findall(r\"\\w+|\\S\", text)` splits words and punctuation.\n",
        "\n",
        "4. **Rule-Based Tokenization**  \n",
        "   Uses language-specific rules (e.g., handling apostrophes in English).  \n",
        "   - Example: NLTK's `word_tokenize` splits `\"don't\"` into `[\"do\", \"n't\"]`.\n",
        "\n",
        "5. **Machine Learning-Based Tokenization**  \n",
        "   Trains models to identify token boundaries (common in subword tokenization).\n",
        "\n",
        "---\n",
        "\n",
        "### **Challenges in Tokenization**\n",
        "1. **Ambiguity**  \n",
        "   - `\"New York-based\"` → `[\"New\", \"York-based\"]` vs. `[\"New York\", \"based\"]`.\n",
        "   - `\"gummy bears\"` (candy) vs. `\"gummy bears\"` (stuffed animals).\n",
        "\n",
        "2. **Language-Specific Issues**  \n",
        "   - **German**: Compound words (`Donaudampfschifffahrtsgesellschaft`).  \n",
        "   - **Chinese/Japanese**: No spaces between words.  \n",
        "   - **Arabic**: Morphologically rich (prefixes/suffixes change meaning).\n",
        "\n",
        "3. **Domain-Specific Text**  \n",
        "   - Medical terms (`\"COVID-19\"`), code snippets, hashtags (`#ThrowbackThursday`).\n",
        "\n",
        "4. **Handling OOV Words**  \n",
        "   - Proper nouns, slang, or typos (e.g., `\"goooood\"`).\n",
        "\n",
        "---\n",
        "\n",
        "### **Popular Tokenization Tools**\n",
        "1. **NLTK** (Python)  \n",
        "  \n",
        "\n",
        "2. **spaCy** (Python)  \n",
        "   \n",
        "\n",
        "3. **Hugging Face Tokenizers**  \n",
        "  \n",
        "\n",
        "4. **Stanford CoreNLP** (Java)  \n",
        "   Robust for multilingual tokenization.\n",
        "\n",
        "---\n",
        "\n",
        "### **Subword Tokenization Algorithms**\n",
        "1. **Byte-Pair Encoding (BPE)**  \n",
        "   - Merges frequent character pairs iteratively.  \n",
        "   - Used in GPT-2, RoBERTa.\n",
        "\n",
        "2. **WordPiece**  \n",
        "   - Similar to BPE but prioritizes likelihood, not frequency.  \n",
        "   - Used in BERT.\n",
        "\n",
        "3. **SentencePiece**  \n",
        "   - Works directly on raw text (no pre-tokenization).  \n",
        "   - Used in multilingual models (T5).\n",
        "\n",
        "4. **Unigram Language Model**  \n",
        "   - Starts with a large vocabulary and prunes tokens.\n",
        "\n",
        "---\n",
        "\n",
        "### **Evaluation of Tokenization**\n",
        "- **Consistency**: Same word split the same way across contexts.  \n",
        "- **Downstream Performance**: Impact on tasks like translation or classification.  \n",
        "- **Vocabulary Size**: Balance between coverage and memory usage.  \n",
        "- **Computational Efficiency**: Speed of tokenization.\n",
        "\n",
        "---\n",
        "\n",
        "### **Applications of Tokenization**\n",
        "1. **Text Preprocessing** for NLP models.  \n",
        "2. **Named Entity Recognition** (identifying entities like `[ORG] Apple`).  \n",
        "3. **Machine Translation** (aligning source/target tokens).  \n",
        "4. **Search Engines** (indexing keywords).  \n",
        "\n",
        "---\n",
        "\n",
        "### **Best Practices**\n",
        "1. Choose tokenization based on **language** and **task** (e.g., subword for translation).  \n",
        "2. Handle **case sensitivity** (lowercasing vs. preserving case).  \n",
        "3. Normalize text (remove accents, convert to Unicode).  \n",
        "4. Use pre-trained tokenizers for transformer models (e.g., `BertTokenizer`).  \n",
        "\n",
        "---\n",
        "\n",
        "### **Example: Custom Tokenization with Regex**\n",
        "```python\n",
        "import re\n",
        "\n",
        "text = \"Email: user@example.com, #NLP\"\n",
        "pattern = r\"\"\"\n",
        "    \\w+@\\w+\\.\\w+      # Emails\n",
        "    |#\\w+             # Hashtags\n",
        "    |\\w+              # Words\n",
        "    |[^\\s\\w]          # Punctuation\n",
        "\"\"\"\n",
        "\n",
        "tokens = re.findall(pattern, text, re.VERBOSE)\n",
        "# ['Email', ':', 'user@example.com', ',', '#NLP']\n",
        "```\n",
        "\n",
        "---\n",
        "\n",
        "### **Recent Trends**\n",
        "- **Multilingual Tokenization**: Single tokenizer for multiple languages.  \n",
        "- **Subword Dominance**: BPE/WordPiece in transformer-based models.  \n",
        "- **Dynamic Tokenization**: Adaptive to domain-specific text (e.g., biomedical).\n",
        "\n",
        "---\n",
        "\n",
        "Tokenization is the foundation of NLP pipelines, and choosing the right strategy significantly impacts model performance. Always align your tokenization method with your data and task!"
      ],
      "metadata": {
        "id": "M5KO7OH0Dlqz"
      }
    },
    {
      "cell_type": "markdown",
      "source": [
        "#examples"
      ],
      "metadata": {
        "id": "AQf0pC9PDu2p"
      }
    },
    {
      "cell_type": "code",
      "source": [
        "#spacy\n",
        "import spacy\n",
        "nlp = spacy.load(\"en_core_web_sm\")\n",
        "doc = nlp(\"Apple is looking at buying U.K. startup.\")\n",
        "tokens = [token.text for token in doc]  # ['Apple', 'is', ...]"
      ],
      "metadata": {
        "id": "RXTkrzaiDwZv"
      },
      "execution_count": 1,
      "outputs": []
    },
    {
      "cell_type": "code",
      "source": [
        "#NLTK\n",
        "from nltk.tokenize import word_tokenize, sent_tokenize\n",
        "text = \"Hello, world! This is NLP.\"\n",
        "print(word_tokenize(text))  # ['Hello', ',', 'world', '!', ...]\n",
        "print(sent_tokenize(text))  # ['Hello, world!', 'This is NLP.']"
      ],
      "metadata": {
        "colab": {
          "base_uri": "https://localhost:8080/",
          "height": 744
        },
        "id": "e6lGF_leD8i1",
        "outputId": "81a07ad5-307f-4a2e-a002-7115be3a3813"
      },
      "execution_count": 2,
      "outputs": [
        {
          "output_type": "error",
          "ename": "LookupError",
          "evalue": "\n**********************************************************************\n  Resource \u001b[93mpunkt_tab\u001b[0m not found.\n  Please use the NLTK Downloader to obtain the resource:\n\n  \u001b[31m>>> import nltk\n  >>> nltk.download('punkt_tab')\n  \u001b[0m\n  For more information see: https://www.nltk.org/data.html\n\n  Attempted to load \u001b[93mtokenizers/punkt_tab/english/\u001b[0m\n\n  Searched in:\n    - '/root/nltk_data'\n    - '/usr/nltk_data'\n    - '/usr/share/nltk_data'\n    - '/usr/lib/nltk_data'\n    - '/usr/share/nltk_data'\n    - '/usr/local/share/nltk_data'\n    - '/usr/lib/nltk_data'\n    - '/usr/local/lib/nltk_data'\n**********************************************************************\n",
          "traceback": [
            "\u001b[0;31m---------------------------------------------------------------------------\u001b[0m",
            "\u001b[0;31mLookupError\u001b[0m                               Traceback (most recent call last)",
            "\u001b[0;32m<ipython-input-2-f362295f61f1>\u001b[0m in \u001b[0;36m<cell line: 0>\u001b[0;34m()\u001b[0m\n\u001b[1;32m      2\u001b[0m \u001b[0;32mfrom\u001b[0m \u001b[0mnltk\u001b[0m\u001b[0;34m.\u001b[0m\u001b[0mtokenize\u001b[0m \u001b[0;32mimport\u001b[0m \u001b[0mword_tokenize\u001b[0m\u001b[0;34m,\u001b[0m \u001b[0msent_tokenize\u001b[0m\u001b[0;34m\u001b[0m\u001b[0;34m\u001b[0m\u001b[0m\n\u001b[1;32m      3\u001b[0m \u001b[0mtext\u001b[0m \u001b[0;34m=\u001b[0m \u001b[0;34m\"Hello, world! This is NLP.\"\u001b[0m\u001b[0;34m\u001b[0m\u001b[0;34m\u001b[0m\u001b[0m\n\u001b[0;32m----> 4\u001b[0;31m \u001b[0mprint\u001b[0m\u001b[0;34m(\u001b[0m\u001b[0mword_tokenize\u001b[0m\u001b[0;34m(\u001b[0m\u001b[0mtext\u001b[0m\u001b[0;34m)\u001b[0m\u001b[0;34m)\u001b[0m  \u001b[0;31m# ['Hello', ',', 'world', '!', ...]\u001b[0m\u001b[0;34m\u001b[0m\u001b[0;34m\u001b[0m\u001b[0m\n\u001b[0m\u001b[1;32m      5\u001b[0m \u001b[0mprint\u001b[0m\u001b[0;34m(\u001b[0m\u001b[0msent_tokenize\u001b[0m\u001b[0;34m(\u001b[0m\u001b[0mtext\u001b[0m\u001b[0;34m)\u001b[0m\u001b[0;34m)\u001b[0m  \u001b[0;31m# ['Hello, world!', 'This is NLP.']\u001b[0m\u001b[0;34m\u001b[0m\u001b[0;34m\u001b[0m\u001b[0m\n",
            "\u001b[0;32m/usr/local/lib/python3.11/dist-packages/nltk/tokenize/__init__.py\u001b[0m in \u001b[0;36mword_tokenize\u001b[0;34m(text, language, preserve_line)\u001b[0m\n\u001b[1;32m    140\u001b[0m     \u001b[0;34m:\u001b[0m\u001b[0mtype\u001b[0m \u001b[0mpreserve_line\u001b[0m\u001b[0;34m:\u001b[0m \u001b[0mbool\u001b[0m\u001b[0;34m\u001b[0m\u001b[0;34m\u001b[0m\u001b[0m\n\u001b[1;32m    141\u001b[0m     \"\"\"\n\u001b[0;32m--> 142\u001b[0;31m     \u001b[0msentences\u001b[0m \u001b[0;34m=\u001b[0m \u001b[0;34m[\u001b[0m\u001b[0mtext\u001b[0m\u001b[0;34m]\u001b[0m \u001b[0;32mif\u001b[0m \u001b[0mpreserve_line\u001b[0m \u001b[0;32melse\u001b[0m \u001b[0msent_tokenize\u001b[0m\u001b[0;34m(\u001b[0m\u001b[0mtext\u001b[0m\u001b[0;34m,\u001b[0m \u001b[0mlanguage\u001b[0m\u001b[0;34m)\u001b[0m\u001b[0;34m\u001b[0m\u001b[0;34m\u001b[0m\u001b[0m\n\u001b[0m\u001b[1;32m    143\u001b[0m     return [\n\u001b[1;32m    144\u001b[0m         \u001b[0mtoken\u001b[0m \u001b[0;32mfor\u001b[0m \u001b[0msent\u001b[0m \u001b[0;32min\u001b[0m \u001b[0msentences\u001b[0m \u001b[0;32mfor\u001b[0m \u001b[0mtoken\u001b[0m \u001b[0;32min\u001b[0m \u001b[0m_treebank_word_tokenizer\u001b[0m\u001b[0;34m.\u001b[0m\u001b[0mtokenize\u001b[0m\u001b[0;34m(\u001b[0m\u001b[0msent\u001b[0m\u001b[0;34m)\u001b[0m\u001b[0;34m\u001b[0m\u001b[0;34m\u001b[0m\u001b[0m\n",
            "\u001b[0;32m/usr/local/lib/python3.11/dist-packages/nltk/tokenize/__init__.py\u001b[0m in \u001b[0;36msent_tokenize\u001b[0;34m(text, language)\u001b[0m\n\u001b[1;32m    117\u001b[0m     \u001b[0;34m:\u001b[0m\u001b[0mparam\u001b[0m \u001b[0mlanguage\u001b[0m\u001b[0;34m:\u001b[0m \u001b[0mthe\u001b[0m \u001b[0mmodel\u001b[0m \u001b[0mname\u001b[0m \u001b[0;32min\u001b[0m \u001b[0mthe\u001b[0m \u001b[0mPunkt\u001b[0m \u001b[0mcorpus\u001b[0m\u001b[0;34m\u001b[0m\u001b[0;34m\u001b[0m\u001b[0m\n\u001b[1;32m    118\u001b[0m     \"\"\"\n\u001b[0;32m--> 119\u001b[0;31m     \u001b[0mtokenizer\u001b[0m \u001b[0;34m=\u001b[0m \u001b[0m_get_punkt_tokenizer\u001b[0m\u001b[0;34m(\u001b[0m\u001b[0mlanguage\u001b[0m\u001b[0;34m)\u001b[0m\u001b[0;34m\u001b[0m\u001b[0;34m\u001b[0m\u001b[0m\n\u001b[0m\u001b[1;32m    120\u001b[0m     \u001b[0;32mreturn\u001b[0m \u001b[0mtokenizer\u001b[0m\u001b[0;34m.\u001b[0m\u001b[0mtokenize\u001b[0m\u001b[0;34m(\u001b[0m\u001b[0mtext\u001b[0m\u001b[0;34m)\u001b[0m\u001b[0;34m\u001b[0m\u001b[0;34m\u001b[0m\u001b[0m\n\u001b[1;32m    121\u001b[0m \u001b[0;34m\u001b[0m\u001b[0m\n",
            "\u001b[0;32m/usr/local/lib/python3.11/dist-packages/nltk/tokenize/__init__.py\u001b[0m in \u001b[0;36m_get_punkt_tokenizer\u001b[0;34m(language)\u001b[0m\n\u001b[1;32m    103\u001b[0m     \u001b[0;34m:\u001b[0m\u001b[0mtype\u001b[0m \u001b[0mlanguage\u001b[0m\u001b[0;34m:\u001b[0m \u001b[0mstr\u001b[0m\u001b[0;34m\u001b[0m\u001b[0;34m\u001b[0m\u001b[0m\n\u001b[1;32m    104\u001b[0m     \"\"\"\n\u001b[0;32m--> 105\u001b[0;31m     \u001b[0;32mreturn\u001b[0m \u001b[0mPunktTokenizer\u001b[0m\u001b[0;34m(\u001b[0m\u001b[0mlanguage\u001b[0m\u001b[0;34m)\u001b[0m\u001b[0;34m\u001b[0m\u001b[0;34m\u001b[0m\u001b[0m\n\u001b[0m\u001b[1;32m    106\u001b[0m \u001b[0;34m\u001b[0m\u001b[0m\n\u001b[1;32m    107\u001b[0m \u001b[0;34m\u001b[0m\u001b[0m\n",
            "\u001b[0;32m/usr/local/lib/python3.11/dist-packages/nltk/tokenize/punkt.py\u001b[0m in \u001b[0;36m__init__\u001b[0;34m(self, lang)\u001b[0m\n\u001b[1;32m   1742\u001b[0m     \u001b[0;32mdef\u001b[0m \u001b[0m__init__\u001b[0m\u001b[0;34m(\u001b[0m\u001b[0mself\u001b[0m\u001b[0;34m,\u001b[0m \u001b[0mlang\u001b[0m\u001b[0;34m=\u001b[0m\u001b[0;34m\"english\"\u001b[0m\u001b[0;34m)\u001b[0m\u001b[0;34m:\u001b[0m\u001b[0;34m\u001b[0m\u001b[0;34m\u001b[0m\u001b[0m\n\u001b[1;32m   1743\u001b[0m         \u001b[0mPunktSentenceTokenizer\u001b[0m\u001b[0;34m.\u001b[0m\u001b[0m__init__\u001b[0m\u001b[0;34m(\u001b[0m\u001b[0mself\u001b[0m\u001b[0;34m)\u001b[0m\u001b[0;34m\u001b[0m\u001b[0;34m\u001b[0m\u001b[0m\n\u001b[0;32m-> 1744\u001b[0;31m         \u001b[0mself\u001b[0m\u001b[0;34m.\u001b[0m\u001b[0mload_lang\u001b[0m\u001b[0;34m(\u001b[0m\u001b[0mlang\u001b[0m\u001b[0;34m)\u001b[0m\u001b[0;34m\u001b[0m\u001b[0;34m\u001b[0m\u001b[0m\n\u001b[0m\u001b[1;32m   1745\u001b[0m \u001b[0;34m\u001b[0m\u001b[0m\n\u001b[1;32m   1746\u001b[0m     \u001b[0;32mdef\u001b[0m \u001b[0mload_lang\u001b[0m\u001b[0;34m(\u001b[0m\u001b[0mself\u001b[0m\u001b[0;34m,\u001b[0m \u001b[0mlang\u001b[0m\u001b[0;34m=\u001b[0m\u001b[0;34m\"english\"\u001b[0m\u001b[0;34m)\u001b[0m\u001b[0;34m:\u001b[0m\u001b[0;34m\u001b[0m\u001b[0;34m\u001b[0m\u001b[0m\n",
            "\u001b[0;32m/usr/local/lib/python3.11/dist-packages/nltk/tokenize/punkt.py\u001b[0m in \u001b[0;36mload_lang\u001b[0;34m(self, lang)\u001b[0m\n\u001b[1;32m   1747\u001b[0m         \u001b[0;32mfrom\u001b[0m \u001b[0mnltk\u001b[0m\u001b[0;34m.\u001b[0m\u001b[0mdata\u001b[0m \u001b[0;32mimport\u001b[0m \u001b[0mfind\u001b[0m\u001b[0;34m\u001b[0m\u001b[0;34m\u001b[0m\u001b[0m\n\u001b[1;32m   1748\u001b[0m \u001b[0;34m\u001b[0m\u001b[0m\n\u001b[0;32m-> 1749\u001b[0;31m         \u001b[0mlang_dir\u001b[0m \u001b[0;34m=\u001b[0m \u001b[0mfind\u001b[0m\u001b[0;34m(\u001b[0m\u001b[0;34mf\"tokenizers/punkt_tab/{lang}/\"\u001b[0m\u001b[0;34m)\u001b[0m\u001b[0;34m\u001b[0m\u001b[0;34m\u001b[0m\u001b[0m\n\u001b[0m\u001b[1;32m   1750\u001b[0m         \u001b[0mself\u001b[0m\u001b[0;34m.\u001b[0m\u001b[0m_params\u001b[0m \u001b[0;34m=\u001b[0m \u001b[0mload_punkt_params\u001b[0m\u001b[0;34m(\u001b[0m\u001b[0mlang_dir\u001b[0m\u001b[0;34m)\u001b[0m\u001b[0;34m\u001b[0m\u001b[0;34m\u001b[0m\u001b[0m\n\u001b[1;32m   1751\u001b[0m         \u001b[0mself\u001b[0m\u001b[0;34m.\u001b[0m\u001b[0m_lang\u001b[0m \u001b[0;34m=\u001b[0m \u001b[0mlang\u001b[0m\u001b[0;34m\u001b[0m\u001b[0;34m\u001b[0m\u001b[0m\n",
            "\u001b[0;32m/usr/local/lib/python3.11/dist-packages/nltk/data.py\u001b[0m in \u001b[0;36mfind\u001b[0;34m(resource_name, paths)\u001b[0m\n\u001b[1;32m    577\u001b[0m     \u001b[0msep\u001b[0m \u001b[0;34m=\u001b[0m \u001b[0;34m\"*\"\u001b[0m \u001b[0;34m*\u001b[0m \u001b[0;36m70\u001b[0m\u001b[0;34m\u001b[0m\u001b[0;34m\u001b[0m\u001b[0m\n\u001b[1;32m    578\u001b[0m     \u001b[0mresource_not_found\u001b[0m \u001b[0;34m=\u001b[0m \u001b[0;34mf\"\\n{sep}\\n{msg}\\n{sep}\\n\"\u001b[0m\u001b[0;34m\u001b[0m\u001b[0;34m\u001b[0m\u001b[0m\n\u001b[0;32m--> 579\u001b[0;31m     \u001b[0;32mraise\u001b[0m \u001b[0mLookupError\u001b[0m\u001b[0;34m(\u001b[0m\u001b[0mresource_not_found\u001b[0m\u001b[0;34m)\u001b[0m\u001b[0;34m\u001b[0m\u001b[0;34m\u001b[0m\u001b[0m\n\u001b[0m\u001b[1;32m    580\u001b[0m \u001b[0;34m\u001b[0m\u001b[0m\n\u001b[1;32m    581\u001b[0m \u001b[0;34m\u001b[0m\u001b[0m\n",
            "\u001b[0;31mLookupError\u001b[0m: \n**********************************************************************\n  Resource \u001b[93mpunkt_tab\u001b[0m not found.\n  Please use the NLTK Downloader to obtain the resource:\n\n  \u001b[31m>>> import nltk\n  >>> nltk.download('punkt_tab')\n  \u001b[0m\n  For more information see: https://www.nltk.org/data.html\n\n  Attempted to load \u001b[93mtokenizers/punkt_tab/english/\u001b[0m\n\n  Searched in:\n    - '/root/nltk_data'\n    - '/usr/nltk_data'\n    - '/usr/share/nltk_data'\n    - '/usr/lib/nltk_data'\n    - '/usr/share/nltk_data'\n    - '/usr/local/share/nltk_data'\n    - '/usr/lib/nltk_data'\n    - '/usr/local/lib/nltk_data'\n**********************************************************************\n"
          ]
        }
      ]
    },
    {
      "cell_type": "code",
      "source": [
        "#Hugging Face Tokenizers\n",
        "from tokenizers import Tokenizer, models, pre_tokenizers\n",
        "tokenizer = Tokenizer(models.BPE())\n",
        "tokenizer.pre_tokenizer = pre_tokenizers.WhitespaceSplit()\n",
        "tokenizer.train(files=[\"text.txt\"], vocab_size=1000)"
      ],
      "metadata": {
        "id": "Kfr7Xgd8EDjB"
      },
      "execution_count": null,
      "outputs": []
    }
  ]
}