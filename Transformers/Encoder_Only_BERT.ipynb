{
  "nbformat": 4,
  "nbformat_minor": 0,
  "metadata": {
    "colab": {
      "provenance": [],
      "gpuType": "T4",
      "authorship_tag": "ABX9TyNqib7HTQM/Um1ZMriRlWHN",
      "include_colab_link": true
    },
    "kernelspec": {
      "name": "python3",
      "display_name": "Python 3"
    },
    "language_info": {
      "name": "python"
    },
    "accelerator": "GPU",
    "widgets": {
      "application/vnd.jupyter.widget-state+json": {
        "9b1823b1009c48f89172efd9dd808dab": {
          "model_module": "@jupyter-widgets/controls",
          "model_name": "HBoxModel",
          "model_module_version": "1.5.0",
          "state": {
            "_dom_classes": [],
            "_model_module": "@jupyter-widgets/controls",
            "_model_module_version": "1.5.0",
            "_model_name": "HBoxModel",
            "_view_count": null,
            "_view_module": "@jupyter-widgets/controls",
            "_view_module_version": "1.5.0",
            "_view_name": "HBoxView",
            "box_style": "",
            "children": [
              "IPY_MODEL_1bd070e92d35499a90f9fadbb9200076",
              "IPY_MODEL_f12187a165f44d518e5fbcde8e226eaf",
              "IPY_MODEL_aeb29e09ac9e449a88054c652052c7d4"
            ],
            "layout": "IPY_MODEL_029b94a9b85446038daaf31c75ed42b6"
          }
        },
        "1bd070e92d35499a90f9fadbb9200076": {
          "model_module": "@jupyter-widgets/controls",
          "model_name": "HTMLModel",
          "model_module_version": "1.5.0",
          "state": {
            "_dom_classes": [],
            "_model_module": "@jupyter-widgets/controls",
            "_model_module_version": "1.5.0",
            "_model_name": "HTMLModel",
            "_view_count": null,
            "_view_module": "@jupyter-widgets/controls",
            "_view_module_version": "1.5.0",
            "_view_name": "HTMLView",
            "description": "",
            "description_tooltip": null,
            "layout": "IPY_MODEL_66c0f030d0bb4c69856f3119685fbef1",
            "placeholder": "​",
            "style": "IPY_MODEL_e2958b8b301e4cfaacd7d9486e1394f1",
            "value": "Downloading readme: 100%"
          }
        },
        "f12187a165f44d518e5fbcde8e226eaf": {
          "model_module": "@jupyter-widgets/controls",
          "model_name": "FloatProgressModel",
          "model_module_version": "1.5.0",
          "state": {
            "_dom_classes": [],
            "_model_module": "@jupyter-widgets/controls",
            "_model_module_version": "1.5.0",
            "_model_name": "FloatProgressModel",
            "_view_count": null,
            "_view_module": "@jupyter-widgets/controls",
            "_view_module_version": "1.5.0",
            "_view_name": "ProgressView",
            "bar_style": "success",
            "description": "",
            "description_tooltip": null,
            "layout": "IPY_MODEL_c1564818883b4a0aad5b5a99419eee16",
            "max": 7809,
            "min": 0,
            "orientation": "horizontal",
            "style": "IPY_MODEL_87193c6f75214188b42f4e5d7aa5aeb7",
            "value": 7809
          }
        },
        "aeb29e09ac9e449a88054c652052c7d4": {
          "model_module": "@jupyter-widgets/controls",
          "model_name": "HTMLModel",
          "model_module_version": "1.5.0",
          "state": {
            "_dom_classes": [],
            "_model_module": "@jupyter-widgets/controls",
            "_model_module_version": "1.5.0",
            "_model_name": "HTMLModel",
            "_view_count": null,
            "_view_module": "@jupyter-widgets/controls",
            "_view_module_version": "1.5.0",
            "_view_name": "HTMLView",
            "description": "",
            "description_tooltip": null,
            "layout": "IPY_MODEL_dd914ce8b508433eaef621e09f749410",
            "placeholder": "​",
            "style": "IPY_MODEL_955c43019c074e0c95b69dfb38f99c62",
            "value": " 7.81k/7.81k [00:00&lt;00:00, 229kB/s]"
          }
        },
        "029b94a9b85446038daaf31c75ed42b6": {
          "model_module": "@jupyter-widgets/base",
          "model_name": "LayoutModel",
          "model_module_version": "1.2.0",
          "state": {
            "_model_module": "@jupyter-widgets/base",
            "_model_module_version": "1.2.0",
            "_model_name": "LayoutModel",
            "_view_count": null,
            "_view_module": "@jupyter-widgets/base",
            "_view_module_version": "1.2.0",
            "_view_name": "LayoutView",
            "align_content": null,
            "align_items": null,
            "align_self": null,
            "border": null,
            "bottom": null,
            "display": null,
            "flex": null,
            "flex_flow": null,
            "grid_area": null,
            "grid_auto_columns": null,
            "grid_auto_flow": null,
            "grid_auto_rows": null,
            "grid_column": null,
            "grid_gap": null,
            "grid_row": null,
            "grid_template_areas": null,
            "grid_template_columns": null,
            "grid_template_rows": null,
            "height": null,
            "justify_content": null,
            "justify_items": null,
            "left": null,
            "margin": null,
            "max_height": null,
            "max_width": null,
            "min_height": null,
            "min_width": null,
            "object_fit": null,
            "object_position": null,
            "order": null,
            "overflow": null,
            "overflow_x": null,
            "overflow_y": null,
            "padding": null,
            "right": null,
            "top": null,
            "visibility": null,
            "width": null
          }
        },
        "66c0f030d0bb4c69856f3119685fbef1": {
          "model_module": "@jupyter-widgets/base",
          "model_name": "LayoutModel",
          "model_module_version": "1.2.0",
          "state": {
            "_model_module": "@jupyter-widgets/base",
            "_model_module_version": "1.2.0",
            "_model_name": "LayoutModel",
            "_view_count": null,
            "_view_module": "@jupyter-widgets/base",
            "_view_module_version": "1.2.0",
            "_view_name": "LayoutView",
            "align_content": null,
            "align_items": null,
            "align_self": null,
            "border": null,
            "bottom": null,
            "display": null,
            "flex": null,
            "flex_flow": null,
            "grid_area": null,
            "grid_auto_columns": null,
            "grid_auto_flow": null,
            "grid_auto_rows": null,
            "grid_column": null,
            "grid_gap": null,
            "grid_row": null,
            "grid_template_areas": null,
            "grid_template_columns": null,
            "grid_template_rows": null,
            "height": null,
            "justify_content": null,
            "justify_items": null,
            "left": null,
            "margin": null,
            "max_height": null,
            "max_width": null,
            "min_height": null,
            "min_width": null,
            "object_fit": null,
            "object_position": null,
            "order": null,
            "overflow": null,
            "overflow_x": null,
            "overflow_y": null,
            "padding": null,
            "right": null,
            "top": null,
            "visibility": null,
            "width": null
          }
        },
        "e2958b8b301e4cfaacd7d9486e1394f1": {
          "model_module": "@jupyter-widgets/controls",
          "model_name": "DescriptionStyleModel",
          "model_module_version": "1.5.0",
          "state": {
            "_model_module": "@jupyter-widgets/controls",
            "_model_module_version": "1.5.0",
            "_model_name": "DescriptionStyleModel",
            "_view_count": null,
            "_view_module": "@jupyter-widgets/base",
            "_view_module_version": "1.2.0",
            "_view_name": "StyleView",
            "description_width": ""
          }
        },
        "c1564818883b4a0aad5b5a99419eee16": {
          "model_module": "@jupyter-widgets/base",
          "model_name": "LayoutModel",
          "model_module_version": "1.2.0",
          "state": {
            "_model_module": "@jupyter-widgets/base",
            "_model_module_version": "1.2.0",
            "_model_name": "LayoutModel",
            "_view_count": null,
            "_view_module": "@jupyter-widgets/base",
            "_view_module_version": "1.2.0",
            "_view_name": "LayoutView",
            "align_content": null,
            "align_items": null,
            "align_self": null,
            "border": null,
            "bottom": null,
            "display": null,
            "flex": null,
            "flex_flow": null,
            "grid_area": null,
            "grid_auto_columns": null,
            "grid_auto_flow": null,
            "grid_auto_rows": null,
            "grid_column": null,
            "grid_gap": null,
            "grid_row": null,
            "grid_template_areas": null,
            "grid_template_columns": null,
            "grid_template_rows": null,
            "height": null,
            "justify_content": null,
            "justify_items": null,
            "left": null,
            "margin": null,
            "max_height": null,
            "max_width": null,
            "min_height": null,
            "min_width": null,
            "object_fit": null,
            "object_position": null,
            "order": null,
            "overflow": null,
            "overflow_x": null,
            "overflow_y": null,
            "padding": null,
            "right": null,
            "top": null,
            "visibility": null,
            "width": null
          }
        },
        "87193c6f75214188b42f4e5d7aa5aeb7": {
          "model_module": "@jupyter-widgets/controls",
          "model_name": "ProgressStyleModel",
          "model_module_version": "1.5.0",
          "state": {
            "_model_module": "@jupyter-widgets/controls",
            "_model_module_version": "1.5.0",
            "_model_name": "ProgressStyleModel",
            "_view_count": null,
            "_view_module": "@jupyter-widgets/base",
            "_view_module_version": "1.2.0",
            "_view_name": "StyleView",
            "bar_color": null,
            "description_width": ""
          }
        },
        "dd914ce8b508433eaef621e09f749410": {
          "model_module": "@jupyter-widgets/base",
          "model_name": "LayoutModel",
          "model_module_version": "1.2.0",
          "state": {
            "_model_module": "@jupyter-widgets/base",
            "_model_module_version": "1.2.0",
            "_model_name": "LayoutModel",
            "_view_count": null,
            "_view_module": "@jupyter-widgets/base",
            "_view_module_version": "1.2.0",
            "_view_name": "LayoutView",
            "align_content": null,
            "align_items": null,
            "align_self": null,
            "border": null,
            "bottom": null,
            "display": null,
            "flex": null,
            "flex_flow": null,
            "grid_area": null,
            "grid_auto_columns": null,
            "grid_auto_flow": null,
            "grid_auto_rows": null,
            "grid_column": null,
            "grid_gap": null,
            "grid_row": null,
            "grid_template_areas": null,
            "grid_template_columns": null,
            "grid_template_rows": null,
            "height": null,
            "justify_content": null,
            "justify_items": null,
            "left": null,
            "margin": null,
            "max_height": null,
            "max_width": null,
            "min_height": null,
            "min_width": null,
            "object_fit": null,
            "object_position": null,
            "order": null,
            "overflow": null,
            "overflow_x": null,
            "overflow_y": null,
            "padding": null,
            "right": null,
            "top": null,
            "visibility": null,
            "width": null
          }
        },
        "955c43019c074e0c95b69dfb38f99c62": {
          "model_module": "@jupyter-widgets/controls",
          "model_name": "DescriptionStyleModel",
          "model_module_version": "1.5.0",
          "state": {
            "_model_module": "@jupyter-widgets/controls",
            "_model_module_version": "1.5.0",
            "_model_name": "DescriptionStyleModel",
            "_view_count": null,
            "_view_module": "@jupyter-widgets/base",
            "_view_module_version": "1.2.0",
            "_view_name": "StyleView",
            "description_width": ""
          }
        },
        "69e484c708bf4ea69e3bf61f0103c531": {
          "model_module": "@jupyter-widgets/controls",
          "model_name": "HBoxModel",
          "model_module_version": "1.5.0",
          "state": {
            "_dom_classes": [],
            "_model_module": "@jupyter-widgets/controls",
            "_model_module_version": "1.5.0",
            "_model_name": "HBoxModel",
            "_view_count": null,
            "_view_module": "@jupyter-widgets/controls",
            "_view_module_version": "1.5.0",
            "_view_name": "HBoxView",
            "box_style": "",
            "children": [
              "IPY_MODEL_e2b01777ac2b4ff5aba9e56554d7db29",
              "IPY_MODEL_11a268e9023f4c3dbf73f1f5aaecf1f4",
              "IPY_MODEL_fff790b3a7644203a97c44144387f48a"
            ],
            "layout": "IPY_MODEL_5463b2b496174ea2b252afff6fc72192"
          }
        },
        "e2b01777ac2b4ff5aba9e56554d7db29": {
          "model_module": "@jupyter-widgets/controls",
          "model_name": "HTMLModel",
          "model_module_version": "1.5.0",
          "state": {
            "_dom_classes": [],
            "_model_module": "@jupyter-widgets/controls",
            "_model_module_version": "1.5.0",
            "_model_name": "HTMLModel",
            "_view_count": null,
            "_view_module": "@jupyter-widgets/controls",
            "_view_module_version": "1.5.0",
            "_view_name": "HTMLView",
            "description": "",
            "description_tooltip": null,
            "layout": "IPY_MODEL_0af121b676c34755bdd26654f01adc5d",
            "placeholder": "​",
            "style": "IPY_MODEL_d88343230968453eadf5580e9fe29039",
            "value": "tokenizer_config.json: 100%"
          }
        },
        "11a268e9023f4c3dbf73f1f5aaecf1f4": {
          "model_module": "@jupyter-widgets/controls",
          "model_name": "FloatProgressModel",
          "model_module_version": "1.5.0",
          "state": {
            "_dom_classes": [],
            "_model_module": "@jupyter-widgets/controls",
            "_model_module_version": "1.5.0",
            "_model_name": "FloatProgressModel",
            "_view_count": null,
            "_view_module": "@jupyter-widgets/controls",
            "_view_module_version": "1.5.0",
            "_view_name": "ProgressView",
            "bar_style": "success",
            "description": "",
            "description_tooltip": null,
            "layout": "IPY_MODEL_e76446e7740a4f15a004c51ff68b87e3",
            "max": 48,
            "min": 0,
            "orientation": "horizontal",
            "style": "IPY_MODEL_97bf8490b0834a1e8f68b0f68f549adc",
            "value": 48
          }
        },
        "fff790b3a7644203a97c44144387f48a": {
          "model_module": "@jupyter-widgets/controls",
          "model_name": "HTMLModel",
          "model_module_version": "1.5.0",
          "state": {
            "_dom_classes": [],
            "_model_module": "@jupyter-widgets/controls",
            "_model_module_version": "1.5.0",
            "_model_name": "HTMLModel",
            "_view_count": null,
            "_view_module": "@jupyter-widgets/controls",
            "_view_module_version": "1.5.0",
            "_view_name": "HTMLView",
            "description": "",
            "description_tooltip": null,
            "layout": "IPY_MODEL_0759be7be5fe478086f2dd91f8803001",
            "placeholder": "​",
            "style": "IPY_MODEL_24ee8566cfa948368f4656985d3df1a4",
            "value": " 48.0/48.0 [00:00&lt;00:00, 1.07kB/s]"
          }
        },
        "5463b2b496174ea2b252afff6fc72192": {
          "model_module": "@jupyter-widgets/base",
          "model_name": "LayoutModel",
          "model_module_version": "1.2.0",
          "state": {
            "_model_module": "@jupyter-widgets/base",
            "_model_module_version": "1.2.0",
            "_model_name": "LayoutModel",
            "_view_count": null,
            "_view_module": "@jupyter-widgets/base",
            "_view_module_version": "1.2.0",
            "_view_name": "LayoutView",
            "align_content": null,
            "align_items": null,
            "align_self": null,
            "border": null,
            "bottom": null,
            "display": null,
            "flex": null,
            "flex_flow": null,
            "grid_area": null,
            "grid_auto_columns": null,
            "grid_auto_flow": null,
            "grid_auto_rows": null,
            "grid_column": null,
            "grid_gap": null,
            "grid_row": null,
            "grid_template_areas": null,
            "grid_template_columns": null,
            "grid_template_rows": null,
            "height": null,
            "justify_content": null,
            "justify_items": null,
            "left": null,
            "margin": null,
            "max_height": null,
            "max_width": null,
            "min_height": null,
            "min_width": null,
            "object_fit": null,
            "object_position": null,
            "order": null,
            "overflow": null,
            "overflow_x": null,
            "overflow_y": null,
            "padding": null,
            "right": null,
            "top": null,
            "visibility": null,
            "width": null
          }
        },
        "0af121b676c34755bdd26654f01adc5d": {
          "model_module": "@jupyter-widgets/base",
          "model_name": "LayoutModel",
          "model_module_version": "1.2.0",
          "state": {
            "_model_module": "@jupyter-widgets/base",
            "_model_module_version": "1.2.0",
            "_model_name": "LayoutModel",
            "_view_count": null,
            "_view_module": "@jupyter-widgets/base",
            "_view_module_version": "1.2.0",
            "_view_name": "LayoutView",
            "align_content": null,
            "align_items": null,
            "align_self": null,
            "border": null,
            "bottom": null,
            "display": null,
            "flex": null,
            "flex_flow": null,
            "grid_area": null,
            "grid_auto_columns": null,
            "grid_auto_flow": null,
            "grid_auto_rows": null,
            "grid_column": null,
            "grid_gap": null,
            "grid_row": null,
            "grid_template_areas": null,
            "grid_template_columns": null,
            "grid_template_rows": null,
            "height": null,
            "justify_content": null,
            "justify_items": null,
            "left": null,
            "margin": null,
            "max_height": null,
            "max_width": null,
            "min_height": null,
            "min_width": null,
            "object_fit": null,
            "object_position": null,
            "order": null,
            "overflow": null,
            "overflow_x": null,
            "overflow_y": null,
            "padding": null,
            "right": null,
            "top": null,
            "visibility": null,
            "width": null
          }
        },
        "d88343230968453eadf5580e9fe29039": {
          "model_module": "@jupyter-widgets/controls",
          "model_name": "DescriptionStyleModel",
          "model_module_version": "1.5.0",
          "state": {
            "_model_module": "@jupyter-widgets/controls",
            "_model_module_version": "1.5.0",
            "_model_name": "DescriptionStyleModel",
            "_view_count": null,
            "_view_module": "@jupyter-widgets/base",
            "_view_module_version": "1.2.0",
            "_view_name": "StyleView",
            "description_width": ""
          }
        },
        "e76446e7740a4f15a004c51ff68b87e3": {
          "model_module": "@jupyter-widgets/base",
          "model_name": "LayoutModel",
          "model_module_version": "1.2.0",
          "state": {
            "_model_module": "@jupyter-widgets/base",
            "_model_module_version": "1.2.0",
            "_model_name": "LayoutModel",
            "_view_count": null,
            "_view_module": "@jupyter-widgets/base",
            "_view_module_version": "1.2.0",
            "_view_name": "LayoutView",
            "align_content": null,
            "align_items": null,
            "align_self": null,
            "border": null,
            "bottom": null,
            "display": null,
            "flex": null,
            "flex_flow": null,
            "grid_area": null,
            "grid_auto_columns": null,
            "grid_auto_flow": null,
            "grid_auto_rows": null,
            "grid_column": null,
            "grid_gap": null,
            "grid_row": null,
            "grid_template_areas": null,
            "grid_template_columns": null,
            "grid_template_rows": null,
            "height": null,
            "justify_content": null,
            "justify_items": null,
            "left": null,
            "margin": null,
            "max_height": null,
            "max_width": null,
            "min_height": null,
            "min_width": null,
            "object_fit": null,
            "object_position": null,
            "order": null,
            "overflow": null,
            "overflow_x": null,
            "overflow_y": null,
            "padding": null,
            "right": null,
            "top": null,
            "visibility": null,
            "width": null
          }
        },
        "97bf8490b0834a1e8f68b0f68f549adc": {
          "model_module": "@jupyter-widgets/controls",
          "model_name": "ProgressStyleModel",
          "model_module_version": "1.5.0",
          "state": {
            "_model_module": "@jupyter-widgets/controls",
            "_model_module_version": "1.5.0",
            "_model_name": "ProgressStyleModel",
            "_view_count": null,
            "_view_module": "@jupyter-widgets/base",
            "_view_module_version": "1.2.0",
            "_view_name": "StyleView",
            "bar_color": null,
            "description_width": ""
          }
        },
        "0759be7be5fe478086f2dd91f8803001": {
          "model_module": "@jupyter-widgets/base",
          "model_name": "LayoutModel",
          "model_module_version": "1.2.0",
          "state": {
            "_model_module": "@jupyter-widgets/base",
            "_model_module_version": "1.2.0",
            "_model_name": "LayoutModel",
            "_view_count": null,
            "_view_module": "@jupyter-widgets/base",
            "_view_module_version": "1.2.0",
            "_view_name": "LayoutView",
            "align_content": null,
            "align_items": null,
            "align_self": null,
            "border": null,
            "bottom": null,
            "display": null,
            "flex": null,
            "flex_flow": null,
            "grid_area": null,
            "grid_auto_columns": null,
            "grid_auto_flow": null,
            "grid_auto_rows": null,
            "grid_column": null,
            "grid_gap": null,
            "grid_row": null,
            "grid_template_areas": null,
            "grid_template_columns": null,
            "grid_template_rows": null,
            "height": null,
            "justify_content": null,
            "justify_items": null,
            "left": null,
            "margin": null,
            "max_height": null,
            "max_width": null,
            "min_height": null,
            "min_width": null,
            "object_fit": null,
            "object_position": null,
            "order": null,
            "overflow": null,
            "overflow_x": null,
            "overflow_y": null,
            "padding": null,
            "right": null,
            "top": null,
            "visibility": null,
            "width": null
          }
        },
        "24ee8566cfa948368f4656985d3df1a4": {
          "model_module": "@jupyter-widgets/controls",
          "model_name": "DescriptionStyleModel",
          "model_module_version": "1.5.0",
          "state": {
            "_model_module": "@jupyter-widgets/controls",
            "_model_module_version": "1.5.0",
            "_model_name": "DescriptionStyleModel",
            "_view_count": null,
            "_view_module": "@jupyter-widgets/base",
            "_view_module_version": "1.2.0",
            "_view_name": "StyleView",
            "description_width": ""
          }
        },
        "10d2ec7e136441c681beec2f7d11e2ab": {
          "model_module": "@jupyter-widgets/controls",
          "model_name": "HBoxModel",
          "model_module_version": "1.5.0",
          "state": {
            "_dom_classes": [],
            "_model_module": "@jupyter-widgets/controls",
            "_model_module_version": "1.5.0",
            "_model_name": "HBoxModel",
            "_view_count": null,
            "_view_module": "@jupyter-widgets/controls",
            "_view_module_version": "1.5.0",
            "_view_name": "HBoxView",
            "box_style": "",
            "children": [
              "IPY_MODEL_c0fe53a8ae104ed3b9b05c7abf79f183",
              "IPY_MODEL_c176cb05ce7c4963ba09cf95ca53c5bc",
              "IPY_MODEL_3902463129844987b6e9375ad1cbb949"
            ],
            "layout": "IPY_MODEL_7a659336d6b649c9854a19f52cf4781e"
          }
        },
        "c0fe53a8ae104ed3b9b05c7abf79f183": {
          "model_module": "@jupyter-widgets/controls",
          "model_name": "HTMLModel",
          "model_module_version": "1.5.0",
          "state": {
            "_dom_classes": [],
            "_model_module": "@jupyter-widgets/controls",
            "_model_module_version": "1.5.0",
            "_model_name": "HTMLModel",
            "_view_count": null,
            "_view_module": "@jupyter-widgets/controls",
            "_view_module_version": "1.5.0",
            "_view_name": "HTMLView",
            "description": "",
            "description_tooltip": null,
            "layout": "IPY_MODEL_b183b27cafa64b45aefeb39c738ab4e1",
            "placeholder": "​",
            "style": "IPY_MODEL_aec22ca8230a4798990aa3b45ee72c27",
            "value": "vocab.txt: 100%"
          }
        },
        "c176cb05ce7c4963ba09cf95ca53c5bc": {
          "model_module": "@jupyter-widgets/controls",
          "model_name": "FloatProgressModel",
          "model_module_version": "1.5.0",
          "state": {
            "_dom_classes": [],
            "_model_module": "@jupyter-widgets/controls",
            "_model_module_version": "1.5.0",
            "_model_name": "FloatProgressModel",
            "_view_count": null,
            "_view_module": "@jupyter-widgets/controls",
            "_view_module_version": "1.5.0",
            "_view_name": "ProgressView",
            "bar_style": "success",
            "description": "",
            "description_tooltip": null,
            "layout": "IPY_MODEL_6638952cf8694e54a57d92502c52acd4",
            "max": 231508,
            "min": 0,
            "orientation": "horizontal",
            "style": "IPY_MODEL_a6b31ca4d9264b4c9da8041f61b7deba",
            "value": 231508
          }
        },
        "3902463129844987b6e9375ad1cbb949": {
          "model_module": "@jupyter-widgets/controls",
          "model_name": "HTMLModel",
          "model_module_version": "1.5.0",
          "state": {
            "_dom_classes": [],
            "_model_module": "@jupyter-widgets/controls",
            "_model_module_version": "1.5.0",
            "_model_name": "HTMLModel",
            "_view_count": null,
            "_view_module": "@jupyter-widgets/controls",
            "_view_module_version": "1.5.0",
            "_view_name": "HTMLView",
            "description": "",
            "description_tooltip": null,
            "layout": "IPY_MODEL_412907fe21cc40c4b99f2c8211cf3e43",
            "placeholder": "​",
            "style": "IPY_MODEL_65646def95714f27862c41c9da117400",
            "value": " 232k/232k [00:00&lt;00:00, 12.6MB/s]"
          }
        },
        "7a659336d6b649c9854a19f52cf4781e": {
          "model_module": "@jupyter-widgets/base",
          "model_name": "LayoutModel",
          "model_module_version": "1.2.0",
          "state": {
            "_model_module": "@jupyter-widgets/base",
            "_model_module_version": "1.2.0",
            "_model_name": "LayoutModel",
            "_view_count": null,
            "_view_module": "@jupyter-widgets/base",
            "_view_module_version": "1.2.0",
            "_view_name": "LayoutView",
            "align_content": null,
            "align_items": null,
            "align_self": null,
            "border": null,
            "bottom": null,
            "display": null,
            "flex": null,
            "flex_flow": null,
            "grid_area": null,
            "grid_auto_columns": null,
            "grid_auto_flow": null,
            "grid_auto_rows": null,
            "grid_column": null,
            "grid_gap": null,
            "grid_row": null,
            "grid_template_areas": null,
            "grid_template_columns": null,
            "grid_template_rows": null,
            "height": null,
            "justify_content": null,
            "justify_items": null,
            "left": null,
            "margin": null,
            "max_height": null,
            "max_width": null,
            "min_height": null,
            "min_width": null,
            "object_fit": null,
            "object_position": null,
            "order": null,
            "overflow": null,
            "overflow_x": null,
            "overflow_y": null,
            "padding": null,
            "right": null,
            "top": null,
            "visibility": null,
            "width": null
          }
        },
        "b183b27cafa64b45aefeb39c738ab4e1": {
          "model_module": "@jupyter-widgets/base",
          "model_name": "LayoutModel",
          "model_module_version": "1.2.0",
          "state": {
            "_model_module": "@jupyter-widgets/base",
            "_model_module_version": "1.2.0",
            "_model_name": "LayoutModel",
            "_view_count": null,
            "_view_module": "@jupyter-widgets/base",
            "_view_module_version": "1.2.0",
            "_view_name": "LayoutView",
            "align_content": null,
            "align_items": null,
            "align_self": null,
            "border": null,
            "bottom": null,
            "display": null,
            "flex": null,
            "flex_flow": null,
            "grid_area": null,
            "grid_auto_columns": null,
            "grid_auto_flow": null,
            "grid_auto_rows": null,
            "grid_column": null,
            "grid_gap": null,
            "grid_row": null,
            "grid_template_areas": null,
            "grid_template_columns": null,
            "grid_template_rows": null,
            "height": null,
            "justify_content": null,
            "justify_items": null,
            "left": null,
            "margin": null,
            "max_height": null,
            "max_width": null,
            "min_height": null,
            "min_width": null,
            "object_fit": null,
            "object_position": null,
            "order": null,
            "overflow": null,
            "overflow_x": null,
            "overflow_y": null,
            "padding": null,
            "right": null,
            "top": null,
            "visibility": null,
            "width": null
          }
        },
        "aec22ca8230a4798990aa3b45ee72c27": {
          "model_module": "@jupyter-widgets/controls",
          "model_name": "DescriptionStyleModel",
          "model_module_version": "1.5.0",
          "state": {
            "_model_module": "@jupyter-widgets/controls",
            "_model_module_version": "1.5.0",
            "_model_name": "DescriptionStyleModel",
            "_view_count": null,
            "_view_module": "@jupyter-widgets/base",
            "_view_module_version": "1.2.0",
            "_view_name": "StyleView",
            "description_width": ""
          }
        },
        "6638952cf8694e54a57d92502c52acd4": {
          "model_module": "@jupyter-widgets/base",
          "model_name": "LayoutModel",
          "model_module_version": "1.2.0",
          "state": {
            "_model_module": "@jupyter-widgets/base",
            "_model_module_version": "1.2.0",
            "_model_name": "LayoutModel",
            "_view_count": null,
            "_view_module": "@jupyter-widgets/base",
            "_view_module_version": "1.2.0",
            "_view_name": "LayoutView",
            "align_content": null,
            "align_items": null,
            "align_self": null,
            "border": null,
            "bottom": null,
            "display": null,
            "flex": null,
            "flex_flow": null,
            "grid_area": null,
            "grid_auto_columns": null,
            "grid_auto_flow": null,
            "grid_auto_rows": null,
            "grid_column": null,
            "grid_gap": null,
            "grid_row": null,
            "grid_template_areas": null,
            "grid_template_columns": null,
            "grid_template_rows": null,
            "height": null,
            "justify_content": null,
            "justify_items": null,
            "left": null,
            "margin": null,
            "max_height": null,
            "max_width": null,
            "min_height": null,
            "min_width": null,
            "object_fit": null,
            "object_position": null,
            "order": null,
            "overflow": null,
            "overflow_x": null,
            "overflow_y": null,
            "padding": null,
            "right": null,
            "top": null,
            "visibility": null,
            "width": null
          }
        },
        "a6b31ca4d9264b4c9da8041f61b7deba": {
          "model_module": "@jupyter-widgets/controls",
          "model_name": "ProgressStyleModel",
          "model_module_version": "1.5.0",
          "state": {
            "_model_module": "@jupyter-widgets/controls",
            "_model_module_version": "1.5.0",
            "_model_name": "ProgressStyleModel",
            "_view_count": null,
            "_view_module": "@jupyter-widgets/base",
            "_view_module_version": "1.2.0",
            "_view_name": "StyleView",
            "bar_color": null,
            "description_width": ""
          }
        },
        "412907fe21cc40c4b99f2c8211cf3e43": {
          "model_module": "@jupyter-widgets/base",
          "model_name": "LayoutModel",
          "model_module_version": "1.2.0",
          "state": {
            "_model_module": "@jupyter-widgets/base",
            "_model_module_version": "1.2.0",
            "_model_name": "LayoutModel",
            "_view_count": null,
            "_view_module": "@jupyter-widgets/base",
            "_view_module_version": "1.2.0",
            "_view_name": "LayoutView",
            "align_content": null,
            "align_items": null,
            "align_self": null,
            "border": null,
            "bottom": null,
            "display": null,
            "flex": null,
            "flex_flow": null,
            "grid_area": null,
            "grid_auto_columns": null,
            "grid_auto_flow": null,
            "grid_auto_rows": null,
            "grid_column": null,
            "grid_gap": null,
            "grid_row": null,
            "grid_template_areas": null,
            "grid_template_columns": null,
            "grid_template_rows": null,
            "height": null,
            "justify_content": null,
            "justify_items": null,
            "left": null,
            "margin": null,
            "max_height": null,
            "max_width": null,
            "min_height": null,
            "min_width": null,
            "object_fit": null,
            "object_position": null,
            "order": null,
            "overflow": null,
            "overflow_x": null,
            "overflow_y": null,
            "padding": null,
            "right": null,
            "top": null,
            "visibility": null,
            "width": null
          }
        },
        "65646def95714f27862c41c9da117400": {
          "model_module": "@jupyter-widgets/controls",
          "model_name": "DescriptionStyleModel",
          "model_module_version": "1.5.0",
          "state": {
            "_model_module": "@jupyter-widgets/controls",
            "_model_module_version": "1.5.0",
            "_model_name": "DescriptionStyleModel",
            "_view_count": null,
            "_view_module": "@jupyter-widgets/base",
            "_view_module_version": "1.2.0",
            "_view_name": "StyleView",
            "description_width": ""
          }
        },
        "4f92c94676ec46788817b1ddff9b410e": {
          "model_module": "@jupyter-widgets/controls",
          "model_name": "HBoxModel",
          "model_module_version": "1.5.0",
          "state": {
            "_dom_classes": [],
            "_model_module": "@jupyter-widgets/controls",
            "_model_module_version": "1.5.0",
            "_model_name": "HBoxModel",
            "_view_count": null,
            "_view_module": "@jupyter-widgets/controls",
            "_view_module_version": "1.5.0",
            "_view_name": "HBoxView",
            "box_style": "",
            "children": [
              "IPY_MODEL_61d60cf4c228434390fb82850af24b49",
              "IPY_MODEL_6de0b3f73f7d48cb9ff0796cbda48447",
              "IPY_MODEL_9b5e1436dff14d9a87bfe9bdc96eb429"
            ],
            "layout": "IPY_MODEL_524a2945df12464dba54aac2635c90dc"
          }
        },
        "61d60cf4c228434390fb82850af24b49": {
          "model_module": "@jupyter-widgets/controls",
          "model_name": "HTMLModel",
          "model_module_version": "1.5.0",
          "state": {
            "_dom_classes": [],
            "_model_module": "@jupyter-widgets/controls",
            "_model_module_version": "1.5.0",
            "_model_name": "HTMLModel",
            "_view_count": null,
            "_view_module": "@jupyter-widgets/controls",
            "_view_module_version": "1.5.0",
            "_view_name": "HTMLView",
            "description": "",
            "description_tooltip": null,
            "layout": "IPY_MODEL_f6e7a49226984541ae302bb3afd4d67e",
            "placeholder": "​",
            "style": "IPY_MODEL_46fed1d4ca8b49d0abaa7d2ed5f2d579",
            "value": "tokenizer.json: 100%"
          }
        },
        "6de0b3f73f7d48cb9ff0796cbda48447": {
          "model_module": "@jupyter-widgets/controls",
          "model_name": "FloatProgressModel",
          "model_module_version": "1.5.0",
          "state": {
            "_dom_classes": [],
            "_model_module": "@jupyter-widgets/controls",
            "_model_module_version": "1.5.0",
            "_model_name": "FloatProgressModel",
            "_view_count": null,
            "_view_module": "@jupyter-widgets/controls",
            "_view_module_version": "1.5.0",
            "_view_name": "ProgressView",
            "bar_style": "success",
            "description": "",
            "description_tooltip": null,
            "layout": "IPY_MODEL_94b26adc64af45fcba39df965f8a7c28",
            "max": 466062,
            "min": 0,
            "orientation": "horizontal",
            "style": "IPY_MODEL_fa43fe1aa4b44ff7abd5852be8f92770",
            "value": 466062
          }
        },
        "9b5e1436dff14d9a87bfe9bdc96eb429": {
          "model_module": "@jupyter-widgets/controls",
          "model_name": "HTMLModel",
          "model_module_version": "1.5.0",
          "state": {
            "_dom_classes": [],
            "_model_module": "@jupyter-widgets/controls",
            "_model_module_version": "1.5.0",
            "_model_name": "HTMLModel",
            "_view_count": null,
            "_view_module": "@jupyter-widgets/controls",
            "_view_module_version": "1.5.0",
            "_view_name": "HTMLView",
            "description": "",
            "description_tooltip": null,
            "layout": "IPY_MODEL_d2fe6e5d86094575b226dd6a9b45f823",
            "placeholder": "​",
            "style": "IPY_MODEL_87240e3ca8284ab1bab4c573026a0c87",
            "value": " 466k/466k [00:00&lt;00:00, 5.98MB/s]"
          }
        },
        "524a2945df12464dba54aac2635c90dc": {
          "model_module": "@jupyter-widgets/base",
          "model_name": "LayoutModel",
          "model_module_version": "1.2.0",
          "state": {
            "_model_module": "@jupyter-widgets/base",
            "_model_module_version": "1.2.0",
            "_model_name": "LayoutModel",
            "_view_count": null,
            "_view_module": "@jupyter-widgets/base",
            "_view_module_version": "1.2.0",
            "_view_name": "LayoutView",
            "align_content": null,
            "align_items": null,
            "align_self": null,
            "border": null,
            "bottom": null,
            "display": null,
            "flex": null,
            "flex_flow": null,
            "grid_area": null,
            "grid_auto_columns": null,
            "grid_auto_flow": null,
            "grid_auto_rows": null,
            "grid_column": null,
            "grid_gap": null,
            "grid_row": null,
            "grid_template_areas": null,
            "grid_template_columns": null,
            "grid_template_rows": null,
            "height": null,
            "justify_content": null,
            "justify_items": null,
            "left": null,
            "margin": null,
            "max_height": null,
            "max_width": null,
            "min_height": null,
            "min_width": null,
            "object_fit": null,
            "object_position": null,
            "order": null,
            "overflow": null,
            "overflow_x": null,
            "overflow_y": null,
            "padding": null,
            "right": null,
            "top": null,
            "visibility": null,
            "width": null
          }
        },
        "f6e7a49226984541ae302bb3afd4d67e": {
          "model_module": "@jupyter-widgets/base",
          "model_name": "LayoutModel",
          "model_module_version": "1.2.0",
          "state": {
            "_model_module": "@jupyter-widgets/base",
            "_model_module_version": "1.2.0",
            "_model_name": "LayoutModel",
            "_view_count": null,
            "_view_module": "@jupyter-widgets/base",
            "_view_module_version": "1.2.0",
            "_view_name": "LayoutView",
            "align_content": null,
            "align_items": null,
            "align_self": null,
            "border": null,
            "bottom": null,
            "display": null,
            "flex": null,
            "flex_flow": null,
            "grid_area": null,
            "grid_auto_columns": null,
            "grid_auto_flow": null,
            "grid_auto_rows": null,
            "grid_column": null,
            "grid_gap": null,
            "grid_row": null,
            "grid_template_areas": null,
            "grid_template_columns": null,
            "grid_template_rows": null,
            "height": null,
            "justify_content": null,
            "justify_items": null,
            "left": null,
            "margin": null,
            "max_height": null,
            "max_width": null,
            "min_height": null,
            "min_width": null,
            "object_fit": null,
            "object_position": null,
            "order": null,
            "overflow": null,
            "overflow_x": null,
            "overflow_y": null,
            "padding": null,
            "right": null,
            "top": null,
            "visibility": null,
            "width": null
          }
        },
        "46fed1d4ca8b49d0abaa7d2ed5f2d579": {
          "model_module": "@jupyter-widgets/controls",
          "model_name": "DescriptionStyleModel",
          "model_module_version": "1.5.0",
          "state": {
            "_model_module": "@jupyter-widgets/controls",
            "_model_module_version": "1.5.0",
            "_model_name": "DescriptionStyleModel",
            "_view_count": null,
            "_view_module": "@jupyter-widgets/base",
            "_view_module_version": "1.2.0",
            "_view_name": "StyleView",
            "description_width": ""
          }
        },
        "94b26adc64af45fcba39df965f8a7c28": {
          "model_module": "@jupyter-widgets/base",
          "model_name": "LayoutModel",
          "model_module_version": "1.2.0",
          "state": {
            "_model_module": "@jupyter-widgets/base",
            "_model_module_version": "1.2.0",
            "_model_name": "LayoutModel",
            "_view_count": null,
            "_view_module": "@jupyter-widgets/base",
            "_view_module_version": "1.2.0",
            "_view_name": "LayoutView",
            "align_content": null,
            "align_items": null,
            "align_self": null,
            "border": null,
            "bottom": null,
            "display": null,
            "flex": null,
            "flex_flow": null,
            "grid_area": null,
            "grid_auto_columns": null,
            "grid_auto_flow": null,
            "grid_auto_rows": null,
            "grid_column": null,
            "grid_gap": null,
            "grid_row": null,
            "grid_template_areas": null,
            "grid_template_columns": null,
            "grid_template_rows": null,
            "height": null,
            "justify_content": null,
            "justify_items": null,
            "left": null,
            "margin": null,
            "max_height": null,
            "max_width": null,
            "min_height": null,
            "min_width": null,
            "object_fit": null,
            "object_position": null,
            "order": null,
            "overflow": null,
            "overflow_x": null,
            "overflow_y": null,
            "padding": null,
            "right": null,
            "top": null,
            "visibility": null,
            "width": null
          }
        },
        "fa43fe1aa4b44ff7abd5852be8f92770": {
          "model_module": "@jupyter-widgets/controls",
          "model_name": "ProgressStyleModel",
          "model_module_version": "1.5.0",
          "state": {
            "_model_module": "@jupyter-widgets/controls",
            "_model_module_version": "1.5.0",
            "_model_name": "ProgressStyleModel",
            "_view_count": null,
            "_view_module": "@jupyter-widgets/base",
            "_view_module_version": "1.2.0",
            "_view_name": "StyleView",
            "bar_color": null,
            "description_width": ""
          }
        },
        "d2fe6e5d86094575b226dd6a9b45f823": {
          "model_module": "@jupyter-widgets/base",
          "model_name": "LayoutModel",
          "model_module_version": "1.2.0",
          "state": {
            "_model_module": "@jupyter-widgets/base",
            "_model_module_version": "1.2.0",
            "_model_name": "LayoutModel",
            "_view_count": null,
            "_view_module": "@jupyter-widgets/base",
            "_view_module_version": "1.2.0",
            "_view_name": "LayoutView",
            "align_content": null,
            "align_items": null,
            "align_self": null,
            "border": null,
            "bottom": null,
            "display": null,
            "flex": null,
            "flex_flow": null,
            "grid_area": null,
            "grid_auto_columns": null,
            "grid_auto_flow": null,
            "grid_auto_rows": null,
            "grid_column": null,
            "grid_gap": null,
            "grid_row": null,
            "grid_template_areas": null,
            "grid_template_columns": null,
            "grid_template_rows": null,
            "height": null,
            "justify_content": null,
            "justify_items": null,
            "left": null,
            "margin": null,
            "max_height": null,
            "max_width": null,
            "min_height": null,
            "min_width": null,
            "object_fit": null,
            "object_position": null,
            "order": null,
            "overflow": null,
            "overflow_x": null,
            "overflow_y": null,
            "padding": null,
            "right": null,
            "top": null,
            "visibility": null,
            "width": null
          }
        },
        "87240e3ca8284ab1bab4c573026a0c87": {
          "model_module": "@jupyter-widgets/controls",
          "model_name": "DescriptionStyleModel",
          "model_module_version": "1.5.0",
          "state": {
            "_model_module": "@jupyter-widgets/controls",
            "_model_module_version": "1.5.0",
            "_model_name": "DescriptionStyleModel",
            "_view_count": null,
            "_view_module": "@jupyter-widgets/base",
            "_view_module_version": "1.2.0",
            "_view_name": "StyleView",
            "description_width": ""
          }
        },
        "44493161cdbf45b8ad41c2e49ea87fa6": {
          "model_module": "@jupyter-widgets/controls",
          "model_name": "HBoxModel",
          "model_module_version": "1.5.0",
          "state": {
            "_dom_classes": [],
            "_model_module": "@jupyter-widgets/controls",
            "_model_module_version": "1.5.0",
            "_model_name": "HBoxModel",
            "_view_count": null,
            "_view_module": "@jupyter-widgets/controls",
            "_view_module_version": "1.5.0",
            "_view_name": "HBoxView",
            "box_style": "",
            "children": [
              "IPY_MODEL_6f8ba3a2094248daaf7b6c7e5541162d",
              "IPY_MODEL_56205fe3516549658bc57520133dfb22",
              "IPY_MODEL_04dfa70b4b8348ba804358902d9e623f"
            ],
            "layout": "IPY_MODEL_2eb6abea74e840cdb0a684266145c944"
          }
        },
        "6f8ba3a2094248daaf7b6c7e5541162d": {
          "model_module": "@jupyter-widgets/controls",
          "model_name": "HTMLModel",
          "model_module_version": "1.5.0",
          "state": {
            "_dom_classes": [],
            "_model_module": "@jupyter-widgets/controls",
            "_model_module_version": "1.5.0",
            "_model_name": "HTMLModel",
            "_view_count": null,
            "_view_module": "@jupyter-widgets/controls",
            "_view_module_version": "1.5.0",
            "_view_name": "HTMLView",
            "description": "",
            "description_tooltip": null,
            "layout": "IPY_MODEL_9f79418f2a8149a98b8803c1d85b13fc",
            "placeholder": "​",
            "style": "IPY_MODEL_18b8ad6b2f88489a8abcfef43ebc64a3",
            "value": "config.json: 100%"
          }
        },
        "56205fe3516549658bc57520133dfb22": {
          "model_module": "@jupyter-widgets/controls",
          "model_name": "FloatProgressModel",
          "model_module_version": "1.5.0",
          "state": {
            "_dom_classes": [],
            "_model_module": "@jupyter-widgets/controls",
            "_model_module_version": "1.5.0",
            "_model_name": "FloatProgressModel",
            "_view_count": null,
            "_view_module": "@jupyter-widgets/controls",
            "_view_module_version": "1.5.0",
            "_view_name": "ProgressView",
            "bar_style": "success",
            "description": "",
            "description_tooltip": null,
            "layout": "IPY_MODEL_f8b19d160fa64a4ca057be6e7ea77330",
            "max": 570,
            "min": 0,
            "orientation": "horizontal",
            "style": "IPY_MODEL_59a0861abb9d4a729b509321744fda04",
            "value": 570
          }
        },
        "04dfa70b4b8348ba804358902d9e623f": {
          "model_module": "@jupyter-widgets/controls",
          "model_name": "HTMLModel",
          "model_module_version": "1.5.0",
          "state": {
            "_dom_classes": [],
            "_model_module": "@jupyter-widgets/controls",
            "_model_module_version": "1.5.0",
            "_model_name": "HTMLModel",
            "_view_count": null,
            "_view_module": "@jupyter-widgets/controls",
            "_view_module_version": "1.5.0",
            "_view_name": "HTMLView",
            "description": "",
            "description_tooltip": null,
            "layout": "IPY_MODEL_d405a19f32864f3a96eddfa500cb23b8",
            "placeholder": "​",
            "style": "IPY_MODEL_7119e26528fc400ab2869a00ca68506f",
            "value": " 570/570 [00:00&lt;00:00, 62.4kB/s]"
          }
        },
        "2eb6abea74e840cdb0a684266145c944": {
          "model_module": "@jupyter-widgets/base",
          "model_name": "LayoutModel",
          "model_module_version": "1.2.0",
          "state": {
            "_model_module": "@jupyter-widgets/base",
            "_model_module_version": "1.2.0",
            "_model_name": "LayoutModel",
            "_view_count": null,
            "_view_module": "@jupyter-widgets/base",
            "_view_module_version": "1.2.0",
            "_view_name": "LayoutView",
            "align_content": null,
            "align_items": null,
            "align_self": null,
            "border": null,
            "bottom": null,
            "display": null,
            "flex": null,
            "flex_flow": null,
            "grid_area": null,
            "grid_auto_columns": null,
            "grid_auto_flow": null,
            "grid_auto_rows": null,
            "grid_column": null,
            "grid_gap": null,
            "grid_row": null,
            "grid_template_areas": null,
            "grid_template_columns": null,
            "grid_template_rows": null,
            "height": null,
            "justify_content": null,
            "justify_items": null,
            "left": null,
            "margin": null,
            "max_height": null,
            "max_width": null,
            "min_height": null,
            "min_width": null,
            "object_fit": null,
            "object_position": null,
            "order": null,
            "overflow": null,
            "overflow_x": null,
            "overflow_y": null,
            "padding": null,
            "right": null,
            "top": null,
            "visibility": null,
            "width": null
          }
        },
        "9f79418f2a8149a98b8803c1d85b13fc": {
          "model_module": "@jupyter-widgets/base",
          "model_name": "LayoutModel",
          "model_module_version": "1.2.0",
          "state": {
            "_model_module": "@jupyter-widgets/base",
            "_model_module_version": "1.2.0",
            "_model_name": "LayoutModel",
            "_view_count": null,
            "_view_module": "@jupyter-widgets/base",
            "_view_module_version": "1.2.0",
            "_view_name": "LayoutView",
            "align_content": null,
            "align_items": null,
            "align_self": null,
            "border": null,
            "bottom": null,
            "display": null,
            "flex": null,
            "flex_flow": null,
            "grid_area": null,
            "grid_auto_columns": null,
            "grid_auto_flow": null,
            "grid_auto_rows": null,
            "grid_column": null,
            "grid_gap": null,
            "grid_row": null,
            "grid_template_areas": null,
            "grid_template_columns": null,
            "grid_template_rows": null,
            "height": null,
            "justify_content": null,
            "justify_items": null,
            "left": null,
            "margin": null,
            "max_height": null,
            "max_width": null,
            "min_height": null,
            "min_width": null,
            "object_fit": null,
            "object_position": null,
            "order": null,
            "overflow": null,
            "overflow_x": null,
            "overflow_y": null,
            "padding": null,
            "right": null,
            "top": null,
            "visibility": null,
            "width": null
          }
        },
        "18b8ad6b2f88489a8abcfef43ebc64a3": {
          "model_module": "@jupyter-widgets/controls",
          "model_name": "DescriptionStyleModel",
          "model_module_version": "1.5.0",
          "state": {
            "_model_module": "@jupyter-widgets/controls",
            "_model_module_version": "1.5.0",
            "_model_name": "DescriptionStyleModel",
            "_view_count": null,
            "_view_module": "@jupyter-widgets/base",
            "_view_module_version": "1.2.0",
            "_view_name": "StyleView",
            "description_width": ""
          }
        },
        "f8b19d160fa64a4ca057be6e7ea77330": {
          "model_module": "@jupyter-widgets/base",
          "model_name": "LayoutModel",
          "model_module_version": "1.2.0",
          "state": {
            "_model_module": "@jupyter-widgets/base",
            "_model_module_version": "1.2.0",
            "_model_name": "LayoutModel",
            "_view_count": null,
            "_view_module": "@jupyter-widgets/base",
            "_view_module_version": "1.2.0",
            "_view_name": "LayoutView",
            "align_content": null,
            "align_items": null,
            "align_self": null,
            "border": null,
            "bottom": null,
            "display": null,
            "flex": null,
            "flex_flow": null,
            "grid_area": null,
            "grid_auto_columns": null,
            "grid_auto_flow": null,
            "grid_auto_rows": null,
            "grid_column": null,
            "grid_gap": null,
            "grid_row": null,
            "grid_template_areas": null,
            "grid_template_columns": null,
            "grid_template_rows": null,
            "height": null,
            "justify_content": null,
            "justify_items": null,
            "left": null,
            "margin": null,
            "max_height": null,
            "max_width": null,
            "min_height": null,
            "min_width": null,
            "object_fit": null,
            "object_position": null,
            "order": null,
            "overflow": null,
            "overflow_x": null,
            "overflow_y": null,
            "padding": null,
            "right": null,
            "top": null,
            "visibility": null,
            "width": null
          }
        },
        "59a0861abb9d4a729b509321744fda04": {
          "model_module": "@jupyter-widgets/controls",
          "model_name": "ProgressStyleModel",
          "model_module_version": "1.5.0",
          "state": {
            "_model_module": "@jupyter-widgets/controls",
            "_model_module_version": "1.5.0",
            "_model_name": "ProgressStyleModel",
            "_view_count": null,
            "_view_module": "@jupyter-widgets/base",
            "_view_module_version": "1.2.0",
            "_view_name": "StyleView",
            "bar_color": null,
            "description_width": ""
          }
        },
        "d405a19f32864f3a96eddfa500cb23b8": {
          "model_module": "@jupyter-widgets/base",
          "model_name": "LayoutModel",
          "model_module_version": "1.2.0",
          "state": {
            "_model_module": "@jupyter-widgets/base",
            "_model_module_version": "1.2.0",
            "_model_name": "LayoutModel",
            "_view_count": null,
            "_view_module": "@jupyter-widgets/base",
            "_view_module_version": "1.2.0",
            "_view_name": "LayoutView",
            "align_content": null,
            "align_items": null,
            "align_self": null,
            "border": null,
            "bottom": null,
            "display": null,
            "flex": null,
            "flex_flow": null,
            "grid_area": null,
            "grid_auto_columns": null,
            "grid_auto_flow": null,
            "grid_auto_rows": null,
            "grid_column": null,
            "grid_gap": null,
            "grid_row": null,
            "grid_template_areas": null,
            "grid_template_columns": null,
            "grid_template_rows": null,
            "height": null,
            "justify_content": null,
            "justify_items": null,
            "left": null,
            "margin": null,
            "max_height": null,
            "max_width": null,
            "min_height": null,
            "min_width": null,
            "object_fit": null,
            "object_position": null,
            "order": null,
            "overflow": null,
            "overflow_x": null,
            "overflow_y": null,
            "padding": null,
            "right": null,
            "top": null,
            "visibility": null,
            "width": null
          }
        },
        "7119e26528fc400ab2869a00ca68506f": {
          "model_module": "@jupyter-widgets/controls",
          "model_name": "DescriptionStyleModel",
          "model_module_version": "1.5.0",
          "state": {
            "_model_module": "@jupyter-widgets/controls",
            "_model_module_version": "1.5.0",
            "_model_name": "DescriptionStyleModel",
            "_view_count": null,
            "_view_module": "@jupyter-widgets/base",
            "_view_module_version": "1.2.0",
            "_view_name": "StyleView",
            "description_width": ""
          }
        },
        "af77d29a4bbc4e75b0e7960748bea786": {
          "model_module": "@jupyter-widgets/controls",
          "model_name": "HBoxModel",
          "model_module_version": "1.5.0",
          "state": {
            "_dom_classes": [],
            "_model_module": "@jupyter-widgets/controls",
            "_model_module_version": "1.5.0",
            "_model_name": "HBoxModel",
            "_view_count": null,
            "_view_module": "@jupyter-widgets/controls",
            "_view_module_version": "1.5.0",
            "_view_name": "HBoxView",
            "box_style": "",
            "children": [
              "IPY_MODEL_51ab96861a70439fb8dd31defaba20a9",
              "IPY_MODEL_b531009f0c874046a199c12d2921490c",
              "IPY_MODEL_434a58e41420483188f68ca204aa66b0"
            ],
            "layout": "IPY_MODEL_f8b67bf65d6949ada04a75b314221043"
          }
        },
        "51ab96861a70439fb8dd31defaba20a9": {
          "model_module": "@jupyter-widgets/controls",
          "model_name": "HTMLModel",
          "model_module_version": "1.5.0",
          "state": {
            "_dom_classes": [],
            "_model_module": "@jupyter-widgets/controls",
            "_model_module_version": "1.5.0",
            "_model_name": "HTMLModel",
            "_view_count": null,
            "_view_module": "@jupyter-widgets/controls",
            "_view_module_version": "1.5.0",
            "_view_name": "HTMLView",
            "description": "",
            "description_tooltip": null,
            "layout": "IPY_MODEL_13adaef720e14b5eabcb95c853952e35",
            "placeholder": "​",
            "style": "IPY_MODEL_5d71a3f92da045cdad53843f7cf9f483",
            "value": "model.safetensors: 100%"
          }
        },
        "b531009f0c874046a199c12d2921490c": {
          "model_module": "@jupyter-widgets/controls",
          "model_name": "FloatProgressModel",
          "model_module_version": "1.5.0",
          "state": {
            "_dom_classes": [],
            "_model_module": "@jupyter-widgets/controls",
            "_model_module_version": "1.5.0",
            "_model_name": "FloatProgressModel",
            "_view_count": null,
            "_view_module": "@jupyter-widgets/controls",
            "_view_module_version": "1.5.0",
            "_view_name": "ProgressView",
            "bar_style": "success",
            "description": "",
            "description_tooltip": null,
            "layout": "IPY_MODEL_54dedbd4ed84457280096769f7ce3ab0",
            "max": 440449768,
            "min": 0,
            "orientation": "horizontal",
            "style": "IPY_MODEL_bb0586ad3ca443ac8909dcea70145695",
            "value": 440449768
          }
        },
        "434a58e41420483188f68ca204aa66b0": {
          "model_module": "@jupyter-widgets/controls",
          "model_name": "HTMLModel",
          "model_module_version": "1.5.0",
          "state": {
            "_dom_classes": [],
            "_model_module": "@jupyter-widgets/controls",
            "_model_module_version": "1.5.0",
            "_model_name": "HTMLModel",
            "_view_count": null,
            "_view_module": "@jupyter-widgets/controls",
            "_view_module_version": "1.5.0",
            "_view_name": "HTMLView",
            "description": "",
            "description_tooltip": null,
            "layout": "IPY_MODEL_64f427e0fbc34791ad958abee47fbc6d",
            "placeholder": "​",
            "style": "IPY_MODEL_7c3552ad72874d1f87da07d6a0a462b2",
            "value": " 440M/440M [00:06&lt;00:00, 96.5MB/s]"
          }
        },
        "f8b67bf65d6949ada04a75b314221043": {
          "model_module": "@jupyter-widgets/base",
          "model_name": "LayoutModel",
          "model_module_version": "1.2.0",
          "state": {
            "_model_module": "@jupyter-widgets/base",
            "_model_module_version": "1.2.0",
            "_model_name": "LayoutModel",
            "_view_count": null,
            "_view_module": "@jupyter-widgets/base",
            "_view_module_version": "1.2.0",
            "_view_name": "LayoutView",
            "align_content": null,
            "align_items": null,
            "align_self": null,
            "border": null,
            "bottom": null,
            "display": null,
            "flex": null,
            "flex_flow": null,
            "grid_area": null,
            "grid_auto_columns": null,
            "grid_auto_flow": null,
            "grid_auto_rows": null,
            "grid_column": null,
            "grid_gap": null,
            "grid_row": null,
            "grid_template_areas": null,
            "grid_template_columns": null,
            "grid_template_rows": null,
            "height": null,
            "justify_content": null,
            "justify_items": null,
            "left": null,
            "margin": null,
            "max_height": null,
            "max_width": null,
            "min_height": null,
            "min_width": null,
            "object_fit": null,
            "object_position": null,
            "order": null,
            "overflow": null,
            "overflow_x": null,
            "overflow_y": null,
            "padding": null,
            "right": null,
            "top": null,
            "visibility": null,
            "width": null
          }
        },
        "13adaef720e14b5eabcb95c853952e35": {
          "model_module": "@jupyter-widgets/base",
          "model_name": "LayoutModel",
          "model_module_version": "1.2.0",
          "state": {
            "_model_module": "@jupyter-widgets/base",
            "_model_module_version": "1.2.0",
            "_model_name": "LayoutModel",
            "_view_count": null,
            "_view_module": "@jupyter-widgets/base",
            "_view_module_version": "1.2.0",
            "_view_name": "LayoutView",
            "align_content": null,
            "align_items": null,
            "align_self": null,
            "border": null,
            "bottom": null,
            "display": null,
            "flex": null,
            "flex_flow": null,
            "grid_area": null,
            "grid_auto_columns": null,
            "grid_auto_flow": null,
            "grid_auto_rows": null,
            "grid_column": null,
            "grid_gap": null,
            "grid_row": null,
            "grid_template_areas": null,
            "grid_template_columns": null,
            "grid_template_rows": null,
            "height": null,
            "justify_content": null,
            "justify_items": null,
            "left": null,
            "margin": null,
            "max_height": null,
            "max_width": null,
            "min_height": null,
            "min_width": null,
            "object_fit": null,
            "object_position": null,
            "order": null,
            "overflow": null,
            "overflow_x": null,
            "overflow_y": null,
            "padding": null,
            "right": null,
            "top": null,
            "visibility": null,
            "width": null
          }
        },
        "5d71a3f92da045cdad53843f7cf9f483": {
          "model_module": "@jupyter-widgets/controls",
          "model_name": "DescriptionStyleModel",
          "model_module_version": "1.5.0",
          "state": {
            "_model_module": "@jupyter-widgets/controls",
            "_model_module_version": "1.5.0",
            "_model_name": "DescriptionStyleModel",
            "_view_count": null,
            "_view_module": "@jupyter-widgets/base",
            "_view_module_version": "1.2.0",
            "_view_name": "StyleView",
            "description_width": ""
          }
        },
        "54dedbd4ed84457280096769f7ce3ab0": {
          "model_module": "@jupyter-widgets/base",
          "model_name": "LayoutModel",
          "model_module_version": "1.2.0",
          "state": {
            "_model_module": "@jupyter-widgets/base",
            "_model_module_version": "1.2.0",
            "_model_name": "LayoutModel",
            "_view_count": null,
            "_view_module": "@jupyter-widgets/base",
            "_view_module_version": "1.2.0",
            "_view_name": "LayoutView",
            "align_content": null,
            "align_items": null,
            "align_self": null,
            "border": null,
            "bottom": null,
            "display": null,
            "flex": null,
            "flex_flow": null,
            "grid_area": null,
            "grid_auto_columns": null,
            "grid_auto_flow": null,
            "grid_auto_rows": null,
            "grid_column": null,
            "grid_gap": null,
            "grid_row": null,
            "grid_template_areas": null,
            "grid_template_columns": null,
            "grid_template_rows": null,
            "height": null,
            "justify_content": null,
            "justify_items": null,
            "left": null,
            "margin": null,
            "max_height": null,
            "max_width": null,
            "min_height": null,
            "min_width": null,
            "object_fit": null,
            "object_position": null,
            "order": null,
            "overflow": null,
            "overflow_x": null,
            "overflow_y": null,
            "padding": null,
            "right": null,
            "top": null,
            "visibility": null,
            "width": null
          }
        },
        "bb0586ad3ca443ac8909dcea70145695": {
          "model_module": "@jupyter-widgets/controls",
          "model_name": "ProgressStyleModel",
          "model_module_version": "1.5.0",
          "state": {
            "_model_module": "@jupyter-widgets/controls",
            "_model_module_version": "1.5.0",
            "_model_name": "ProgressStyleModel",
            "_view_count": null,
            "_view_module": "@jupyter-widgets/base",
            "_view_module_version": "1.2.0",
            "_view_name": "StyleView",
            "bar_color": null,
            "description_width": ""
          }
        },
        "64f427e0fbc34791ad958abee47fbc6d": {
          "model_module": "@jupyter-widgets/base",
          "model_name": "LayoutModel",
          "model_module_version": "1.2.0",
          "state": {
            "_model_module": "@jupyter-widgets/base",
            "_model_module_version": "1.2.0",
            "_model_name": "LayoutModel",
            "_view_count": null,
            "_view_module": "@jupyter-widgets/base",
            "_view_module_version": "1.2.0",
            "_view_name": "LayoutView",
            "align_content": null,
            "align_items": null,
            "align_self": null,
            "border": null,
            "bottom": null,
            "display": null,
            "flex": null,
            "flex_flow": null,
            "grid_area": null,
            "grid_auto_columns": null,
            "grid_auto_flow": null,
            "grid_auto_rows": null,
            "grid_column": null,
            "grid_gap": null,
            "grid_row": null,
            "grid_template_areas": null,
            "grid_template_columns": null,
            "grid_template_rows": null,
            "height": null,
            "justify_content": null,
            "justify_items": null,
            "left": null,
            "margin": null,
            "max_height": null,
            "max_width": null,
            "min_height": null,
            "min_width": null,
            "object_fit": null,
            "object_position": null,
            "order": null,
            "overflow": null,
            "overflow_x": null,
            "overflow_y": null,
            "padding": null,
            "right": null,
            "top": null,
            "visibility": null,
            "width": null
          }
        },
        "7c3552ad72874d1f87da07d6a0a462b2": {
          "model_module": "@jupyter-widgets/controls",
          "model_name": "DescriptionStyleModel",
          "model_module_version": "1.5.0",
          "state": {
            "_model_module": "@jupyter-widgets/controls",
            "_model_module_version": "1.5.0",
            "_model_name": "DescriptionStyleModel",
            "_view_count": null,
            "_view_module": "@jupyter-widgets/base",
            "_view_module_version": "1.2.0",
            "_view_name": "StyleView",
            "description_width": ""
          }
        }
      }
    }
  },
  "cells": [
    {
      "cell_type": "markdown",
      "metadata": {
        "id": "view-in-github",
        "colab_type": "text"
      },
      "source": [
        "<a href=\"https://colab.research.google.com/github/aymenhmid/NLP_Guide/blob/main/Transformers/Encoder_Only_BERT.ipynb\" target=\"_parent\"><img src=\"https://colab.research.google.com/assets/colab-badge.svg\" alt=\"Open In Colab\"/></a>"
      ]
    },
    {
      "cell_type": "code",
      "source": [
        "import numpy as np\n",
        "import pandas as pd\n",
        "import torch\n",
        "import requests\n",
        "import io\n",
        "import zipfile\n",
        "from torch.utils.data import TensorDataset, DataLoader, RandomSampler\n",
        "from transformers import BertTokenizer, BertModel\n",
        "from sklearn.model_selection import train_test_split\n",
        "from sklearn.metrics import classification_report\n",
        "import torch.nn as nn\n",
        "import torch.optim as optim\n",
        "import matplotlib.pyplot as plt\n",
        "import seaborn as sns\n",
        "from tqdm import tqdm\n",
        "\n",
        "# Set random seed for reproducibility\n",
        "seed_val = 42\n",
        "np.random.seed(seed_val)\n",
        "torch.manual_seed(seed_val)\n",
        "torch.cuda.manual_seed_all(seed_val)\n",
        "\n",
        "# Check if CUDA is available and set device\n",
        "device = torch.device(\"cuda\" if torch.cuda.is_available() else \"cpu\")\n",
        "print(f\"Using device: {device}\")"
      ],
      "metadata": {
        "colab": {
          "base_uri": "https://localhost:8080/"
        },
        "id": "-MFsMBwI5kKE",
        "outputId": "2793d6b5-885a-4716-cfd0-05c1eda55f15"
      },
      "execution_count": 1,
      "outputs": [
        {
          "output_type": "stream",
          "name": "stdout",
          "text": [
            "Using device: cuda\n"
          ]
        }
      ]
    },
    {
      "cell_type": "code",
      "source": [
        "# Download and load the IMDB dataset (a widely used public sentiment analysis dataset)\n",
        "def load_imdb_dataset(max_samples=25000):\n",
        "    print(\"Downloading and preparing IMDB dataset...\")\n",
        "\n",
        "    # Download the dataset\n",
        "    url = \"https://ai.stanford.edu/~amaas/data/sentiment/aclImdb_v1.tar.gz\"\n",
        "\n",
        "    try:\n",
        "        # For this example, let's use a subset of the data from Hugging Face's datasets library\n",
        "        # This is more practical for demonstration purposes\n",
        "        from datasets import load_dataset\n",
        "\n",
        "        # Load the IMDB dataset\n",
        "        dataset = load_dataset(\"imdb\")\n",
        "\n",
        "        # Convert to pandas DataFrame\n",
        "        train_data = pd.DataFrame({\n",
        "            'text': dataset['train']['text'],\n",
        "            'label': dataset['train']['label']\n",
        "        })\n",
        "\n",
        "        test_data = pd.DataFrame({\n",
        "            'text': dataset['test']['text'],\n",
        "            'label': dataset['test']['label']\n",
        "        })\n",
        "\n",
        "        # Subsample if necessary (for faster execution)\n",
        "        if max_samples and max_samples < len(train_data):\n",
        "            # Ensure balanced classes when subsampling\n",
        "            train_data_pos = train_data[train_data['label'] == 1].sample(max_samples//2, random_state=seed_val)\n",
        "            train_data_neg = train_data[train_data['label'] == 0].sample(max_samples//2, random_state=seed_val)\n",
        "            train_data = pd.concat([train_data_pos, train_data_neg]).sample(frac=1, random_state=seed_val).reset_index(drop=True)\n",
        "\n",
        "        if max_samples and max_samples < len(test_data):\n",
        "            test_data_pos = test_data[test_data['label'] == 1].sample(max_samples//10, random_state=seed_val)\n",
        "            test_data_neg = test_data[test_data['label'] == 0].sample(max_samples//10, random_state=seed_val)\n",
        "            test_data = pd.concat([test_data_pos, test_data_neg]).sample(frac=1, random_state=seed_val).reset_index(drop=True)\n",
        "\n",
        "        return train_data, test_data\n",
        "\n",
        "    except Exception as e:\n",
        "        print(f\"Error loading dataset with datasets library: {e}\")\n",
        "        print(\"Falling back to alternative method...\")\n",
        "\n",
        "        # Alternative method if the above fails\n",
        "        try:\n",
        "            # Use a smaller subset of IMDB from a CSV file\n",
        "            url = \"https://raw.githubusercontent.com/rasbt/machine-learning-book/master/code/ch08/movie_data.csv\"\n",
        "            response = requests.get(url)\n",
        "            df = pd.read_csv(io.StringIO(response.text))\n",
        "\n",
        "            # Rename columns for consistency\n",
        "            df.columns = ['text', 'label']\n",
        "\n",
        "            # Split into train and test\n",
        "            train_data, test_data = train_test_split(df, test_size=0.2, random_state=seed_val, stratify=df['label'])\n",
        "\n",
        "            return train_data.reset_index(drop=True), test_data.reset_index(drop=True)\n",
        "\n",
        "        except Exception as e2:\n",
        "            print(f\"Error with alternative method: {e2}\")\n",
        "\n",
        "            # Last resort: Create a small synthetic dataset\n",
        "            print(\"Creating synthetic dataset as last resort...\")\n",
        "\n",
        "            # Create a small synthetic dataset based on IMDB-like reviews\n",
        "            positive_reviews = [\n",
        "                \"This film was fantastic. The acting was incredible and the story kept me engaged throughout.\",\n",
        "                \"One of the best movies I've seen this year. The cinematography was breathtaking.\",\n",
        "                \"A masterpiece of modern cinema. The director's vision truly shines through.\",\n",
        "                \"I was amazed by how good this movie was. Great performances all around.\",\n",
        "                \"This film exceeded all my expectations. Would highly recommend to anyone.\"\n",
        "            ]\n",
        "\n",
        "            negative_reviews = [\n",
        "                \"Terrible movie, complete waste of time and money. The plot made no sense.\",\n",
        "                \"One of the worst films I've ever seen. The acting was wooden and unconvincing.\",\n",
        "                \"I was really disappointed by this movie. The story was predictable and boring.\",\n",
        "                \"Cannot believe how bad this was. The dialogue was awful and the pacing was off.\",\n",
        "                \"Avoid this movie at all costs. Nothing redeeming about it whatsoever.\"\n",
        "            ]\n",
        "\n",
        "            # Generate synthetic data\n",
        "            texts = []\n",
        "            labels = []\n",
        "\n",
        "            for _ in range(800):\n",
        "                texts.append(np.random.choice(positive_reviews))\n",
        "                labels.append(1)\n",
        "\n",
        "                texts.append(np.random.choice(negative_reviews))\n",
        "                labels.append(0)\n",
        "\n",
        "            df = pd.DataFrame({'text': texts, 'label': labels})\n",
        "\n",
        "            # Split into train and test\n",
        "            train_data, test_data = train_test_split(df, test_size=0.2, random_state=seed_val, stratify=df['label'])\n",
        "\n",
        "            return train_data.reset_index(drop=True), test_data.reset_index(drop=True)\n",
        "\n",
        "# Load the dataset\n",
        "train_df, test_df = load_imdb_dataset(max_samples=10000)  # Using 10k samples for faster processing\n",
        "\n",
        "print(f\"Training dataset shape: {train_df.shape}\")\n",
        "print(f\"Testing dataset shape: {test_df.shape}\")\n",
        "print(\"\\nClass distribution in training data:\")\n",
        "print(train_df['label'].value_counts())\n",
        "print(\"\\nSample data from training set:\")\n",
        "print(train_df.head())\n",
        "\n",
        "# Check for data quality issues\n",
        "def check_data_quality(df, dataset_name=\"Dataset\"):\n",
        "    print(f\"\\n--- Data Quality Check for {dataset_name} ---\")\n",
        "\n",
        "    # Check for missing values\n",
        "    missing_values = df.isnull().sum()\n",
        "    print(f\"Missing values:\\n{missing_values}\")\n",
        "\n",
        "    # Check for empty strings\n",
        "    empty_texts = (df['text'] == '').sum()\n",
        "    print(f\"Empty text fields: {empty_texts}\")\n",
        "\n",
        "    # Check text length distribution\n",
        "    df['text_length'] = df['text'].apply(len)\n",
        "    print(f\"\\nText length statistics:\\n{df['text_length'].describe()}\")\n",
        "\n",
        "    # Visualize text length distribution\n",
        "    plt.figure(figsize=(10, 6))\n",
        "    sns.histplot(df['text_length'], kde=True, bins=50)\n",
        "    plt.title(f'Distribution of Text Lengths in {dataset_name}')\n",
        "    plt.xlabel('Length (characters)')\n",
        "    plt.ylabel('Count')\n",
        "    plt.axvline(df['text_length'].median(), color='r', linestyle='--', label=f'Median: {df[\"text_length\"].median():.0f}')\n",
        "    plt.axvline(df['text_length'].mean(), color='g', linestyle='--', label=f'Mean: {df[\"text_length\"].mean():.0f}')\n",
        "    plt.legend()\n",
        "    plt.show()\n",
        "\n",
        "    # Check label distribution\n",
        "    print(f\"\\nLabel distribution in {dataset_name}:\\n{df['label'].value_counts(normalize=True)}\")\n",
        "\n",
        "    # Visualize label distribution\n",
        "    plt.figure(figsize=(8, 5))\n",
        "    sns.countplot(x='label', data=df)\n",
        "    plt.title(f'Label Distribution in {dataset_name}')\n",
        "    plt.xlabel('Label (0=Negative, 1=Positive)')\n",
        "    plt.ylabel('Count')\n",
        "    plt.show()\n",
        "\n",
        "    # Check for very short texts (potential data quality issue)\n",
        "    short_texts = df[df['text_length'] < 20]\n",
        "    if len(short_texts) > 0:\n",
        "        print(f\"\\nWarning: Found {len(short_texts)} very short texts (<20 chars)\")\n",
        "        print(\"Sample of short texts:\")\n",
        "        print(short_texts.head(3))\n",
        "\n",
        "    # Check for very long texts (may need truncation for BERT)\n",
        "    long_texts = df[df['text_length'] > 512]\n",
        "    print(f\"\\nTexts longer than 512 chars (will be truncated for BERT): {len(long_texts)} ({len(long_texts)/len(df)*100:.2f}%)\")\n",
        "\n",
        "    # Look for potential data leakage between train and test (if applicable)\n",
        "    if 'split' in df.columns:\n",
        "        train_texts = set(df[df['split'] == 'train']['text'])\n",
        "        test_texts = set(df[df['split'] == 'test']['text'])\n",
        "        overlap = train_texts.intersection(test_texts)\n",
        "        if overlap:\n",
        "            print(f\"WARNING: Found {len(overlap)} texts that appear in both train and test sets!\")\n",
        "\n",
        "    return df\n",
        "\n",
        "# Check data quality for both datasets\n",
        "train_df = check_data_quality(train_df, \"Training Dataset\")\n",
        "test_df = check_data_quality(test_df, \"Testing Dataset\")\n",
        "\n",
        "# Calculate max sequence length based on data distribution\n",
        "def calculate_max_seq_length(df, tokenizer, percentile=95):\n",
        "    \"\"\"Calculate appropriate max sequence length based on token length distribution\"\"\"\n",
        "    # Sample a subset for efficiency if the dataset is large\n",
        "    if len(df) > 1000:\n",
        "        sample_df = df.sample(1000, random_state=seed_val)\n",
        "    else:\n",
        "        sample_df = df\n",
        "\n",
        "    # Calculate token lengths\n",
        "    token_lengths = []\n",
        "    for text in tqdm(sample_df['text'], desc=\"Calculating token lengths\"):\n",
        "        tokens = tokenizer.tokenize(text)\n",
        "        token_lengths.append(len(tokens))\n",
        "\n",
        "    # Calculate percentile for max length\n",
        "    max_len = int(np.percentile(token_lengths, percentile))\n",
        "\n",
        "    # Add room for [CLS] and [SEP] tokens\n",
        "    max_len += 2\n",
        "\n",
        "    # BERT has a maximum sequence length of 512\n",
        "    max_len = min(max_len, 512)\n",
        "\n",
        "    print(f\"\\nToken length statistics:\")\n",
        "    print(f\"Mean: {np.mean(token_lengths):.1f}\")\n",
        "    print(f\"Median: {np.median(token_lengths)}\")\n",
        "    print(f\"95th percentile: {np.percentile(token_lengths, 95)}\")\n",
        "    print(f\"99th percentile: {np.percentile(token_lengths, 99)}\")\n",
        "    print(f\"Selected max sequence length: {max_len}\")\n",
        "\n",
        "    # Visualize token length distribution\n",
        "    plt.figure(figsize=(10, 6))\n",
        "    sns.histplot(token_lengths, kde=True, bins=50)\n",
        "    plt.title('Distribution of Token Lengths')\n",
        "    plt.xlabel('Number of Tokens')\n",
        "    plt.ylabel('Count')\n",
        "    plt.axvline(max_len, color='r', linestyle='--', label=f'Selected Max Length: {max_len}')\n",
        "    plt.legend()\n",
        "    plt.show()\n",
        "\n",
        "    return max_len"
      ],
      "metadata": {
        "colab": {
          "base_uri": "https://localhost:8080/",
          "height": 1000,
          "referenced_widgets": [
            "9b1823b1009c48f89172efd9dd808dab",
            "1bd070e92d35499a90f9fadbb9200076",
            "f12187a165f44d518e5fbcde8e226eaf",
            "aeb29e09ac9e449a88054c652052c7d4",
            "029b94a9b85446038daaf31c75ed42b6",
            "66c0f030d0bb4c69856f3119685fbef1",
            "e2958b8b301e4cfaacd7d9486e1394f1",
            "c1564818883b4a0aad5b5a99419eee16",
            "87193c6f75214188b42f4e5d7aa5aeb7",
            "dd914ce8b508433eaef621e09f749410",
            "955c43019c074e0c95b69dfb38f99c62"
          ]
        },
        "id": "DZQGjv7N59yP",
        "outputId": "f214f16a-019c-46a2-829e-99917f59dd31"
      },
      "execution_count": 2,
      "outputs": [
        {
          "output_type": "stream",
          "name": "stdout",
          "text": [
            "Downloading and preparing IMDB dataset...\n"
          ]
        },
        {
          "output_type": "stream",
          "name": "stderr",
          "text": [
            "/usr/local/lib/python3.11/dist-packages/huggingface_hub/utils/_auth.py:94: UserWarning: \n",
            "The secret `HF_TOKEN` does not exist in your Colab secrets.\n",
            "To authenticate with the Hugging Face Hub, create a token in your settings tab (https://huggingface.co/settings/tokens), set it as secret in your Google Colab and restart your session.\n",
            "You will be able to reuse this secret in all of your notebooks.\n",
            "Please note that authentication is recommended but still optional to access public models or datasets.\n",
            "  warnings.warn(\n"
          ]
        },
        {
          "output_type": "display_data",
          "data": {
            "text/plain": [
              "Downloading readme:   0%|          | 0.00/7.81k [00:00<?, ?B/s]"
            ],
            "application/vnd.jupyter.widget-view+json": {
              "version_major": 2,
              "version_minor": 0,
              "model_id": "9b1823b1009c48f89172efd9dd808dab"
            }
          },
          "metadata": {}
        },
        {
          "output_type": "stream",
          "name": "stdout",
          "text": [
            "Error loading dataset with datasets library: Invalid pattern: '**' can only be an entire path component\n",
            "Falling back to alternative method...\n",
            "Error with alternative method: Length mismatch: Expected axis has 1 elements, new values have 2 elements\n",
            "Creating synthetic dataset as last resort...\n",
            "Training dataset shape: (1280, 2)\n",
            "Testing dataset shape: (320, 2)\n",
            "\n",
            "Class distribution in training data:\n",
            "label\n",
            "0    640\n",
            "1    640\n",
            "Name: count, dtype: int64\n",
            "\n",
            "Sample data from training set:\n",
            "                                                text  label\n",
            "0  Cannot believe how bad this was. The dialogue ...      0\n",
            "1  A masterpiece of modern cinema. The director's...      1\n",
            "2  Avoid this movie at all costs. Nothing redeemi...      0\n",
            "3  One of the worst films I've ever seen. The act...      0\n",
            "4  A masterpiece of modern cinema. The director's...      1\n",
            "\n",
            "--- Data Quality Check for Training Dataset ---\n",
            "Missing values:\n",
            "text     0\n",
            "label    0\n",
            "dtype: int64\n",
            "Empty text fields: 0\n",
            "\n",
            "Text length statistics:\n",
            "count    1280.000000\n",
            "mean       76.775000\n",
            "std         6.268503\n",
            "min        69.000000\n",
            "25%        73.000000\n",
            "50%        75.000000\n",
            "75%        79.000000\n",
            "max        92.000000\n",
            "Name: text_length, dtype: float64\n"
          ]
        },
        {
          "output_type": "display_data",
          "data": {
            "text/plain": [
              "<Figure size 1000x600 with 1 Axes>"
            ],
            "image/png": "[encoded data removed]"
          },
          "metadata": {}
        },
        {
          "output_type": "stream",
          "name": "stdout",
          "text": [
            "\n",
            "Label distribution in Training Dataset:\n",
            "label\n",
            "0    0.5\n",
            "1    0.5\n",
            "Name: proportion, dtype: float64\n"
          ]
        },
        {
          "output_type": "display_data",
          "data": {
            "text/plain": [
              "<Figure size 800x500 with 1 Axes>"
            ],
            "image/png": "[encoded data removed]"
          },
          "metadata": {}
        },
        {
          "output_type": "stream",
          "name": "stdout",
          "text": [
            "\n",
            "Texts longer than 512 chars (will be truncated for BERT): 0 (0.00%)\n",
            "\n",
            "--- Data Quality Check for Testing Dataset ---\n",
            "Missing values:\n",
            "text     0\n",
            "label    0\n",
            "dtype: int64\n",
            "Empty text fields: 0\n",
            "\n",
            "Text length statistics:\n",
            "count    320.000000\n",
            "mean      76.959375\n",
            "std        6.462448\n",
            "min       69.000000\n",
            "25%       73.000000\n",
            "50%       76.500000\n",
            "75%       79.000000\n",
            "max       92.000000\n",
            "Name: text_length, dtype: float64\n"
          ]
        },
        {
          "output_type": "display_data",
          "data": {
            "text/plain": [
              "<Figure size 1000x600 with 1 Axes>"
            ],
            "image/png": "[encoded data removed]"
          },
          "metadata": {}
        },
        {
          "output_type": "stream",
          "name": "stdout",
          "text": [
            "\n",
            "Label distribution in Testing Dataset:\n",
            "label\n",
            "1    0.5\n",
            "0    0.5\n",
            "Name: proportion, dtype: float64\n"
          ]
        },
        {
          "output_type": "display_data",
          "data": {
            "text/plain": [
              "<Figure size 800x500 with 1 Axes>"
            ],
            "image/png": "[encoded data removed]"
          },
          "metadata": {}
        },
        {
          "output_type": "stream",
          "name": "stdout",
          "text": [
            "\n",
            "Texts longer than 512 chars (will be truncated for BERT): 0 (0.00%)\n"
          ]
        }
      ]
    },
    {
      "cell_type": "code",
      "source": [
        "# Load BERT tokenizer\n",
        "tokenizer = BertTokenizer.from_pretrained('bert-base-uncased')\n",
        "\n",
        "# Calculate appropriate max sequence length\n",
        "max_seq_length = calculate_max_seq_length(train_df, tokenizer)\n",
        "\n",
        "# Tokenize and prepare data\n",
        "def tokenize_data(texts, tokenizer, max_len):\n",
        "    input_ids = []\n",
        "    attention_masks = []\n",
        "\n",
        "    for text in tqdm(texts, desc=\"Tokenizing\"):\n",
        "        # Tokenize the text\n",
        "        encoded_dict = tokenizer.encode_plus(\n",
        "            text,\n",
        "            add_special_tokens=True,  # Add [CLS] and [SEP]\n",
        "            max_length=max_len,\n",
        "            padding='max_length',\n",
        "            truncation=True,\n",
        "            return_attention_mask=True,\n",
        "            return_tensors='pt',\n",
        "        )\n",
        "\n",
        "        input_ids.append(encoded_dict['input_ids'])\n",
        "        attention_masks.append(encoded_dict['attention_mask'])\n",
        "\n",
        "    # Convert lists to tensors\n",
        "    input_ids = torch.cat(input_ids, dim=0)\n",
        "    attention_masks = torch.cat(attention_masks, dim=0)\n",
        "\n",
        "    return input_ids, attention_masks\n",
        "\n",
        "# Split validation data from training data\n",
        "train_texts, val_texts, train_labels, val_labels = train_test_split(\n",
        "    train_df['text'].values, train_df['label'].values,\n",
        "    test_size=0.1, random_state=seed_val, stratify=train_df['label']\n",
        ")\n",
        "\n",
        "test_texts = test_df['text'].values\n",
        "test_labels = test_df['label'].values\n",
        "\n",
        "print(f\"Training set size: {len(train_texts)}\")\n",
        "print(f\"Validation set size: {len(val_texts)}\")\n",
        "print(f\"Test set size: {len(test_texts)}\")\n",
        "\n",
        "# Tokenize all datasets\n",
        "train_input_ids, train_attention_masks = tokenize_data(train_texts, tokenizer, max_seq_length)\n",
        "val_input_ids, val_attention_masks = tokenize_data(val_texts, tokenizer, max_seq_length)\n",
        "test_input_ids, test_attention_masks = tokenize_data(test_texts, tokenizer, max_seq_length)\n",
        "\n",
        "# Convert labels to tensors\n",
        "train_labels = torch.tensor(train_labels)\n",
        "val_labels = torch.tensor(val_labels)\n",
        "test_labels = torch.tensor(test_labels)\n",
        "\n",
        "# Create DataLoaders\n",
        "batch_size = 16\n",
        "\n",
        "# Create train DataLoader\n",
        "train_dataset = TensorDataset(train_input_ids, train_attention_masks, train_labels)\n",
        "train_sampler = RandomSampler(train_dataset)\n",
        "train_dataloader = DataLoader(train_dataset, sampler=train_sampler, batch_size=batch_size)\n",
        "\n",
        "# Create validation DataLoader\n",
        "val_dataset = TensorDataset(val_input_ids, val_attention_masks, val_labels)\n",
        "val_dataloader = DataLoader(val_dataset, batch_size=batch_size)\n",
        "\n",
        "# Create test DataLoader\n",
        "test_dataset = TensorDataset(test_input_ids, test_attention_masks, test_labels)\n",
        "test_dataloader = DataLoader(test_dataset, batch_size=batch_size)"
      ],
      "metadata": {
        "colab": {
          "base_uri": "https://localhost:8080/",
          "height": 950,
          "referenced_widgets": [
            "69e484c708bf4ea69e3bf61f0103c531",
            "e2b01777ac2b4ff5aba9e56554d7db29",
            "11a268e9023f4c3dbf73f1f5aaecf1f4",
            "fff790b3a7644203a97c44144387f48a",
            "5463b2b496174ea2b252afff6fc72192",
            "0af121b676c34755bdd26654f01adc5d",
            "d88343230968453eadf5580e9fe29039",
            "e76446e7740a4f15a004c51ff68b87e3",
            "97bf8490b0834a1e8f68b0f68f549adc",
            "0759be7be5fe478086f2dd91f8803001",
            "24ee8566cfa948368f4656985d3df1a4",
            "10d2ec7e136441c681beec2f7d11e2ab",
            "c0fe53a8ae104ed3b9b05c7abf79f183",
            "c176cb05ce7c4963ba09cf95ca53c5bc",
            "3902463129844987b6e9375ad1cbb949",
            "7a659336d6b649c9854a19f52cf4781e",
            "b183b27cafa64b45aefeb39c738ab4e1",
            "aec22ca8230a4798990aa3b45ee72c27",
            "6638952cf8694e54a57d92502c52acd4",
            "a6b31ca4d9264b4c9da8041f61b7deba",
            "412907fe21cc40c4b99f2c8211cf3e43",
            "65646def95714f27862c41c9da117400",
            "4f92c94676ec46788817b1ddff9b410e",
            "61d60cf4c228434390fb82850af24b49",
            "6de0b3f73f7d48cb9ff0796cbda48447",
            "9b5e1436dff14d9a87bfe9bdc96eb429",
            "524a2945df12464dba54aac2635c90dc",
            "f6e7a49226984541ae302bb3afd4d67e",
            "46fed1d4ca8b49d0abaa7d2ed5f2d579",
            "94b26adc64af45fcba39df965f8a7c28",
            "fa43fe1aa4b44ff7abd5852be8f92770",
            "d2fe6e5d86094575b226dd6a9b45f823",
            "87240e3ca8284ab1bab4c573026a0c87",
            "44493161cdbf45b8ad41c2e49ea87fa6",
            "6f8ba3a2094248daaf7b6c7e5541162d",
            "56205fe3516549658bc57520133dfb22",
            "04dfa70b4b8348ba804358902d9e623f",
            "2eb6abea74e840cdb0a684266145c944",
            "9f79418f2a8149a98b8803c1d85b13fc",
            "18b8ad6b2f88489a8abcfef43ebc64a3",
            "f8b19d160fa64a4ca057be6e7ea77330",
            "59a0861abb9d4a729b509321744fda04",
            "d405a19f32864f3a96eddfa500cb23b8",
            "7119e26528fc400ab2869a00ca68506f"
          ]
        },
        "id": "192y9XAf6Hmn",
        "outputId": "01211ec7-5234-4a0c-d5b9-38e8b134fd11"
      },
      "execution_count": 3,
      "outputs": [
        {
          "output_type": "display_data",
          "data": {
            "text/plain": [
              "tokenizer_config.json:   0%|          | 0.00/48.0 [00:00<?, ?B/s]"
            ],
            "application/vnd.jupyter.widget-view+json": {
              "version_major": 2,
              "version_minor": 0,
              "model_id": "69e484c708bf4ea69e3bf61f0103c531"
            }
          },
          "metadata": {}
        },
        {
          "output_type": "display_data",
          "data": {
            "text/plain": [
              "vocab.txt:   0%|          | 0.00/232k [00:00<?, ?B/s]"
            ],
            "application/vnd.jupyter.widget-view+json": {
              "version_major": 2,
              "version_minor": 0,
              "model_id": "10d2ec7e136441c681beec2f7d11e2ab"
            }
          },
          "metadata": {}
        },
        {
          "output_type": "display_data",
          "data": {
            "text/plain": [
              "tokenizer.json:   0%|          | 0.00/466k [00:00<?, ?B/s]"
            ],
            "application/vnd.jupyter.widget-view+json": {
              "version_major": 2,
              "version_minor": 0,
              "model_id": "4f92c94676ec46788817b1ddff9b410e"
            }
          },
          "metadata": {}
        },
        {
          "output_type": "display_data",
          "data": {
            "text/plain": [
              "config.json:   0%|          | 0.00/570 [00:00<?, ?B/s]"
            ],
            "application/vnd.jupyter.widget-view+json": {
              "version_major": 2,
              "version_minor": 0,
              "model_id": "44493161cdbf45b8ad41c2e49ea87fa6"
            }
          },
          "metadata": {}
        },
        {
          "output_type": "stream",
          "name": "stderr",
          "text": [
            "Calculating token lengths: 100%|██████████| 1000/1000 [00:00<00:00, 5096.24it/s]\n"
          ]
        },
        {
          "output_type": "stream",
          "name": "stdout",
          "text": [
            "\n",
            "Token length statistics:\n",
            "Mean: 16.3\n",
            "Median: 16.0\n",
            "95th percentile: 21.0\n",
            "99th percentile: 21.0\n",
            "Selected max sequence length: 23\n"
          ]
        },
        {
          "output_type": "display_data",
          "data": {
            "text/plain": [
              "<Figure size 1000x600 with 1 Axes>"
            ],
            "image/png": "[encoded data removed]"
          },
          "metadata": {}
        },
        {
          "output_type": "stream",
          "name": "stdout",
          "text": [
            "Training set size: 1152\n",
            "Validation set size: 128\n",
            "Test set size: 320\n"
          ]
        },
        {
          "output_type": "stream",
          "name": "stderr",
          "text": [
            "Tokenizing: 100%|██████████| 1152/1152 [00:00<00:00, 2416.96it/s]\n",
            "Tokenizing: 100%|██████████| 128/128 [00:00<00:00, 2595.07it/s]\n",
            "Tokenizing: 100%|██████████| 320/320 [00:00<00:00, 2322.39it/s]\n"
          ]
        }
      ]
    },
    {
      "cell_type": "code",
      "source": [
        "# Define the BERT-based classification model\n",
        "class BertClassifier(nn.Module):\n",
        "    def __init__(self, freeze_bert=False):\n",
        "        super(BertClassifier, self).__init__()\n",
        "        # Load the pre-trained BERT model\n",
        "        self.bert = BertModel.from_pretrained('bert-base-uncased')\n",
        "\n",
        "        # Freeze BERT parameters (optional)\n",
        "        if freeze_bert:\n",
        "            for param in self.bert.parameters():\n",
        "                param.requires_grad = False\n",
        "\n",
        "        # Classification layer\n",
        "        self.classifier = nn.Sequential(\n",
        "            nn.Linear(768, 256),\n",
        "            nn.ReLU(),\n",
        "            nn.Dropout(0.1),\n",
        "            nn.Linear(256, 2)  # 2 classes: positive and negative\n",
        "        )\n",
        "\n",
        "    def forward(self, input_ids, attention_mask):\n",
        "        # Get BERT embeddings\n",
        "        outputs = self.bert(input_ids=input_ids, attention_mask=attention_mask)\n",
        "\n",
        "        # Use the [CLS] token representation for classification\n",
        "        pooled_output = outputs.pooler_output\n",
        "\n",
        "        # Apply classifier\n",
        "        logits = self.classifier(pooled_output)\n",
        "\n",
        "        return logits\n",
        "\n",
        "# Initialize model\n",
        "model = BertClassifier(freeze_bert=False)\n",
        "model = model.to(device)\n",
        "\n",
        "# Define optimizer and loss function\n",
        "optimizer = optim.AdamW(model.parameters(), lr=2e-5)\n",
        "loss_fn = nn.CrossEntropyLoss()\n",
        "\n",
        "# Function to train the model\n",
        "def train_epoch(model, dataloader, optimizer, loss_fn, device):\n",
        "    model.train()\n",
        "    total_loss = 0\n",
        "\n",
        "    # Progress bar for training\n",
        "    progress_bar = tqdm(dataloader, desc=\"Training\")\n",
        "\n",
        "    for batch in progress_bar:\n",
        "        # Unpack batch and move to device\n",
        "        input_ids, attention_mask, labels = [b.to(device) for b in batch]\n",
        "\n",
        "        # Clear gradients\n",
        "        optimizer.zero_grad()\n",
        "\n",
        "        # Forward pass\n",
        "        logits = model(input_ids, attention_mask)\n",
        "\n",
        "        # Compute loss\n",
        "        loss = loss_fn(logits, labels)\n",
        "        total_loss += loss.item()\n",
        "\n",
        "        # Update progress bar\n",
        "        progress_bar.set_postfix({'loss': f'{loss.item():.4f}'})\n",
        "\n",
        "        # Backward pass\n",
        "        loss.backward()\n",
        "\n",
        "        # Clip gradients to prevent exploding gradients\n",
        "        torch.nn.utils.clip_grad_norm_(model.parameters(), 1.0)\n",
        "\n",
        "        # Update parameters\n",
        "        optimizer.step()\n",
        "\n",
        "    avg_loss = total_loss / len(dataloader)\n",
        "    return avg_loss\n",
        "\n",
        "# Function to evaluate the model\n",
        "def evaluate(model, dataloader, loss_fn, device):\n",
        "    model.eval()\n",
        "    total_loss = 0\n",
        "    all_preds = []\n",
        "    all_labels = []\n",
        "\n",
        "    with torch.no_grad():\n",
        "        for batch in tqdm(dataloader, desc=\"Evaluating\"):\n",
        "            # Unpack batch and move to device\n",
        "            input_ids, attention_mask, labels = [b.to(device) for b in batch]\n",
        "\n",
        "            # Forward pass\n",
        "            logits = model(input_ids, attention_mask)\n",
        "\n",
        "            # Compute loss\n",
        "            loss = loss_fn(logits, labels)\n",
        "            total_loss += loss.item()\n",
        "\n",
        "            # Get predictions\n",
        "            preds = torch.argmax(logits, dim=1).flatten()\n",
        "\n",
        "            # Store predictions and labels\n",
        "            all_preds.extend(preds.cpu().numpy())\n",
        "            all_labels.extend(labels.cpu().numpy())\n",
        "\n",
        "    # Calculate evaluation metrics\n",
        "    avg_loss = total_loss / len(dataloader)\n",
        "    return avg_loss, all_preds, all_labels"
      ],
      "metadata": {
        "colab": {
          "base_uri": "https://localhost:8080/",
          "height": 49,
          "referenced_widgets": [
            "af77d29a4bbc4e75b0e7960748bea786",
            "51ab96861a70439fb8dd31defaba20a9",
            "b531009f0c874046a199c12d2921490c",
            "434a58e41420483188f68ca204aa66b0",
            "f8b67bf65d6949ada04a75b314221043",
            "13adaef720e14b5eabcb95c853952e35",
            "5d71a3f92da045cdad53843f7cf9f483",
            "54dedbd4ed84457280096769f7ce3ab0",
            "bb0586ad3ca443ac8909dcea70145695",
            "64f427e0fbc34791ad958abee47fbc6d",
            "7c3552ad72874d1f87da07d6a0a462b2"
          ]
        },
        "id": "3BhIwaWM6Qvn",
        "outputId": "2ea4d089-217a-4e3b-9be7-825a9f120280"
      },
      "execution_count": 4,
      "outputs": [
        {
          "output_type": "display_data",
          "data": {
            "text/plain": [
              "model.safetensors:   0%|          | 0.00/440M [00:00<?, ?B/s]"
            ],
            "application/vnd.jupyter.widget-view+json": {
              "version_major": 2,
              "version_minor": 0,
              "model_id": "af77d29a4bbc4e75b0e7960748bea786"
            }
          },
          "metadata": {}
        }
      ]
    },
    {
      "cell_type": "code",
      "source": [
        "# Train the model\n",
        "epochs = 10\n",
        "train_losses = []\n",
        "val_losses = []\n",
        "\n",
        "for epoch in range(epochs):\n",
        "    print(f\"\\nEpoch {epoch+1}/{epochs}\")\n",
        "\n",
        "    # Train\n",
        "    train_loss = train_epoch(model, train_dataloader, optimizer, loss_fn, device)\n",
        "    train_losses.append(train_loss)\n",
        "    print(f\"Training loss: {train_loss:.4f}\")\n",
        "\n",
        "    # Evaluate\n",
        "    val_loss, val_preds, val_labels = evaluate(model, val_dataloader, loss_fn, device)\n",
        "    val_losses.append(val_loss)\n",
        "    print(f\"Validation loss: {val_loss:.4f}\")\n",
        "\n",
        "    # Print classification report\n",
        "    print(\"\\nClassification Report:\")\n",
        "    print(classification_report(val_labels, val_preds, target_names=['Negative', 'Positive']))\n",
        "\n",
        "# Plot training and validation loss\n",
        "plt.figure(figsize=(10, 6))\n",
        "plt.plot(range(1, epochs+1), train_losses, 'b-', label='Training Loss')\n",
        "plt.plot(range(1, epochs+1), val_losses, 'r-', label='Validation Loss')\n",
        "plt.title('Training and Validation Loss')\n",
        "plt.xlabel('Epoch')\n",
        "plt.ylabel('Loss')\n",
        "plt.legend()\n",
        "plt.grid(True)\n",
        "plt.show()"
      ],
      "metadata": {
        "colab": {
          "base_uri": "https://localhost:8080/",
          "height": 1000
        },
        "id": "qOSvQYwN7AvG",
        "outputId": "e2bf57c0-f9c1-4463-ec5d-46fdaad13d21"
      },
      "execution_count": 6,
      "outputs": [
        {
          "output_type": "stream",
          "name": "stdout",
          "text": [
            "\n",
            "Epoch 1/10\n"
          ]
        },
        {
          "output_type": "stream",
          "name": "stderr",
          "text": [
            "Training: 100%|██████████| 72/72 [00:07<00:00,  9.45it/s, loss=0.0002]\n"
          ]
        },
        {
          "output_type": "stream",
          "name": "stdout",
          "text": [
            "Training loss: 0.0002\n"
          ]
        },
        {
          "output_type": "stream",
          "name": "stderr",
          "text": [
            "Evaluating: 100%|██████████| 8/8 [00:00<00:00, 35.13it/s]\n"
          ]
        },
        {
          "output_type": "stream",
          "name": "stdout",
          "text": [
            "Validation loss: 0.0002\n",
            "\n",
            "Classification Report:\n",
            "              precision    recall  f1-score   support\n",
            "\n",
            "    Negative       1.00      1.00      1.00        64\n",
            "    Positive       1.00      1.00      1.00        64\n",
            "\n",
            "    accuracy                           1.00       128\n",
            "   macro avg       1.00      1.00      1.00       128\n",
            "weighted avg       1.00      1.00      1.00       128\n",
            "\n",
            "\n",
            "Epoch 2/10\n"
          ]
        },
        {
          "output_type": "stream",
          "name": "stderr",
          "text": [
            "Training: 100%|██████████| 72/72 [00:07<00:00,  9.95it/s, loss=0.0001]\n"
          ]
        },
        {
          "output_type": "stream",
          "name": "stdout",
          "text": [
            "Training loss: 0.0002\n"
          ]
        },
        {
          "output_type": "stream",
          "name": "stderr",
          "text": [
            "Evaluating: 100%|██████████| 8/8 [00:00<00:00, 34.51it/s]\n"
          ]
        },
        {
          "output_type": "stream",
          "name": "stdout",
          "text": [
            "Validation loss: 0.0001\n",
            "\n",
            "Classification Report:\n",
            "              precision    recall  f1-score   support\n",
            "\n",
            "    Negative       1.00      1.00      1.00        64\n",
            "    Positive       1.00      1.00      1.00        64\n",
            "\n",
            "    accuracy                           1.00       128\n",
            "   macro avg       1.00      1.00      1.00       128\n",
            "weighted avg       1.00      1.00      1.00       128\n",
            "\n",
            "\n",
            "Epoch 3/10\n"
          ]
        },
        {
          "output_type": "stream",
          "name": "stderr",
          "text": [
            "Training: 100%|██████████| 72/72 [00:07<00:00,  9.81it/s, loss=0.0002]\n"
          ]
        },
        {
          "output_type": "stream",
          "name": "stdout",
          "text": [
            "Training loss: 0.0001\n"
          ]
        },
        {
          "output_type": "stream",
          "name": "stderr",
          "text": [
            "Evaluating: 100%|██████████| 8/8 [00:00<00:00, 32.60it/s]\n"
          ]
        },
        {
          "output_type": "stream",
          "name": "stdout",
          "text": [
            "Validation loss: 0.0001\n",
            "\n",
            "Classification Report:\n",
            "              precision    recall  f1-score   support\n",
            "\n",
            "    Negative       1.00      1.00      1.00        64\n",
            "    Positive       1.00      1.00      1.00        64\n",
            "\n",
            "    accuracy                           1.00       128\n",
            "   macro avg       1.00      1.00      1.00       128\n",
            "weighted avg       1.00      1.00      1.00       128\n",
            "\n",
            "\n",
            "Epoch 4/10\n"
          ]
        },
        {
          "output_type": "stream",
          "name": "stderr",
          "text": [
            "Training: 100%|██████████| 72/72 [00:07<00:00,  9.72it/s, loss=0.0001]\n"
          ]
        },
        {
          "output_type": "stream",
          "name": "stdout",
          "text": [
            "Training loss: 0.0001\n"
          ]
        },
        {
          "output_type": "stream",
          "name": "stderr",
          "text": [
            "Evaluating: 100%|██████████| 8/8 [00:00<00:00, 33.44it/s]\n"
          ]
        },
        {
          "output_type": "stream",
          "name": "stdout",
          "text": [
            "Validation loss: 0.0001\n",
            "\n",
            "Classification Report:\n",
            "              precision    recall  f1-score   support\n",
            "\n",
            "    Negative       1.00      1.00      1.00        64\n",
            "    Positive       1.00      1.00      1.00        64\n",
            "\n",
            "    accuracy                           1.00       128\n",
            "   macro avg       1.00      1.00      1.00       128\n",
            "weighted avg       1.00      1.00      1.00       128\n",
            "\n",
            "\n",
            "Epoch 5/10\n"
          ]
        },
        {
          "output_type": "stream",
          "name": "stderr",
          "text": [
            "Training: 100%|██████████| 72/72 [00:07<00:00,  9.74it/s, loss=0.0001]\n"
          ]
        },
        {
          "output_type": "stream",
          "name": "stdout",
          "text": [
            "Training loss: 0.0001\n"
          ]
        },
        {
          "output_type": "stream",
          "name": "stderr",
          "text": [
            "Evaluating: 100%|██████████| 8/8 [00:00<00:00, 33.82it/s]\n"
          ]
        },
        {
          "output_type": "stream",
          "name": "stdout",
          "text": [
            "Validation loss: 0.0001\n",
            "\n",
            "Classification Report:\n",
            "              precision    recall  f1-score   support\n",
            "\n",
            "    Negative       1.00      1.00      1.00        64\n",
            "    Positive       1.00      1.00      1.00        64\n",
            "\n",
            "    accuracy                           1.00       128\n",
            "   macro avg       1.00      1.00      1.00       128\n",
            "weighted avg       1.00      1.00      1.00       128\n",
            "\n",
            "\n",
            "Epoch 6/10\n"
          ]
        },
        {
          "output_type": "stream",
          "name": "stderr",
          "text": [
            "Training: 100%|██████████| 72/72 [00:07<00:00,  9.86it/s, loss=0.0001]\n"
          ]
        },
        {
          "output_type": "stream",
          "name": "stdout",
          "text": [
            "Training loss: 0.0001\n"
          ]
        },
        {
          "output_type": "stream",
          "name": "stderr",
          "text": [
            "Evaluating: 100%|██████████| 8/8 [00:00<00:00, 33.99it/s]\n"
          ]
        },
        {
          "output_type": "stream",
          "name": "stdout",
          "text": [
            "Validation loss: 0.0001\n",
            "\n",
            "Classification Report:\n",
            "              precision    recall  f1-score   support\n",
            "\n",
            "    Negative       1.00      1.00      1.00        64\n",
            "    Positive       1.00      1.00      1.00        64\n",
            "\n",
            "    accuracy                           1.00       128\n",
            "   macro avg       1.00      1.00      1.00       128\n",
            "weighted avg       1.00      1.00      1.00       128\n",
            "\n",
            "\n",
            "Epoch 7/10\n"
          ]
        },
        {
          "output_type": "stream",
          "name": "stderr",
          "text": [
            "Training: 100%|██████████| 72/72 [00:07<00:00,  9.83it/s, loss=0.0001]\n"
          ]
        },
        {
          "output_type": "stream",
          "name": "stdout",
          "text": [
            "Training loss: 0.0001\n"
          ]
        },
        {
          "output_type": "stream",
          "name": "stderr",
          "text": [
            "Evaluating: 100%|██████████| 8/8 [00:00<00:00, 38.86it/s]\n"
          ]
        },
        {
          "output_type": "stream",
          "name": "stdout",
          "text": [
            "Validation loss: 0.0001\n",
            "\n",
            "Classification Report:\n",
            "              precision    recall  f1-score   support\n",
            "\n",
            "    Negative       1.00      1.00      1.00        64\n",
            "    Positive       1.00      1.00      1.00        64\n",
            "\n",
            "    accuracy                           1.00       128\n",
            "   macro avg       1.00      1.00      1.00       128\n",
            "weighted avg       1.00      1.00      1.00       128\n",
            "\n",
            "\n",
            "Epoch 8/10\n"
          ]
        },
        {
          "output_type": "stream",
          "name": "stderr",
          "text": [
            "Training: 100%|██████████| 72/72 [00:08<00:00,  8.60it/s, loss=0.0001]\n"
          ]
        },
        {
          "output_type": "stream",
          "name": "stdout",
          "text": [
            "Training loss: 0.0001\n"
          ]
        },
        {
          "output_type": "stream",
          "name": "stderr",
          "text": [
            "Evaluating: 100%|██████████| 8/8 [00:00<00:00, 35.22it/s]\n"
          ]
        },
        {
          "output_type": "stream",
          "name": "stdout",
          "text": [
            "Validation loss: 0.0001\n",
            "\n",
            "Classification Report:\n",
            "              precision    recall  f1-score   support\n",
            "\n",
            "    Negative       1.00      1.00      1.00        64\n",
            "    Positive       1.00      1.00      1.00        64\n",
            "\n",
            "    accuracy                           1.00       128\n",
            "   macro avg       1.00      1.00      1.00       128\n",
            "weighted avg       1.00      1.00      1.00       128\n",
            "\n",
            "\n",
            "Epoch 9/10\n"
          ]
        },
        {
          "output_type": "stream",
          "name": "stderr",
          "text": [
            "Training: 100%|██████████| 72/72 [00:07<00:00,  9.94it/s, loss=0.0001]\n"
          ]
        },
        {
          "output_type": "stream",
          "name": "stdout",
          "text": [
            "Training loss: 0.0001\n"
          ]
        },
        {
          "output_type": "stream",
          "name": "stderr",
          "text": [
            "Evaluating: 100%|██████████| 8/8 [00:00<00:00, 34.34it/s]\n"
          ]
        },
        {
          "output_type": "stream",
          "name": "stdout",
          "text": [
            "Validation loss: 0.0001\n",
            "\n",
            "Classification Report:\n",
            "              precision    recall  f1-score   support\n",
            "\n",
            "    Negative       1.00      1.00      1.00        64\n",
            "    Positive       1.00      1.00      1.00        64\n",
            "\n",
            "    accuracy                           1.00       128\n",
            "   macro avg       1.00      1.00      1.00       128\n",
            "weighted avg       1.00      1.00      1.00       128\n",
            "\n",
            "\n",
            "Epoch 10/10\n"
          ]
        },
        {
          "output_type": "stream",
          "name": "stderr",
          "text": [
            "Training: 100%|██████████| 72/72 [00:07<00:00,  9.93it/s, loss=0.0001]\n"
          ]
        },
        {
          "output_type": "stream",
          "name": "stdout",
          "text": [
            "Training loss: 0.0001\n"
          ]
        },
        {
          "output_type": "stream",
          "name": "stderr",
          "text": [
            "Evaluating: 100%|██████████| 8/8 [00:00<00:00, 34.88it/s]\n"
          ]
        },
        {
          "output_type": "stream",
          "name": "stdout",
          "text": [
            "Validation loss: 0.0000\n",
            "\n",
            "Classification Report:\n",
            "              precision    recall  f1-score   support\n",
            "\n",
            "    Negative       1.00      1.00      1.00        64\n",
            "    Positive       1.00      1.00      1.00        64\n",
            "\n",
            "    accuracy                           1.00       128\n",
            "   macro avg       1.00      1.00      1.00       128\n",
            "weighted avg       1.00      1.00      1.00       128\n",
            "\n"
          ]
        },
        {
          "output_type": "display_data",
          "data": {
            "text/plain": [
              "<Figure size 1000x600 with 1 Axes>"
            ],
            "image/png": "[encoded data removed]"
          },
          "metadata": {}
        }
      ]
    },
    {
      "cell_type": "code",
      "source": [
        "# Evaluate on the test set\n",
        "print(\"\\nEvaluating on test set...\")\n",
        "test_loss, test_preds, test_labels = evaluate(model, test_dataloader, loss_fn, device)\n",
        "print(f\"Test loss: {test_loss:.4f}\")\n",
        "print(\"\\nTest Classification Report:\")\n",
        "print(classification_report(test_labels, test_preds, target_names=['Negative', 'Positive']))\n",
        "\n",
        "# Confusion matrix for test set\n",
        "from sklearn.metrics import confusion_matrix, ConfusionMatrixDisplay\n",
        "\n",
        "cm = confusion_matrix(test_labels, test_preds)\n",
        "disp = ConfusionMatrixDisplay(confusion_matrix=cm, display_labels=['Negative', 'Positive'])\n",
        "plt.figure(figsize=(8, 8))\n",
        "disp.plot(cmap=plt.cm.Blues)\n",
        "plt.title('Confusion Matrix on Test Set')\n",
        "plt.show()\n",
        "print(\"\\nClassification Report:\")\n",
        "print(classification_report(val_labels, val_preds, target_names=['Negative', 'Positive']))\n",
        "\n",
        "# Plot training and validation loss\n",
        "plt.figure(figsize=(10, 6))\n",
        "plt.plot(range(1, epochs+1), train_losses, 'b-', label='Training Loss')\n",
        "plt.plot(range(1, epochs+1), val_losses, 'r-', label='Validation Loss')\n",
        "plt.title('Training and Validation Loss')\n",
        "plt.xlabel('Epoch')\n",
        "plt.ylabel('Loss')\n",
        "plt.legend()\n",
        "plt.grid(True)\n",
        "plt.show()"
      ],
      "metadata": {
        "colab": {
          "base_uri": "https://localhost:8080/",
          "height": 1000
        },
        "id": "yuN2r9av7OzH",
        "outputId": "b540fcb7-98ee-4dfd-9ce5-e24f81bf571e"
      },
      "execution_count": 7,
      "outputs": [
        {
          "output_type": "stream",
          "name": "stdout",
          "text": [
            "\n",
            "Evaluating on test set...\n"
          ]
        },
        {
          "output_type": "stream",
          "name": "stderr",
          "text": [
            "Evaluating: 100%|██████████| 20/20 [00:00<00:00, 37.28it/s]"
          ]
        },
        {
          "output_type": "stream",
          "name": "stdout",
          "text": [
            "Test loss: 0.0000\n",
            "\n",
            "Test Classification Report:\n",
            "              precision    recall  f1-score   support\n",
            "\n",
            "    Negative       1.00      1.00      1.00       160\n",
            "    Positive       1.00      1.00      1.00       160\n",
            "\n",
            "    accuracy                           1.00       320\n",
            "   macro avg       1.00      1.00      1.00       320\n",
            "weighted avg       1.00      1.00      1.00       320\n",
            "\n"
          ]
        },
        {
          "output_type": "stream",
          "name": "stderr",
          "text": [
            "\n"
          ]
        },
        {
          "output_type": "display_data",
          "data": {
            "text/plain": [
              "<Figure size 800x800 with 0 Axes>"
            ]
          },
          "metadata": {}
        },
        {
          "output_type": "display_data",
          "data": {
            "text/plain": [
              "<Figure size 640x480 with 2 Axes>"
            ],
            "image/png": "[encoded data removed]"
          },
          "metadata": {}
        },
        {
          "output_type": "stream",
          "name": "stdout",
          "text": [
            "\n",
            "Classification Report:\n",
            "              precision    recall  f1-score   support\n",
            "\n",
            "    Negative       1.00      1.00      1.00        64\n",
            "    Positive       1.00      1.00      1.00        64\n",
            "\n",
            "    accuracy                           1.00       128\n",
            "   macro avg       1.00      1.00      1.00       128\n",
            "weighted avg       1.00      1.00      1.00       128\n",
            "\n"
          ]
        },
        {
          "output_type": "display_data",
          "data": {
            "text/plain": [
              "<Figure size 1000x600 with 1 Axes>"
            ],
            "image/png": "[encoded data removed]"
          },
          "metadata": {}
        }
      ]
    },
    {
      "cell_type": "code",
      "source": [
        "# Extract BERT embeddings (encoder features) for any text\n",
        "def extract_bert_embeddings(texts, tokenizer, model, device, max_len, layer=-1, pooling='cls'):\n",
        "    \"\"\"\n",
        "    Extract BERT embeddings/features for a list of texts\n",
        "\n",
        "    Args:\n",
        "        texts: List of input texts\n",
        "        tokenizer: BERT tokenizer\n",
        "        model: BERT model\n",
        "        device: Device to use\n",
        "        max_len: Maximum sequence length\n",
        "        layer: Which BERT layer to use (-1 for last layer)\n",
        "        pooling: How to pool token embeddings ('cls', 'mean', or 'max')\n",
        "\n",
        "    Returns:\n",
        "        numpy array of embeddings with shape (len(texts), hidden_size)\n",
        "    \"\"\"\n",
        "    model.eval()\n",
        "    bert_model = model.bert  # Extract just the BERT encoder part\n",
        "    features = []\n",
        "\n",
        "    # Process in batches to avoid memory issues\n",
        "    batch_size = 16\n",
        "\n",
        "    for i in tqdm(range(0, len(texts), batch_size), desc=\"Extracting BERT embeddings\"):\n",
        "        batch_texts = texts[i:i+batch_size]\n",
        "\n",
        "        # Tokenize\n",
        "        encoded_dict = tokenizer.batch_encode_plus(\n",
        "            batch_texts,\n",
        "            add_special_tokens=True,\n",
        "            max_length=max_len,\n",
        "            padding='max_length',\n",
        "            truncation=True,\n",
        "            return_attention_mask=True,\n",
        "            return_tensors='pt',\n",
        "        )\n",
        "\n",
        "        # Move to device\n",
        "        input_ids = encoded_dict['input_ids'].to(device)\n",
        "        attention_mask = encoded_dict['attention_mask'].to(device)\n",
        "\n",
        "        with torch.no_grad():\n",
        "            # Get embeddings from BERT\n",
        "            outputs = bert_model(input_ids=input_ids, attention_mask=attention_mask, output_hidden_states=True)\n",
        "\n",
        "            # Get hidden states from the selected layer\n",
        "            hidden_states = outputs.hidden_states[layer]\n",
        "\n",
        "            # Apply pooling strategy\n",
        "            if pooling == 'cls':\n",
        "                # Use [CLS] token embedding (first token)\n",
        "                batch_features = hidden_states[:, 0, :].cpu().numpy()\n",
        "            elif pooling == 'mean':\n",
        "                # Mean pooling (average all token embeddings)\n",
        "                # Use attention mask to ignore padding tokens\n",
        "                mask_expanded = attention_mask.unsqueeze(-1).expand(hidden_states.size()).float()\n",
        "                sum_embeddings = torch.sum(hidden_states * mask_expanded, 1)\n",
        "                sum_mask = torch.clamp(mask_expanded.sum(1), min=1e-9)\n",
        "                batch_features = (sum_embeddings / sum_mask).cpu().numpy()\n",
        "            elif pooling == 'max':\n",
        "                # Max pooling\n",
        "                # Replace padding tokens with large negative value\n",
        "                mask_expanded = attention_mask.unsqueeze(-1).expand(hidden_states.size()).float()\n",
        "                hidden_states[mask_expanded == 0] = -1e9\n",
        "                batch_features = torch.max(hidden_states, dim=1)[0].cpu().numpy()\n",
        "\n",
        "            features.extend(batch_features)\n",
        "\n",
        "    return np.array(features)\n",
        "\n",
        "# Extract features using different pooling strategies\n",
        "print(\"\\n--- Extracting BERT embeddings with different pooling strategies ---\")\n",
        "\n",
        "# Use a small subset for demonstration\n",
        "sample_texts = test_texts[:5]\n",
        "for text in sample_texts:\n",
        "    print(f\"- {text[:100]}...\")\n",
        "\n",
        "# Extract embeddings using CLS token (standard approach)\n",
        "cls_embeddings = extract_bert_embeddings(\n",
        "    sample_texts, tokenizer, model, device, max_seq_length,\n",
        "    layer=-1, pooling='cls'\n",
        ")\n",
        "\n",
        "# Extract embeddings using mean pooling\n",
        "mean_embeddings = extract_bert_embeddings(\n",
        "    sample_texts, tokenizer, model, device, max_seq_length,\n",
        "    layer=-1, pooling='mean'\n",
        ")\n",
        "\n",
        "# Extract embeddings using max pooling\n",
        "max_embeddings = extract_bert_embeddings(\n",
        "    sample_texts, tokenizer, model, device, max_seq_length,\n",
        "    layer=-1, pooling='max'\n",
        ")\n",
        "\n",
        "print(f\"\\nEmbedding dimensions: {cls_embeddings.shape}\")\n",
        "print(f\"Each text is represented by a vector of size: {cls_embeddings.shape[1]}\")"
      ],
      "metadata": {
        "colab": {
          "base_uri": "https://localhost:8080/"
        },
        "id": "P7tCNWAW7l1A",
        "outputId": "18f5eef4-febb-4694-87b5-c2d2d42051b7"
      },
      "execution_count": 8,
      "outputs": [
        {
          "output_type": "stream",
          "name": "stdout",
          "text": [
            "\n",
            "--- Extracting BERT embeddings with different pooling strategies ---\n",
            "- This film was fantastic. The acting was incredible and the story kept me engaged throughout....\n",
            "- This film exceeded all my expectations. Would highly recommend to anyone....\n",
            "- This film exceeded all my expectations. Would highly recommend to anyone....\n",
            "- I was really disappointed by this movie. The story was predictable and boring....\n",
            "- I was amazed by how good this movie was. Great performances all around....\n"
          ]
        },
        {
          "output_type": "stream",
          "name": "stderr",
          "text": [
            "Extracting BERT embeddings: 100%|██████████| 1/1 [00:00<00:00, 46.59it/s]\n",
            "Extracting BERT embeddings: 100%|██████████| 1/1 [00:00<00:00, 50.72it/s]\n",
            "Extracting BERT embeddings: 100%|██████████| 1/1 [00:00<00:00, 50.55it/s]"
          ]
        },
        {
          "output_type": "stream",
          "name": "stdout",
          "text": [
            "\n",
            "Embedding dimensions: (5, 768)\n",
            "Each text is represented by a vector of size: 768\n"
          ]
        },
        {
          "output_type": "stream",
          "name": "stderr",
          "text": [
            "\n"
          ]
        }
      ]
    },
    {
      "cell_type": "code",
      "source": [
        "# Visualize the embeddings\n",
        "def plot_embeddings_heatmap(embeddings, title, n_dims=50):\n",
        "    plt.figure(figsize=(12, 8))\n",
        "    sns.heatmap(embeddings[:, :n_dims], annot=False, cmap='viridis')\n",
        "    plt.title(f'{title} (first {n_dims} dimensions)')\n",
        "    plt.xlabel('Embedding Dimension')\n",
        "    plt.ylabel('Example Text')\n",
        "    plt.show()\n",
        "\n",
        "plot_embeddings_heatmap(cls_embeddings, 'BERT CLS Token Embeddings', n_dims=50)\n",
        "plot_embeddings_heatmap(mean_embeddings, 'BERT Mean Pooled Embeddings', n_dims=50)\n",
        "plot_embeddings_heatmap(max_embeddings, 'BERT Max Pooled Embeddings', n_dims=50)"
      ],
      "metadata": {
        "colab": {
          "base_uri": "https://localhost:8080/",
          "height": 1000
        },
        "id": "Kk4OyU4Z7uFw",
        "outputId": "c1e642a5-a43e-4f2d-d4f6-e439f2c93084"
      },
      "execution_count": 9,
      "outputs": [
        {
          "output_type": "display_data",
          "data": {
            "text/plain": [
              "<Figure size 1200x800 with 2 Axes>"
            ],
            "image/png": "[encoded data removed]"
          },
          "metadata": {}
        },
        {
          "output_type": "display_data",
          "data": {
            "text/plain": [
              "<Figure size 1200x800 with 2 Axes>"
            ],
            "image/png": "[encoded data removed]"
          },
          "metadata": {}
        },
        {
          "output_type": "display_data",
          "data": {
            "text/plain": [
              "<Figure size 1200x800 with 2 Axes>"
            ],
            "image/png": "[encoded data removed]"
          },
          "metadata": {}
        }
      ]
    },
    {
      "cell_type": "code",
      "source": [
        "# Calculate similarity between texts using BERT embeddings\n",
        "from sklearn.metrics.pairwise import cosine_similarity\n",
        "\n",
        "# Calculate similarity matrices\n",
        "cls_similarity = cosine_similarity(cls_embeddings)\n",
        "mean_similarity = cosine_similarity(mean_embeddings)\n",
        "max_similarity = cosine_similarity(max_embeddings)\n",
        "\n",
        "# Function to plot similarity matrix\n",
        "def plot_similarity_matrix(similarity_matrix, title):\n",
        "    plt.figure(figsize=(8, 6))\n",
        "    sns.heatmap(similarity_matrix, annot=True, cmap='Blues', vmin=0, vmax=1)\n",
        "    plt.title(title)\n",
        "    plt.tight_layout()\n",
        "    plt.show()\n",
        "\n",
        "plot_similarity_matrix(cls_similarity, 'Cosine Similarity (CLS Token)')\n",
        "plot_similarity_matrix(mean_similarity, 'Cosine Similarity (Mean Pooling)')\n",
        "plot_similarity_matrix(max_similarity, 'Cosine Similarity (Max Pooling)')"
      ],
      "metadata": {
        "colab": {
          "base_uri": "https://localhost:8080/",
          "height": 1000
        },
        "id": "6zTVXYMP7xaI",
        "outputId": "76d3b440-8c56-4286-dbe0-cfbad0f5cbc1"
      },
      "execution_count": 10,
      "outputs": [
        {
          "output_type": "display_data",
          "data": {
            "text/plain": [
              "<Figure size 800x600 with 2 Axes>"
            ],
            "image/png": "[encoded data removed]"
          },
          "metadata": {}
        },
        {
          "output_type": "display_data",
          "data": {
            "text/plain": [
              "<Figure size 800x600 with 2 Axes>"
            ],
            "image/png": "[encoded data removed]"
          },
          "metadata": {}
        },
        {
          "output_type": "display_data",
          "data": {
            "text/plain": [
              "<Figure size 800x600 with 2 Axes>"
            ],
            "image/png": "[encoded data removed]"
          },
          "metadata": {}
        }
      ]
    },
    {
      "cell_type": "code",
      "source": [
        "# Use BERT embeddings for text clustering\n",
        "from sklearn.cluster import KMeans\n",
        "from sklearn.manifold import TSNE\n",
        "import matplotlib.pyplot as plt\n",
        "\n",
        "# Extract embeddings for a larger subset\n",
        "num_samples = min(500, len(test_texts))\n",
        "subset_indices = np.random.choice(len(test_texts), num_samples, replace=False)\n",
        "subset_texts = [test_texts[i] for i in subset_indices]\n",
        "#subset_labels = test_labels[subset_indices].numpy()\n",
        "subset_labels = [test_labels[i] for i in subset_indices]\n",
        "subset_labels = np.array(subset_labels)\n",
        "\n",
        "# Extract embeddings using the mean pooling method (generally works well for clustering)\n",
        "print(\"\\nExtracting embeddings for clustering...\")\n",
        "cluster_embeddings = extract_bert_embeddings(\n",
        "    subset_texts, tokenizer, model, device, max_seq_length,\n",
        "    layer=-1, pooling='mean'\n",
        ")\n",
        "\n",
        "# Perform clustering\n",
        "n_clusters = 2  # We expect 2 clusters (positive/negative)\n",
        "kmeans = KMeans(n_clusters=n_clusters, random_state=seed_val)\n",
        "clusters = kmeans.fit_predict(cluster_embeddings)\n",
        "\n",
        "# Reduce dimensions for visualization\n",
        "print(\"Reducing dimensions with t-SNE for visualization...\")\n",
        "tsne = TSNE(n_components=2, random_state=seed_val, perplexity=30)\n",
        "reduced_embeddings = tsne.fit_transform(cluster_embeddings)\n",
        "\n",
        "# Plot the clusters\n",
        "plt.figure(figsize=(12, 10))\n",
        "\n",
        "# Plot by predicted cluster\n",
        "plt.subplot(1, 2, 1)\n",
        "for i in range(n_clusters):\n",
        "    # Get points in this cluster\n",
        "    points = reduced_embeddings[clusters == i]\n",
        "    plt.scatter(points[:, 0], points[:, 1], label=f'Cluster {i}', alpha=0.7)\n",
        "\n",
        "plt.title('BERT Embeddings Clustered with K-Means')\n",
        "plt.xlabel('t-SNE Dimension 1')\n",
        "plt.ylabel('t-SNE Dimension 2')\n",
        "plt.legend()\n",
        "\n",
        "# Plot by actual sentiment\n",
        "plt.subplot(1, 2, 2)\n",
        "for i in range(2):  # 0: Negative, 1: Positive\n",
        "    # Get points with this label\n",
        "    points = reduced_embeddings[subset_labels == i]\n",
        "    plt.scatter(points[:, 0], points[:, 1], label=f'{\"Positive\" if i == 1 else \"Negative\"}', alpha=0.7)\n",
        "\n",
        "plt.title('BERT Embeddings by True Sentiment')\n",
        "plt.xlabel('t-SNE Dimension 1')\n",
        "plt.ylabel('t-SNE Dimension 2')\n",
        "plt.legend()\n",
        "\n",
        "plt.tight_layout()\n",
        "plt.show()"
      ],
      "metadata": {
        "colab": {
          "base_uri": "https://localhost:8080/",
          "height": 1000
        },
        "id": "cFVLPFMD75TT",
        "outputId": "2a00dc15-586c-4ddc-b5b2-f8f754e50f45"
      },
      "execution_count": 13,
      "outputs": [
        {
          "output_type": "stream",
          "name": "stdout",
          "text": [
            "\n",
            "Extracting embeddings for clustering...\n"
          ]
        },
        {
          "output_type": "stream",
          "name": "stderr",
          "text": [
            "Extracting BERT embeddings: 100%|██████████| 20/20 [00:01<00:00, 17.21it/s]\n"
          ]
        },
        {
          "output_type": "stream",
          "name": "stdout",
          "text": [
            "Reducing dimensions with t-SNE for visualization...\n"
          ]
        },
        {
          "output_type": "display_data",
          "data": {
            "text/plain": [
              "<Figure size 1200x1000 with 2 Axes>"
            ],
            "image/png": "[encoded data removed]"
          },
          "metadata": {}
        }
      ]
    },
    {
      "cell_type": "code",
      "source": [
        "# Calculate clustering metrics\n",
        "from sklearn.metrics import adjusted_rand_score, normalized_mutual_info_score, accuracy_score\n",
        "\n",
        "# Calculate cluster quality metrics\n",
        "ari = adjusted_rand_score(subset_labels, clusters)\n",
        "nmi = normalized_mutual_info_score(subset_labels, clusters)\n",
        "\n",
        "# Map cluster labels to sentiment labels for accuracy\n",
        "# Let's assume cluster 0 maps to sentiment 0 and cluster 1 maps to sentiment 1\n",
        "# But first let's check if we need to swap them\n",
        "cluster_0_avg_sentiment = np.mean(subset_labels[clusters == 0])\n",
        "cluster_1_avg_sentiment = np.mean(subset_labels[clusters == 1])\n",
        "\n",
        "# If cluster 0 has more positive sentiments, we need to swap\n",
        "if cluster_0_avg_sentiment > cluster_1_avg_sentiment:\n",
        "    mapped_clusters = 1 - clusters  # Swap 0 and 1\n",
        "else:\n",
        "    mapped_clusters = clusters\n",
        "\n",
        "acc = accuracy_score(subset_labels, mapped_clusters)\n",
        "\n",
        "print(\"\\nClustering Quality Metrics:\")\n",
        "print(f\"Adjusted Rand Index: {ari:.4f}\")\n",
        "print(f\"Normalized Mutual Information: {nmi:.4f}\")\n",
        "print(f\"Accuracy (after mapping clusters to sentiments): {acc:.4f}\")"
      ],
      "metadata": {
        "colab": {
          "base_uri": "https://localhost:8080/"
        },
        "id": "LADfQlCF8c4P",
        "outputId": "137ed968-ac6b-4783-ee4a-448fcb3a7f88"
      },
      "execution_count": 14,
      "outputs": [
        {
          "output_type": "stream",
          "name": "stdout",
          "text": [
            "\n",
            "Clustering Quality Metrics:\n",
            "Adjusted Rand Index: 1.0000\n",
            "Normalized Mutual Information: 1.0000\n",
            "Accuracy (after mapping clusters to sentiments): 1.0000\n"
          ]
        }
      ]
    },
    {
      "cell_type": "code",
      "source": [
        "\n",
        "\n",
        "# Demonstrate other NLP tasks with BERT embeddings\n",
        "\n",
        "# 1. Text similarity search\n",
        "print(\"\\n--- Text Similarity Search Example ---\")\n",
        "\n",
        "# Define a query\n",
        "query = \"This movie was absolutely amazing! The acting was superb.\"\n",
        "print(f\"Query: {query}\")\n",
        "\n",
        "# Encode the query\n",
        "query_embedding = extract_bert_embeddings(\n",
        "    [query], tokenizer, model, device, max_seq_length, layer=-1, pooling='mean'\n",
        ")[0]\n",
        "\n",
        "# Calculate similarity to all texts in the subset\n",
        "similarities = cosine_similarity([query_embedding], cluster_embeddings)[0]\n",
        "\n",
        "# Get the most similar texts\n",
        "top_k = 3\n",
        "top_indices = np.argsort(similarities)[-top_k:][::-1]\n",
        "\n",
        "print(f\"\\nTop {top_k} most similar texts:\")\n",
        "for i, idx in enumerate(top_indices):\n",
        "    similarity = similarities[idx]\n",
        "    text = subset_texts[idx]\n",
        "    label = \"Positive\" if subset_labels[idx] == 1 else \"Negative\"\n",
        "    print(f\"{i+1}. Similarity: {similarity:.4f} - Label: {label}\")\n",
        "    print(f\"   Text: {text[:100]}...\\n\")\n",
        "\n",
        "# 2. Zero-shot classification example\n",
        "print(\"\\n--- Zero-shot Classification Example ---\")\n",
        "\n",
        "# Define some categories\n",
        "categories = [\n",
        "    \"Action movie\",\n",
        "    \"Comedy film\",\n",
        "    \"Horror movie\",\n",
        "    \"Science fiction\",\n",
        "    \"Drama\"\n",
        "]\n",
        "\n",
        "# Extract embeddings for the categories\n",
        "category_embeddings = extract_bert_embeddings(\n",
        "    categories, tokenizer, model, device, max_seq_length, layer=-1, pooling='mean'\n",
        ")\n",
        "\n",
        "# Define some test texts\n",
        "test_movie_descriptions = [\n",
        "    \"Full of explosions, car chases, and fight sequences. The hero battles against the villains.\",\n",
        "    \"This hilarious film had the audience laughing throughout. The jokes were perfectly timed.\",\n",
        "    \"A terrifying experience that will keep you on the edge of your seat. Blood and screams.\",\n",
        "    \"Set in a dystopian future with advanced technology, space travel, and alien encounters.\",\n",
        "    \"An emotional journey that explores complex human relationships and personal struggles.\"\n",
        "]\n",
        "\n",
        "# Extract embeddings for the test texts\n",
        "test_embeddings = extract_bert_embeddings(\n",
        "    test_movie_descriptions, tokenizer, model, device, max_seq_length, layer=-1, pooling='mean'\n",
        ")\n",
        "\n",
        "# Calculate similarity between test texts and categories\n",
        "similarity_matrix = cosine_similarity(test_embeddings, category_embeddings)\n",
        "\n",
        "# Create a heatmap visualization\n",
        "plt.figure(figsize=(10, 8))\n",
        "sns.heatmap(similarity_matrix, annot=True, cmap='Blues',\n",
        "            xticklabels=categories,\n",
        "            yticklabels=[f\"Text {i+1}\" for i in range(len(test_movie_descriptions))])\n",
        "plt.title('Zero-shot Classification: Text-Category Similarity')\n",
        "plt.tight_layout()\n",
        "plt.show()\n",
        "\n",
        "# Get the predicted category for each text\n",
        "predicted_categories = np.argmax(similarity_matrix, axis=1)\n",
        "\n",
        "print(\"Zero-shot classification results:\")\n",
        "for i, (text, pred_idx) in enumerate(zip(test_movie_descriptions, predicted_categories)):\n",
        "    print(f\"Text {i+1}: {text[:50]}...\")\n",
        "    print(f\"Predicted category: {categories[pred_idx]}\")\n",
        "    print(f\"Confidence scores: {similarity_matrix[i].round(3)}\\n\")\n",
        "\n",
        "print(\"\\nBERT encodings effectively capture semantic meaning across various NLP tasks.\")\n",
        "print(\"The same underlying embeddings can be used for multiple applications such as:\")\n",
        "print(\"1. Text Classification (as demonstrated with sentiment analysis)\")\n",
        "print(\"2. Clustering (finding patterns without labels)\")\n",
        "print(\"3. Semantic Search (finding similar texts)\")\n",
        "print(\"4. Zero-shot Classification (categorizing text without specific training)\")\n",
        "print(\"5. And many other tasks: question answering, named entity recognition, etc.\")"
      ],
      "metadata": {
        "colab": {
          "base_uri": "https://localhost:8080/",
          "height": 1000
        },
        "id": "1x8fCAwT6bp5",
        "outputId": "1939bc7a-f1b3-4bc1-9773-6d23fd1348fe"
      },
      "execution_count": 15,
      "outputs": [
        {
          "output_type": "stream",
          "name": "stdout",
          "text": [
            "\n",
            "--- Text Similarity Search Example ---\n",
            "Query: This movie was absolutely amazing! The acting was superb.\n"
          ]
        },
        {
          "output_type": "stream",
          "name": "stderr",
          "text": [
            "Extracting BERT embeddings: 100%|██████████| 1/1 [00:00<00:00, 20.95it/s]\n"
          ]
        },
        {
          "output_type": "stream",
          "name": "stdout",
          "text": [
            "\n",
            "Top 3 most similar texts:\n",
            "1. Similarity: 0.9358 - Label: Positive\n",
            "   Text: This film was fantastic. The acting was incredible and the story kept me engaged throughout....\n",
            "\n",
            "2. Similarity: 0.9358 - Label: Positive\n",
            "   Text: This film was fantastic. The acting was incredible and the story kept me engaged throughout....\n",
            "\n",
            "3. Similarity: 0.9358 - Label: Positive\n",
            "   Text: This film was fantastic. The acting was incredible and the story kept me engaged throughout....\n",
            "\n",
            "\n",
            "--- Zero-shot Classification Example ---\n"
          ]
        },
        {
          "output_type": "stream",
          "name": "stderr",
          "text": [
            "Extracting BERT embeddings: 100%|██████████| 1/1 [00:00<00:00, 57.42it/s]\n",
            "Extracting BERT embeddings: 100%|██████████| 1/1 [00:00<00:00, 55.48it/s]\n"
          ]
        },
        {
          "output_type": "display_data",
          "data": {
            "text/plain": [
              "<Figure size 1000x800 with 2 Axes>"
            ],
            "image/png": "[encoded data removed]"
          },
          "metadata": {}
        },
        {
          "output_type": "stream",
          "name": "stdout",
          "text": [
            "Zero-shot classification results:\n",
            "Text 1: Full of explosions, car chases, and fight sequence...\n",
            "Predicted category: Horror movie\n",
            "Confidence scores: [0.498 0.483 0.573 0.573 0.444]\n",
            "\n",
            "Text 2: This hilarious film had the audience laughing thro...\n",
            "Predicted category: Science fiction\n",
            "Confidence scores: [0.491 0.559 0.611 0.612 0.555]\n",
            "\n",
            "Text 3: A terrifying experience that will keep you on the ...\n",
            "Predicted category: Horror movie\n",
            "Confidence scores: [0.406 0.407 0.574 0.57  0.47 ]\n",
            "\n",
            "Text 4: Set in a dystopian future with advanced technology...\n",
            "Predicted category: Science fiction\n",
            "Confidence scores: [0.347 0.306 0.423 0.508 0.332]\n",
            "\n",
            "Text 5: An emotional journey that explores complex human r...\n",
            "Predicted category: Horror movie\n",
            "Confidence scores: [0.344 0.358 0.369 0.368 0.341]\n",
            "\n",
            "\n",
            "BERT encodings effectively capture semantic meaning across various NLP tasks.\n",
            "The same underlying embeddings can be used for multiple applications such as:\n",
            "1. Text Classification (as demonstrated with sentiment analysis)\n",
            "2. Clustering (finding patterns without labels)\n",
            "3. Semantic Search (finding similar texts)\n",
            "4. Zero-shot Classification (categorizing text without specific training)\n",
            "5. And many other tasks: question answering, named entity recognition, etc.\n"
          ]
        }
      ]
    }
  ]
}