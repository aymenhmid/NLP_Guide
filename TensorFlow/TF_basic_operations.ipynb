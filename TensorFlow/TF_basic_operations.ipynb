{
  "nbformat": 4,
  "nbformat_minor": 0,
  "metadata": {
    "colab": {
      "provenance": [],
      "authorship_tag": "ABX9TyMKv33XkeMX6nftq8S6y5w2",
      "include_colab_link": true
    },
    "kernelspec": {
      "name": "python3",
      "display_name": "Python 3"
    },
    "language_info": {
      "name": "python"
    }
  },
  "cells": [
    {
      "cell_type": "markdown",
      "metadata": {
        "id": "view-in-github",
        "colab_type": "text"
      },
      "source": [
        "<a href=\"https://colab.research.google.com/github/aymenhmid/NLP_Guide/blob/main/TensorFlow/TF_basic_operations.ipynb\" target=\"_parent\"><img src=\"https://colab.research.google.com/assets/colab-badge.svg\" alt=\"Open In Colab\"/></a>"
      ]
    },
    {
      "cell_type": "markdown",
      "source": [
        "# TensorFlow Basic Operations\n",
        "\n",
        "## Introduction\n",
        "This notebook covers basic operations in TensorFlow, including:\n",
        "- Tensor creation (constants, variables)\n",
        "- Mathematical operations\n",
        "- Matrix multiplication\n",
        "- Using placeholders (legacy TF1) vs eager execution (TF2)\n",
        "- Automatic differentiation with `tf.GradientTape`\n",
        "\n",
        "## Installation\n",
        "!pip install tensorflow"
      ],
      "metadata": {
        "id": "lfO5vD80Xhaz"
      }
    },
    {
      "cell_type": "code",
      "source": [
        "import tensorflow as tf\n",
        "print(\"TensorFlow version:\", tf.__version__)"
      ],
      "metadata": {
        "colab": {
          "base_uri": "https://localhost:8080/"
        },
        "id": "RsKXwbnmXzXL",
        "outputId": "a7d033c7-600c-488e-83e4-887fac1423f8"
      },
      "execution_count": 1,
      "outputs": [
        {
          "output_type": "stream",
          "name": "stdout",
          "text": [
            "TensorFlow version: 2.18.0\n"
          ]
        }
      ]
    },
    {
      "cell_type": "markdown",
      "source": [
        "##Basic Tensors"
      ],
      "metadata": {
        "id": "BuO0Q8zcX-nr"
      }
    },
    {
      "cell_type": "code",
      "source": [
        "## Constants\n",
        "# Create scalar\n",
        "scalar = tf.constant(7)\n",
        "print(\"Scalar:\", scalar.numpy())\n",
        "\n",
        "# Create vector\n",
        "vector = tf.constant([10, 10])\n",
        "print(\"Vector:\", vector.numpy())\n",
        "\n",
        "# Create matrix\n",
        "matrix = tf.constant([[1, 2], [3, 4]], dtype=tf.float32)\n",
        "print(\"Matrix:\\n\", matrix.numpy())\n",
        "\n",
        "# Create 3D tensor\n",
        "tensor_3d = tf.constant([[[1, 2], [3, 4]], [[5, 6], [7, 8]]], dtype=tf.int32)\n",
        "print(\"3D Tensor:\\n\", tensor_3d.numpy())\n",
        "#################################################################################\n",
        "## Variable\n",
        "# Create variable\n",
        "variable = tf.Variable([[1.0, 2.0], [3.0, 4.0]])\n",
        "print(\"Variable:\\n\", variable.numpy())\n",
        "\n",
        "# Modify variable\n",
        "variable.assign([[5.0, 6.0], [7.0, 8.0]])\n",
        "print(\"Modified Variable:\\n\", variable.numpy())"
      ],
      "metadata": {
        "colab": {
          "base_uri": "https://localhost:8080/"
        },
        "id": "wRkDSHcTYAbs",
        "outputId": "f666d6d9-91ff-41fb-f93e-c6251c75ee8f"
      },
      "execution_count": 2,
      "outputs": [
        {
          "output_type": "stream",
          "name": "stdout",
          "text": [
            "Scalar: 7\n",
            "Vector: [10 10]\n",
            "Matrix:\n",
            " [[1. 2.]\n",
            " [3. 4.]]\n",
            "3D Tensor:\n",
            " [[[1 2]\n",
            "  [3 4]]\n",
            "\n",
            " [[5 6]\n",
            "  [7 8]]]\n",
            "Variable:\n",
            " [[1. 2.]\n",
            " [3. 4.]]\n",
            "Modified Variable:\n",
            " [[5. 6.]\n",
            " [7. 8.]]\n"
          ]
        }
      ]
    },
    {
      "cell_type": "markdown",
      "source": [
        "##Basic Operations"
      ],
      "metadata": {
        "id": "Osl2hIgLYVva"
      }
    },
    {
      "cell_type": "code",
      "source": [
        "a = tf.constant(5)\n",
        "b = tf.constant(3)\n",
        "\n",
        "# Arithmetic operations\n",
        "add = tf.add(a, b)\n",
        "sub = tf.subtract(a, b)\n",
        "mul = tf.multiply(a, b)\n",
        "div = tf.divide(a, b)\n",
        "\n",
        "print(f\"Add: {add.numpy()}, Sub: {sub.numpy()}, Mul: {mul.numpy()}, Div: {div.numpy()}\")"
      ],
      "metadata": {
        "colab": {
          "base_uri": "https://localhost:8080/"
        },
        "id": "8jwm95O-YYZA",
        "outputId": "a758525b-3ef5-460b-ea49-dc11b4180734"
      },
      "execution_count": 3,
      "outputs": [
        {
          "output_type": "stream",
          "name": "stdout",
          "text": [
            "Add: 8, Sub: 2, Mul: 15, Div: 1.6666666666666667\n"
          ]
        }
      ]
    },
    {
      "cell_type": "code",
      "source": [
        "## MAtrix Multiplication\n",
        "a = tf.constant(5)\n",
        "b = tf.constant(3)\n",
        "\n",
        "# Arithmetic operations\n",
        "add = tf.add(a, b)\n",
        "sub = tf.subtract(a, b)\n",
        "mul = tf.multiply(a, b)\n",
        "div = tf.divide(a, b)\n",
        "\n",
        "print(f\"Add: {add.numpy()}, Sub: {sub.numpy()}, Mul: {mul.numpy()}, Div: {div.numpy()}\")"
      ],
      "metadata": {
        "colab": {
          "base_uri": "https://localhost:8080/"
        },
        "id": "6Y_rLwmgYdWb",
        "outputId": "c986244a-e8b6-43b2-8401-f3728ceaf6c7"
      },
      "execution_count": 4,
      "outputs": [
        {
          "output_type": "stream",
          "name": "stdout",
          "text": [
            "Add: 8, Sub: 2, Mul: 15, Div: 1.6666666666666667\n"
          ]
        }
      ]
    },
    {
      "cell_type": "markdown",
      "source": [
        "## Eager Execution vs Graph Mode (Legacy)"
      ],
      "metadata": {
        "id": "yToYic1QYqTl"
      }
    },
    {
      "cell_type": "code",
      "source": [
        "##TF2 Eager Execution (Default)\n",
        "# Operations run immediately\n",
        "x = tf.constant(3)\n",
        "y = tf.constant(5)\n",
        "print(\"Eager execution result:\", (x + y).numpy())"
      ],
      "metadata": {
        "colab": {
          "base_uri": "https://localhost:8080/"
        },
        "id": "Kptp-M3NYrTw",
        "outputId": "8606e181-e5ef-4930-cb34-e69da914787a"
      },
      "execution_count": 5,
      "outputs": [
        {
          "output_type": "stream",
          "name": "stdout",
          "text": [
            "Eager execution result: 8\n"
          ]
        }
      ]
    },
    {
      "cell_type": "code",
      "source": [
        "##Legacy TF1 Placeholder/Session (for reference)\n",
        "# Only needed for legacy code\n",
        "import tensorflow.compat.v1 as tf1\n",
        "tf1.disable_eager_execution()\n",
        "\n",
        "# Create placeholder\n",
        "ph = tf1.placeholder(tf.int32, shape=(2,))\n",
        "a = tf1.constant([5, 3])\n",
        "result = a + ph\n",
        "\n",
        "# Run in session\n",
        "with tf1.Session() as sess:\n",
        "    print(\"TF1 session result:\", sess.run(result, feed_dict={ph: [2, 4]}))"
      ],
      "metadata": {
        "colab": {
          "base_uri": "https://localhost:8080/"
        },
        "id": "KEYim4mtZECi",
        "outputId": "02b85f6f-207a-4c4e-d11c-70753abce67c"
      },
      "execution_count": 6,
      "outputs": [
        {
          "output_type": "stream",
          "name": "stdout",
          "text": [
            "TF1 session result: [7 7]\n"
          ]
        }
      ]
    },
    {
      "cell_type": "code",
      "source": [
        "print(\"TensorFlow version:\", tf.__version__)"
      ],
      "metadata": {
        "colab": {
          "base_uri": "https://localhost:8080/"
        },
        "id": "VUEiEcALauOI",
        "outputId": "558c8525-910b-40b0-836b-11ad6a7f80b0"
      },
      "execution_count": 7,
      "outputs": [
        {
          "output_type": "stream",
          "name": "stdout",
          "text": [
            "TensorFlow version: 2.18.0\n"
          ]
        }
      ]
    },
    {
      "cell_type": "markdown",
      "source": [
        "### Automatic Differentiation"
      ],
      "metadata": {
        "id": "tvrwoSSfZIyr"
      }
    },
    {
      "cell_type": "code",
      "source": [
        "tf.config.run_functions_eagerly(True)\n",
        "\n",
        "# Enable eager execution (TF2 does this by default)\n",
        "# Define a scalar variable\n",
        "x = tf.Variable(3.0)\n",
        "\n",
        "# Record operations for automatic differentiation\n",
        "with tf.GradientTape() as tape:\n",
        "    y = x**2  # y = x^2\n",
        "\n",
        "# Compute dy/dx\n",
        "dy_dx = tape.gradient(y, x)\n",
        "\n",
        "\n",
        "with tf.compat.v1.Session() as sess: # Create a TensorFlow session\n",
        "    sess.run(tf.compat.v1.global_variables_initializer()) # Initialize variables\n",
        "    x_val, y_val, dy_dx_val = sess.run([x, y, dy_dx]) # Evaluate the tensors\n",
        "    print(f\"x = {x_val}, y = x^2 = {y_val}, dy/dx = {dy_dx_val}\")"
      ],
      "metadata": {
        "colab": {
          "base_uri": "https://localhost:8080/"
        },
        "collapsed": true,
        "id": "jv91NlQuZJN8",
        "outputId": "adef26ef-e3df-4510-e088-41ea4346e9f6"
      },
      "execution_count": 13,
      "outputs": [
        {
          "output_type": "stream",
          "name": "stdout",
          "text": [
            "x = 3.0, y = x^2 = 9.0, dy/dx = 6.0\n"
          ]
        }
      ]
    },
    {
      "cell_type": "markdown",
      "source": [
        "### Tensor and Numpy Interoperability"
      ],
      "metadata": {
        "id": "kEz_7RkRZdDj"
      }
    },
    {
      "cell_type": "code",
      "source": [
        "import tensorflow as tf\n",
        "\n",
        "@tf.function\n",
        "def run():\n",
        "    tensor = tf.constant([1, 2, 3])\n",
        "    tf.print(\"Tensor to NumPy:\", tensor)\n",
        "\n",
        "    # NumPy to Tensor\n",
        "    new_tensor = tf.constant([10, 20, 30])\n",
        "    tf.print(\"NumPy to Tensor:\", new_tensor)\n",
        "\n",
        "run()\n",
        "\n"
      ],
      "metadata": {
        "id": "Oq6PPDZiZfP7"
      },
      "execution_count": 18,
      "outputs": []
    }
  ]
}