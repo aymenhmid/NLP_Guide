{
  "nbformat": 4,
  "nbformat_minor": 0,
  "metadata": {
    "colab": {
      "provenance": [],
      "authorship_tag": "ABX9TyMOInyX23DWevdaFBJghzAI",
      "include_colab_link": true
    },
    "kernelspec": {
      "name": "python3",
      "display_name": "Python 3"
    },
    "language_info": {
      "name": "python"
    }
  },
  "cells": [
    {
      "cell_type": "markdown",
      "metadata": {
        "id": "view-in-github",
        "colab_type": "text"
      },
      "source": [
        "<a href=\"https://colab.research.google.com/github/aymenhmid/NLP_Guide/blob/main/TensorFlow/Tensorflow_sheet.ipynb\" target=\"_parent\"><img src=\"https://colab.research.google.com/assets/colab-badge.svg\" alt=\"Open In Colab\"/></a>"
      ]
    },
    {
      "cell_type": "markdown",
      "source": [
        "# TensorFlow Cheat Sheet\n",
        "\n",
        "## Core Concepts\n",
        "\n",
        "### Tensors\n",
        "- **tf.constant(value)**: Creates a constant tensor\n",
        "- **tf.Variable(value)**: Creates a variable tensor that can be modified\n",
        "- **tf.convert_to_tensor(value)**: Converts Python objects to tensors\n",
        "- **tf.cast(tensor, dtype)**: Casts a tensor to a new type\n",
        "\n",
        "### Tensor Operations\n",
        "- **tf.add(x, y)**, **x + y**: Element-wise addition\n",
        "- **tf.subtract(x, y)**, **x - y**: Element-wise subtraction\n",
        "- **tf.multiply(x, y)**, **x * y**: Element-wise multiplication\n",
        "- **tf.divide(x, y)**, **x / y**: Element-wise division\n",
        "- **tf.matmul(x, y)**, **x @ y**: Matrix multiplication\n",
        "- **tf.reduce_mean(tensor)**: Compute mean across dimensions\n",
        "- **tf.reduce_sum(tensor)**: Compute sum across dimensions\n",
        "- **tf.transpose(tensor)**: Transpose a tensor\n",
        "\n",
        "### Tensor Shapes\n",
        "- **tensor.shape**: Get shape of tensor\n",
        "- **tf.reshape(tensor, shape)**: Reshape tensor\n",
        "- **tf.squeeze(tensor)**: Remove dimensions of size 1\n",
        "- **tf.expand_dims(tensor, axis)**: Add a dimension\n",
        "- **tf.concat([tensor1, tensor2], axis)**: Concatenate tensors\n",
        "- **tf.stack([tensor1, tensor2], axis)**: Stack tensors\n",
        "\n",
        "### Data Handling\n",
        "- **tf.data.Dataset.from_tensor_slices(data)**: Create dataset from tensors\n",
        "- **dataset.batch(batch_size)**: Create batches from dataset\n",
        "- **dataset.shuffle(buffer_size)**: Shuffle dataset\n",
        "- **dataset.repeat(count)**: Repeat dataset\n",
        "- **dataset.prefetch(buffer_size)**: Prefetch data for performance\n",
        "\n",
        "## Neural Networks\n",
        "\n",
        "### Layers\n",
        "- **tf.keras.layers.Dense(units, activation)**: Fully connected layer\n",
        "- **tf.keras.layers.Conv2D(filters, kernel_size, strides, padding)**: 2D convolution\n",
        "- **tf.keras.layers.MaxPool2D(pool_size, strides, padding)**: Max pooling\n",
        "- **tf.keras.layers.Flatten()**: Flatten input\n",
        "- **tf.keras.layers.Dropout(rate)**: Dropout for regularization\n",
        "- **tf.keras.layers.BatchNormalization()**: Batch normalization\n",
        "- **tf.keras.layers.LSTM(units)**: Long Short-Term Memory layer\n",
        "- **tf.keras.layers.Embedding(input_dim, output_dim)**: Embedding layer\n",
        "\n",
        "### Models\n",
        "- **tf.keras.Sequential([layers])**: Sequential model\n",
        "- **tf.keras.Model(inputs, outputs)**: Functional API model\n",
        "- **model.compile(optimizer, loss, metrics)**: Configure model for training\n",
        "- **model.fit(x, y, epochs, batch_size)**: Train model\n",
        "- **model.evaluate(x, y)**: Evaluate model\n",
        "- **model.predict(x)**: Generate predictions\n",
        "- **model.summary()**: Print model summary\n",
        "- **model.save(path)**, **tf.keras.models.save_model(model, path)**: Save model\n",
        "- **tf.keras.models.load_model(path)**: Load saved model\n",
        "\n",
        "### Loss Functions\n",
        "- **tf.keras.losses.BinaryCrossentropy()**: Binary classification loss\n",
        "- **tf.keras.losses.CategoricalCrossentropy()**: Multi-class classification loss\n",
        "- **tf.keras.losses.SparseCategoricalCrossentropy()**: Multi-class with integer labels\n",
        "- **tf.keras.losses.MeanSquaredError()**: Regression loss\n",
        "\n",
        "### Optimizers\n",
        "- **tf.keras.optimizers.Adam(learning_rate)**: Adam optimizer\n",
        "- **tf.keras.optimizers.SGD(learning_rate)**: Stochastic gradient descent\n",
        "- **tf.keras.optimizers.RMSprop(learning_rate)**: RMSprop optimizer\n",
        "\n",
        "### Activations\n",
        "- **tf.nn.relu(tensor)**: ReLU activation\n",
        "- **tf.nn.sigmoid(tensor)**: Sigmoid activation\n",
        "- **tf.nn.softmax(tensor)**: Softmax activation\n",
        "- **tf.nn.tanh(tensor)**: Tanh activation\n",
        "\n",
        "### Regularization\n",
        "- **tf.keras.regularizers.l1(l)**: L1 regularization\n",
        "- **tf.keras.regularizers.l2(l)**: L2 regularization\n",
        "- **tf.keras.regularizers.l1_l2(l1, l2)**: L1 and L2 regularization\n",
        "\n",
        "## Custom Training\n",
        "\n",
        "### Gradients\n",
        "- **with tf.GradientTape() as tape:** Context for auto differentiation\n",
        "- **tape.gradient(target, sources)**: Compute gradients\n",
        "- **optimizer.apply_gradients(zip(grads, vars))**: Apply gradients\n",
        "\n",
        "### Metrics\n",
        "- **tf.keras.metrics.Accuracy()**: Accuracy metric\n",
        "- **tf.keras.metrics.Precision()**: Precision metric\n",
        "- **tf.keras.metrics.Recall()**: Recall metric\n",
        "- **metric.update_state(y_true, y_pred)**: Update metric state\n",
        "- **metric.result()**: Get current result\n",
        "- **metric.reset_states()**: Reset metric state\n",
        "\n",
        "## Callbacks\n",
        "- **tf.keras.callbacks.ModelCheckpoint(filepath)**: Save checkpoints\n",
        "- **tf.keras.callbacks.EarlyStopping(monitor, patience)**: Stop training early\n",
        "- **tf.keras.callbacks.TensorBoard(log_dir)**: TensorBoard visualization\n",
        "- **tf.keras.callbacks.ReduceLROnPlateau(monitor, factor)**: Learning rate scheduling\n",
        "\n",
        "## Saving & Loading\n",
        "- **tf.saved_model.save(model, path)**: Save a SavedModel\n",
        "- **tf.saved_model.load(path)**: Load a SavedModel\n",
        "- **tf.io.write_file(filename, contents)**: Write to file\n",
        "- **tf.io.read_file(filename)**: Read from file\n",
        "\n",
        "## TensorFlow Hub\n",
        "- **hub_layer = hub.KerasLayer(handle)**: Load pre-trained models\n",
        "- **model = tf.keras.Sequential([hub_layer, ...])**: Use in models"
      ],
      "metadata": {
        "id": "5ipC_tBER-TZ"
      }
    },
    {
      "cell_type": "markdown",
      "source": [
        "## Implementation Example: MNIST Classification:"
      ],
      "metadata": {
        "id": "sN_c20K0SDbd"
      }
    },
    {
      "cell_type": "code",
      "source": [
        "# MNIST Classification with TensorFlow\n",
        "\n",
        "## 1. Setup and Data Loading\n",
        "\n",
        "import tensorflow as tf\n",
        "import matplotlib.pyplot as plt\n",
        "\n",
        "# Load MNIST dataset\n",
        "mnist = tf.keras.datasets.mnist\n",
        "(x_train, y_train), (x_test, y_test) = mnist.load_data()\n",
        "\n",
        "# Normalize pixel values to [0, 1]\n",
        "x_train, x_test = x_train / 255.0, x_test / 255.0\n",
        "\n",
        "print(\"Training data shape:\", x_train.shape)\n",
        "print(\"Test data shape:\", x_test.shape)"
      ],
      "metadata": {
        "colab": {
          "base_uri": "https://localhost:8080/"
        },
        "id": "8UH-wsgXhc-G",
        "outputId": "95aa46c8-f724-478e-b458-c6b9f8d58789"
      },
      "execution_count": 7,
      "outputs": [
        {
          "output_type": "stream",
          "name": "stdout",
          "text": [
            "Training data shape: (60000, 28, 28)\n",
            "Test data shape: (10000, 28, 28)\n"
          ]
        }
      ]
    },
    {
      "cell_type": "code",
      "source": [
        "plt.figure(figsize=(10, 10))\n",
        "for i in range(25):\n",
        "    plt.subplot(5, 5, i+1)\n",
        "    plt.imshow(x_train[i], cmap=plt.cm.binary)\n",
        "    plt.title(f\"Label: {y_train[i]}\")\n",
        "    plt.axis('off')\n",
        "plt.show()"
      ],
      "metadata": {
        "colab": {
          "base_uri": "https://localhost:8080/",
          "height": 829
        },
        "id": "r7_W6rvwhhm2",
        "outputId": "2087719d-d7ba-4823-f584-ed1a1b67d7bf"
      },
      "execution_count": 8,
      "outputs": [
        {
          "output_type": "display_data",
          "data": {
            "text/plain": [
              "<Figure size 1000x1000 with 25 Axes>"
            ],
            "image/png": "[encoded data removed]"
          },
          "metadata": {}
        }
      ]
    },
    {
      "cell_type": "code",
      "source": [
        "model = tf.keras.Sequential([\n",
        "    tf.keras.layers.Flatten(input_shape=(28, 28)),  # Convert 28x28 image to 784D vector\n",
        "    tf.keras.layers.Dense(128, activation='relu'),   # Hidden layer with 128 units\n",
        "    tf.keras.layers.Dropout(0.2),                    # Regularization\n",
        "    tf.keras.layers.Dense(10)                        # Output layer with 10 units (0-9)\n",
        "])\n",
        "\n",
        "model.compile(optimizer='adam',\n",
        "              loss=tf.keras.losses.SparseCategoricalCrossentropy(from_logits=True),\n",
        "              metrics=['accuracy'])\n",
        "\n",
        "model.summary()"
      ],
      "metadata": {
        "colab": {
          "base_uri": "https://localhost:8080/",
          "height": 324
        },
        "id": "rLe36aBchlIk",
        "outputId": "1f7adfc5-ed18-4c74-a517-0f5e5afc1065"
      },
      "execution_count": 9,
      "outputs": [
        {
          "output_type": "stream",
          "name": "stderr",
          "text": [
            "/usr/local/lib/python3.11/dist-packages/keras/src/layers/reshaping/flatten.py:37: UserWarning: Do not pass an `input_shape`/`input_dim` argument to a layer. When using Sequential models, prefer using an `Input(shape)` object as the first layer in the model instead.\n",
            "  super().__init__(**kwargs)\n"
          ]
        },
        {
          "output_type": "display_data",
          "data": {
            "text/plain": [
              "\u001b[1mModel: \"sequential_8\"\u001b[0m\n"
            ],
            "text/html": [
              "<pre style=\"white-space:pre;overflow-x:auto;line-height:normal;font-family:Menlo,'DejaVu Sans Mono',consolas,'Courier New',monospace\"><span style=\"font-weight: bold\">Model: \"sequential_8\"</span>\n",
              "</pre>\n"
            ]
          },
          "metadata": {}
        },
        {
          "output_type": "display_data",
          "data": {
            "text/plain": [
              "┏━━━━━━━━━━━━━━━━━━━━━━━━━━━━━━━━━┳━━━━━━━━━━━━━━━━━━━━━━━━┳━━━━━━━━━━━━━━━┓\n",
              "┃\u001b[1m \u001b[0m\u001b[1mLayer (type)                   \u001b[0m\u001b[1m \u001b[0m┃\u001b[1m \u001b[0m\u001b[1mOutput Shape          \u001b[0m\u001b[1m \u001b[0m┃\u001b[1m \u001b[0m\u001b[1m      Param #\u001b[0m\u001b[1m \u001b[0m┃\n",
              "┡━━━━━━━━━━━━━━━━━━━━━━━━━━━━━━━━━╇━━━━━━━━━━━━━━━━━━━━━━━━╇━━━━━━━━━━━━━━━┩\n",
              "│ flatten_7 (\u001b[38;5;33mFlatten\u001b[0m)             │ (\u001b[38;5;45mNone\u001b[0m, \u001b[38;5;34m784\u001b[0m)            │             \u001b[38;5;34m0\u001b[0m │\n",
              "├─────────────────────────────────┼────────────────────────┼───────────────┤\n",
              "│ dense_14 (\u001b[38;5;33mDense\u001b[0m)                │ (\u001b[38;5;45mNone\u001b[0m, \u001b[38;5;34m128\u001b[0m)            │       \u001b[38;5;34m100,480\u001b[0m │\n",
              "├─────────────────────────────────┼────────────────────────┼───────────────┤\n",
              "│ dropout_4 (\u001b[38;5;33mDropout\u001b[0m)             │ (\u001b[38;5;45mNone\u001b[0m, \u001b[38;5;34m128\u001b[0m)            │             \u001b[38;5;34m0\u001b[0m │\n",
              "├─────────────────────────────────┼────────────────────────┼───────────────┤\n",
              "│ dense_15 (\u001b[38;5;33mDense\u001b[0m)                │ (\u001b[38;5;45mNone\u001b[0m, \u001b[38;5;34m10\u001b[0m)             │         \u001b[38;5;34m1,290\u001b[0m │\n",
              "└─────────────────────────────────┴────────────────────────┴───────────────┘\n"
            ],
            "text/html": [
              "<pre style=\"white-space:pre;overflow-x:auto;line-height:normal;font-family:Menlo,'DejaVu Sans Mono',consolas,'Courier New',monospace\">┏━━━━━━━━━━━━━━━━━━━━━━━━━━━━━━━━━┳━━━━━━━━━━━━━━━━━━━━━━━━┳━━━━━━━━━━━━━━━┓\n",
              "┃<span style=\"font-weight: bold\"> Layer (type)                    </span>┃<span style=\"font-weight: bold\"> Output Shape           </span>┃<span style=\"font-weight: bold\">       Param # </span>┃\n",
              "┡━━━━━━━━━━━━━━━━━━━━━━━━━━━━━━━━━╇━━━━━━━━━━━━━━━━━━━━━━━━╇━━━━━━━━━━━━━━━┩\n",
              "│ flatten_7 (<span style=\"color: #0087ff; text-decoration-color: #0087ff\">Flatten</span>)             │ (<span style=\"color: #00d7ff; text-decoration-color: #00d7ff\">None</span>, <span style=\"color: #00af00; text-decoration-color: #00af00\">784</span>)            │             <span style=\"color: #00af00; text-decoration-color: #00af00\">0</span> │\n",
              "├─────────────────────────────────┼────────────────────────┼───────────────┤\n",
              "│ dense_14 (<span style=\"color: #0087ff; text-decoration-color: #0087ff\">Dense</span>)                │ (<span style=\"color: #00d7ff; text-decoration-color: #00d7ff\">None</span>, <span style=\"color: #00af00; text-decoration-color: #00af00\">128</span>)            │       <span style=\"color: #00af00; text-decoration-color: #00af00\">100,480</span> │\n",
              "├─────────────────────────────────┼────────────────────────┼───────────────┤\n",
              "│ dropout_4 (<span style=\"color: #0087ff; text-decoration-color: #0087ff\">Dropout</span>)             │ (<span style=\"color: #00d7ff; text-decoration-color: #00d7ff\">None</span>, <span style=\"color: #00af00; text-decoration-color: #00af00\">128</span>)            │             <span style=\"color: #00af00; text-decoration-color: #00af00\">0</span> │\n",
              "├─────────────────────────────────┼────────────────────────┼───────────────┤\n",
              "│ dense_15 (<span style=\"color: #0087ff; text-decoration-color: #0087ff\">Dense</span>)                │ (<span style=\"color: #00d7ff; text-decoration-color: #00d7ff\">None</span>, <span style=\"color: #00af00; text-decoration-color: #00af00\">10</span>)             │         <span style=\"color: #00af00; text-decoration-color: #00af00\">1,290</span> │\n",
              "└─────────────────────────────────┴────────────────────────┴───────────────┘\n",
              "</pre>\n"
            ]
          },
          "metadata": {}
        },
        {
          "output_type": "display_data",
          "data": {
            "text/plain": [
              "\u001b[1m Total params: \u001b[0m\u001b[38;5;34m101,770\u001b[0m (397.54 KB)\n"
            ],
            "text/html": [
              "<pre style=\"white-space:pre;overflow-x:auto;line-height:normal;font-family:Menlo,'DejaVu Sans Mono',consolas,'Courier New',monospace\"><span style=\"font-weight: bold\"> Total params: </span><span style=\"color: #00af00; text-decoration-color: #00af00\">101,770</span> (397.54 KB)\n",
              "</pre>\n"
            ]
          },
          "metadata": {}
        },
        {
          "output_type": "display_data",
          "data": {
            "text/plain": [
              "\u001b[1m Trainable params: \u001b[0m\u001b[38;5;34m101,770\u001b[0m (397.54 KB)\n"
            ],
            "text/html": [
              "<pre style=\"white-space:pre;overflow-x:auto;line-height:normal;font-family:Menlo,'DejaVu Sans Mono',consolas,'Courier New',monospace\"><span style=\"font-weight: bold\"> Trainable params: </span><span style=\"color: #00af00; text-decoration-color: #00af00\">101,770</span> (397.54 KB)\n",
              "</pre>\n"
            ]
          },
          "metadata": {}
        },
        {
          "output_type": "display_data",
          "data": {
            "text/plain": [
              "\u001b[1m Non-trainable params: \u001b[0m\u001b[38;5;34m0\u001b[0m (0.00 B)\n"
            ],
            "text/html": [
              "<pre style=\"white-space:pre;overflow-x:auto;line-height:normal;font-family:Menlo,'DejaVu Sans Mono',consolas,'Courier New',monospace\"><span style=\"font-weight: bold\"> Non-trainable params: </span><span style=\"color: #00af00; text-decoration-color: #00af00\">0</span> (0.00 B)\n",
              "</pre>\n"
            ]
          },
          "metadata": {}
        }
      ]
    },
    {
      "cell_type": "code",
      "source": [
        "history = model.fit(x_train, y_train,\n",
        "                    epochs=10,\n",
        "                    validation_split=0.2,\n",
        "                    batch_size=32)"
      ],
      "metadata": {
        "colab": {
          "base_uri": "https://localhost:8080/"
        },
        "id": "E9tad7Dhhq7F",
        "outputId": "bcd903ee-edb8-4454-cee7-b88ca91619be"
      },
      "execution_count": 10,
      "outputs": [
        {
          "output_type": "stream",
          "name": "stdout",
          "text": [
            "Epoch 1/10\n",
            "\u001b[1m1500/1500\u001b[0m \u001b[32m━━━━━━━━━━━━━━━━━━━━\u001b[0m\u001b[37m\u001b[0m \u001b[1m8s\u001b[0m 4ms/step - accuracy: 0.8428 - loss: 0.5338 - val_accuracy: 0.9517 - val_loss: 0.1657\n",
            "Epoch 2/10\n",
            "\u001b[1m1500/1500\u001b[0m \u001b[32m━━━━━━━━━━━━━━━━━━━━\u001b[0m\u001b[37m\u001b[0m \u001b[1m11s\u001b[0m 5ms/step - accuracy: 0.9513 - loss: 0.1662 - val_accuracy: 0.9663 - val_loss: 0.1156\n",
            "Epoch 3/10\n",
            "\u001b[1m1500/1500\u001b[0m \u001b[32m━━━━━━━━━━━━━━━━━━━━\u001b[0m\u001b[37m\u001b[0m \u001b[1m11s\u001b[0m 6ms/step - accuracy: 0.9639 - loss: 0.1213 - val_accuracy: 0.9697 - val_loss: 0.1014\n",
            "Epoch 4/10\n",
            "\u001b[1m1500/1500\u001b[0m \u001b[32m━━━━━━━━━━━━━━━━━━━━\u001b[0m\u001b[37m\u001b[0m \u001b[1m8s\u001b[0m 4ms/step - accuracy: 0.9705 - loss: 0.0959 - val_accuracy: 0.9718 - val_loss: 0.0934\n",
            "Epoch 5/10\n",
            "\u001b[1m1500/1500\u001b[0m \u001b[32m━━━━━━━━━━━━━━━━━━━━\u001b[0m\u001b[37m\u001b[0m \u001b[1m7s\u001b[0m 5ms/step - accuracy: 0.9771 - loss: 0.0777 - val_accuracy: 0.9746 - val_loss: 0.0845\n",
            "Epoch 6/10\n",
            "\u001b[1m1500/1500\u001b[0m \u001b[32m━━━━━━━━━━━━━━━━━━━━\u001b[0m\u001b[37m\u001b[0m \u001b[1m6s\u001b[0m 4ms/step - accuracy: 0.9797 - loss: 0.0662 - val_accuracy: 0.9760 - val_loss: 0.0773\n",
            "Epoch 7/10\n",
            "\u001b[1m1500/1500\u001b[0m \u001b[32m━━━━━━━━━━━━━━━━━━━━\u001b[0m\u001b[37m\u001b[0m \u001b[1m7s\u001b[0m 5ms/step - accuracy: 0.9828 - loss: 0.0564 - val_accuracy: 0.9768 - val_loss: 0.0785\n",
            "Epoch 8/10\n",
            "\u001b[1m1500/1500\u001b[0m \u001b[32m━━━━━━━━━━━━━━━━━━━━\u001b[0m\u001b[37m\u001b[0m \u001b[1m7s\u001b[0m 4ms/step - accuracy: 0.9825 - loss: 0.0537 - val_accuracy: 0.9770 - val_loss: 0.0764\n",
            "Epoch 9/10\n",
            "\u001b[1m1500/1500\u001b[0m \u001b[32m━━━━━━━━━━━━━━━━━━━━\u001b[0m\u001b[37m\u001b[0m \u001b[1m7s\u001b[0m 4ms/step - accuracy: 0.9855 - loss: 0.0469 - val_accuracy: 0.9794 - val_loss: 0.0738\n",
            "Epoch 10/10\n",
            "\u001b[1m1500/1500\u001b[0m \u001b[32m━━━━━━━━━━━━━━━━━━━━\u001b[0m\u001b[37m\u001b[0m \u001b[1m7s\u001b[0m 5ms/step - accuracy: 0.9854 - loss: 0.0443 - val_accuracy: 0.9782 - val_loss: 0.0765\n"
          ]
        }
      ]
    },
    {
      "cell_type": "code",
      "source": [
        "# Plot training history\n",
        "plt.plot(history.history['accuracy'], label='accuracy')\n",
        "plt.plot(history.history['val_accuracy'], label='val_accuracy')\n",
        "plt.xlabel('Epoch')\n",
        "plt.ylabel('Accuracy')\n",
        "plt.ylim([0.5, 1])\n",
        "plt.legend(loc='lower right')\n",
        "plt.show()\n",
        "\n",
        "# Evaluate on test set\n",
        "test_loss, test_acc = model.evaluate(x_test, y_test, verbose=2)\n",
        "print(f\"\\nTest accuracy: {test_acc*100:.2f}%\")"
      ],
      "metadata": {
        "colab": {
          "base_uri": "https://localhost:8080/",
          "height": 510
        },
        "id": "2s9wQce2huca",
        "outputId": "c806f12d-77e2-48a6-e934-055b61711e69"
      },
      "execution_count": 11,
      "outputs": [
        {
          "output_type": "display_data",
          "data": {
            "text/plain": [
              "<Figure size 640x480 with 1 Axes>"
            ],
            "image/png": "[encoded data removed]"
          },
          "metadata": {}
        },
        {
          "output_type": "stream",
          "name": "stdout",
          "text": [
            "313/313 - 1s - 2ms/step - accuracy: 0.9799 - loss: 0.0712\n",
            "\n",
            "Test accuracy: 97.99%\n"
          ]
        }
      ]
    },
    {
      "cell_type": "code",
      "source": [
        "# Add softmax layer for probability output\n",
        "probability_model = tf.keras.Sequential([\n",
        "    model,\n",
        "    tf.keras.layers.Softmax()\n",
        "])\n",
        "\n",
        "# Predict on test samples\n",
        "predictions = probability_model.predict(x_test)\n",
        "\n",
        "# Show sample prediction\n",
        "sample_index = 0\n",
        "plt.imshow(x_test[sample_index], cmap=plt.cm.binary)\n",
        "plt.title(f\"True: {y_test[sample_index]}, Predicted: {tf.argmax(predictions[sample_index]).numpy()}\")\n",
        "plt.axis('off')\n",
        "plt.show()"
      ],
      "metadata": {
        "colab": {
          "base_uri": "https://localhost:8080/",
          "height": 485
        },
        "id": "MhKX3gQdhx9T",
        "outputId": "ec8a7160-4e4d-4719-9cca-a86c667c1a16"
      },
      "execution_count": 12,
      "outputs": [
        {
          "output_type": "stream",
          "name": "stderr",
          "text": [
            "WARNING:tensorflow:5 out of the last 5 calls to <function TensorFlowTrainer.make_predict_function.<locals>.one_step_on_data_distributed at 0x7f105fcddb20> triggered tf.function retracing. Tracing is expensive and the excessive number of tracings could be due to (1) creating @tf.function repeatedly in a loop, (2) passing tensors with different shapes, (3) passing Python objects instead of tensors. For (1), please define your @tf.function outside of the loop. For (2), @tf.function has reduce_retracing=True option that can avoid unnecessary retracing. For (3), please refer to https://www.tensorflow.org/guide/function#controlling_retracing and https://www.tensorflow.org/api_docs/python/tf/function for  more details.\n"
          ]
        },
        {
          "output_type": "stream",
          "name": "stdout",
          "text": [
            "\u001b[1m313/313\u001b[0m \u001b[32m━━━━━━━━━━━━━━━━━━━━\u001b[0m\u001b[37m\u001b[0m \u001b[1m1s\u001b[0m 1ms/step\n"
          ]
        },
        {
          "output_type": "display_data",
          "data": {
            "text/plain": [
              "<Figure size 640x480 with 1 Axes>"
            ],
            "image/png": "[encoded data removed]"
          },
          "metadata": {}
        }
      ]
    },
    {
      "cell_type": "code",
      "source": [
        "# Save model\n",
        "model.save('mnist_model.keras')\n",
        "\n",
        "# Load model\n",
        "loaded_model = tf.keras.models.load_model('mnist_model.keras')"
      ],
      "metadata": {
        "id": "vVvzJdLvh0YR"
      },
      "execution_count": 13,
      "outputs": []
    }
  ]
}